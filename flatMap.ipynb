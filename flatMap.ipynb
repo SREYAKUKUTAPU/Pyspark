{
  "nbformat": 4,
  "nbformat_minor": 0,
  "metadata": {
    "colab": {
      "provenance": [],
      "authorship_tag": "ABX9TyMnpWtEMPTgtsF1ym38LN6l",
      "include_colab_link": true
    },
    "kernelspec": {
      "name": "python3",
      "display_name": "Python 3"
    },
    "language_info": {
      "name": "python"
    }
  },
  "cells": [
    {
      "cell_type": "markdown",
      "metadata": {
        "id": "view-in-github",
        "colab_type": "text"
      },
      "source": [
        "<a href=\"https://colab.research.google.com/github/SREYAKUKUTAPU/Pyspark/blob/main/flatMap.ipynb\" target=\"_parent\"><img src=\"https://colab.research.google.com/assets/colab-badge.svg\" alt=\"Open In Colab\"/></a>"
      ]
    },
    {
      "cell_type": "code",
      "execution_count": 1,
      "metadata": {
        "id": "Mv_BwGQ_EW8w"
      },
      "outputs": [],
      "source": [
        "from pyspark.sql import SparkSession\n",
        "from pyspark.sql.types import *\n",
        "from pyspark.sql.functions import *\n",
        "spark = SparkSession.builder.appName(\"show\").getOrCreate()"
      ]
    },
    {
      "cell_type": "code",
      "source": [
        "data=[('Sreya Kukutapu'),('Minny Kukutapu')]\n",
        "rdd=spark.sparkContext.parallelize(data)"
      ],
      "metadata": {
        "id": "cu1DHi97Fp6b"
      },
      "execution_count": 6,
      "outputs": []
    },
    {
      "cell_type": "code",
      "source": [
        "for i in rdd.collect():\n",
        "  print(i)"
      ],
      "metadata": {
        "colab": {
          "base_uri": "https://localhost:8080/"
        },
        "id": "dCKO-msaLGqT",
        "outputId": "4bf24960-269f-4060-87b2-60fe16e44018"
      },
      "execution_count": 7,
      "outputs": [
        {
          "output_type": "stream",
          "name": "stdout",
          "text": [
            "Sreya Kukutapu\n",
            "Minny Kukutapu\n"
          ]
        }
      ]
    },
    {
      "cell_type": "code",
      "source": [
        "rdd1=rdd.map(lambda x:x.split(\" \"))\n",
        "for i in rdd1.collect():\n",
        "  print(i)"
      ],
      "metadata": {
        "colab": {
          "base_uri": "https://localhost:8080/"
        },
        "id": "86xck55ILb_Z",
        "outputId": "454b3859-3a38-4131-ff06-87055040d5f5"
      },
      "execution_count": 9,
      "outputs": [
        {
          "output_type": "stream",
          "name": "stdout",
          "text": [
            "['Sreya', 'Kukutapu']\n",
            "['Minny', 'Kukutapu']\n"
          ]
        }
      ]
    },
    {
      "cell_type": "code",
      "source": [
        "rdd2=rdd.flatMap(lambda x:x.split(\" \"))\n",
        "for i in rdd2.collect():\n",
        "  print(i)"
      ],
      "metadata": {
        "colab": {
          "base_uri": "https://localhost:8080/"
        },
        "id": "ueldngb0MHXS",
        "outputId": "c7fdaa86-cf21-4d82-d7d2-774859bf7807"
      },
      "execution_count": 13,
      "outputs": [
        {
          "output_type": "stream",
          "name": "stdout",
          "text": [
            "Sreya\n",
            "Kukutapu\n",
            "Minny\n",
            "Kukutapu\n"
          ]
        }
      ]
    }
  ]
}