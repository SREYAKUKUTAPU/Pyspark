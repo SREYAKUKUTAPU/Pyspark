{
  "nbformat": 4,
  "nbformat_minor": 0,
  "metadata": {
    "colab": {
      "provenance": [],
      "authorship_tag": "ABX9TyMR/D4awH18crC1gVcerjcN",
      "include_colab_link": true
    },
    "kernelspec": {
      "name": "python3",
      "display_name": "Python 3"
    },
    "language_info": {
      "name": "python"
    }
  },
  "cells": [
    {
      "cell_type": "markdown",
      "metadata": {
        "id": "view-in-github",
        "colab_type": "text"
      },
      "source": [
        "<a href=\"https://colab.research.google.com/github/SREYAKUKUTAPU/Pyspark/blob/main/sortAnd_OrderBy.ipynb\" target=\"_parent\"><img src=\"https://colab.research.google.com/assets/colab-badge.svg\" alt=\"Open In Colab\"/></a>"
      ]
    },
    {
      "cell_type": "code",
      "execution_count": null,
      "metadata": {
        "id": "XEaf50dlPRuv"
      },
      "outputs": [],
      "source": [
        "from pyspark.sql import SparkSession, Row\n",
        "from pyspark.sql.types import *\n",
        "from pyspark.sql.functions import *\n",
        "spark = SparkSession.builder.appName(\"show\").getOrCreate()"
      ]
    },
    {
      "cell_type": "code",
      "source": [
        "data=[(1,'Sreya','F',5000,'Employee'),(2,'abcd','F',6000,'xxxx'),(3,'Pavan','M',10000,'Business')]\n",
        "schema=['id','name','gender','salary','occupation']\n",
        "df=spark.createDataFrame(data,schema)\n",
        "df.show()"
      ],
      "metadata": {
        "colab": {
          "base_uri": "https://localhost:8080/"
        },
        "id": "KG_Q8pkSP-JQ",
        "outputId": "95030d03-bb76-4ceb-ec4d-a70798551970"
      },
      "execution_count": null,
      "outputs": [
        {
          "output_type": "stream",
          "name": "stdout",
          "text": [
            "+---+-----+------+------+----------+\n",
            "| id| name|gender|salary|occupation|\n",
            "+---+-----+------+------+----------+\n",
            "|  1|Sreya|     F|  5000|  Employee|\n",
            "|  2| abcd|     F|  6000|      xxxx|\n",
            "|  3|Pavan|     M| 10000|  Business|\n",
            "+---+-----+------+------+----------+\n",
            "\n"
          ]
        }
      ]
    },
    {
      "cell_type": "code",
      "source": [
        "# df.sort('occupation').show()\n",
        "df1=df.sort(df.occupation).show()"
      ],
      "metadata": {
        "colab": {
          "base_uri": "https://localhost:8080/"
        },
        "id": "U84SQrcsRAqT",
        "outputId": "50ea0be4-c83c-4494-e2da-1c7c06affd2a"
      },
      "execution_count": null,
      "outputs": [
        {
          "output_type": "stream",
          "name": "stdout",
          "text": [
            "+---+-----+------+------+----------+\n",
            "| id| name|gender|salary|occupation|\n",
            "+---+-----+------+------+----------+\n",
            "|  3|Pavan|     M| 10000|  Business|\n",
            "|  1|Sreya|     F|  5000|  Employee|\n",
            "|  2| abcd|     F|  6000|      xxxx|\n",
            "+---+-----+------+------+----------+\n",
            "\n"
          ]
        }
      ]
    },
    {
      "cell_type": "markdown",
      "source": [
        "# orderBy()"
      ],
      "metadata": {
        "id": "1DpWPbreR2st"
      }
    },
    {
      "cell_type": "code",
      "source": [
        "df2=df.orderBy(df.occupation).show()\n",
        "df3=df.orderBy(df.occupation.desc(),df.id).show()"
      ],
      "metadata": {
        "colab": {
          "base_uri": "https://localhost:8080/"
        },
        "id": "hA5gYcvTRwdB",
        "outputId": "27b56a6c-12ed-4b38-851d-57107dc27ccb"
      },
      "execution_count": null,
      "outputs": [
        {
          "output_type": "stream",
          "name": "stdout",
          "text": [
            "+---+-----+------+------+----------+\n",
            "| id| name|gender|salary|occupation|\n",
            "+---+-----+------+------+----------+\n",
            "|  3|Pavan|     M| 10000|  Business|\n",
            "|  1|Sreya|     F|  5000|  Employee|\n",
            "|  2| abcd|     F|  6000|      xxxx|\n",
            "+---+-----+------+------+----------+\n",
            "\n",
            "+---+-----+------+------+----------+\n",
            "| id| name|gender|salary|occupation|\n",
            "+---+-----+------+------+----------+\n",
            "|  2| abcd|     F|  6000|      xxxx|\n",
            "|  1|Sreya|     F|  5000|  Employee|\n",
            "|  3|Pavan|     M| 10000|  Business|\n",
            "+---+-----+------+------+----------+\n",
            "\n"
          ]
        }
      ]
    }
  ]
}