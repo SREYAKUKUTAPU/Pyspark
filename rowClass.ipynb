{
  "nbformat": 4,
  "nbformat_minor": 0,
  "metadata": {
    "colab": {
      "provenance": [],
      "authorship_tag": "ABX9TyPhfeg91NzWPpQ7dWuKoRWr",
      "include_colab_link": true
    },
    "kernelspec": {
      "name": "python3",
      "display_name": "Python 3"
    },
    "language_info": {
      "name": "python"
    }
  },
  "cells": [
    {
      "cell_type": "markdown",
      "metadata": {
        "id": "view-in-github",
        "colab_type": "text"
      },
      "source": [
        "<a href=\"https://colab.research.google.com/github/SREYAKUKUTAPU/Pyspark/blob/main/rowClass.ipynb\" target=\"_parent\"><img src=\"https://colab.research.google.com/assets/colab-badge.svg\" alt=\"Open In Colab\"/></a>"
      ]
    },
    {
      "cell_type": "code",
      "execution_count": null,
      "metadata": {
        "id": "1Z33lkDPiCQj"
      },
      "outputs": [],
      "source": [
        "from pyspark.sql import SparkSession, Row\n",
        "from pyspark.sql.types import *\n",
        "from pyspark.sql.functions import *\n",
        "spark = SparkSession.builder.appName(\"show\").getOrCreate()"
      ]
    },
    {
      "cell_type": "code",
      "source": [
        "row=Row('Sreya',2002)\n",
        "print(row[0]+' '+str(row[1]))"
      ],
      "metadata": {
        "colab": {
          "base_uri": "https://localhost:8080/"
        },
        "id": "yc3Oak_litSb",
        "outputId": "2facb99b-60bc-481d-c753-07905656680a"
      },
      "execution_count": null,
      "outputs": [
        {
          "output_type": "stream",
          "name": "stdout",
          "text": [
            "Sreya 2002\n"
          ]
        }
      ]
    },
    {
      "cell_type": "code",
      "source": [
        "row=Row(name='Sreya',year=2002)\n",
        "print(row['name']+' '+str(row['year']))\n",
        "print(row.name+' '+str(row.year))"
      ],
      "metadata": {
        "colab": {
          "base_uri": "https://localhost:8080/"
        },
        "id": "MTif8qGHjgub",
        "outputId": "48be3834-98ca-4251-8179-a4f042c4344f"
      },
      "execution_count": null,
      "outputs": [
        {
          "output_type": "stream",
          "name": "stdout",
          "text": [
            "Sreya 2002\n",
            "Sreya 2002\n"
          ]
        }
      ]
    },
    {
      "cell_type": "code",
      "source": [
        "row1=Row(name='Sreya',year=2002)\n",
        "row2=Row(name='Srija',year=1999)\n",
        "data=[row1,row2]\n",
        "df=spark.createDataFrame(data)\n",
        "df.show()\n",
        "df.printSchema()\n",
        "df1=df.withColumn('year',col('year').cast(IntegerType()))\n",
        "df1.printSchema()"
      ],
      "metadata": {
        "colab": {
          "base_uri": "https://localhost:8080/"
        },
        "id": "2bvKODUMkDwU",
        "outputId": "f83c2f93-75b3-4f5d-c5f3-6b0c4e909654"
      },
      "execution_count": null,
      "outputs": [
        {
          "output_type": "stream",
          "name": "stdout",
          "text": [
            "+-----+----+\n",
            "| name|year|\n",
            "+-----+----+\n",
            "|Sreya|2002|\n",
            "|Srija|1999|\n",
            "+-----+----+\n",
            "\n",
            "root\n",
            " |-- name: string (nullable = true)\n",
            " |-- year: long (nullable = true)\n",
            "\n",
            "root\n",
            " |-- name: string (nullable = true)\n",
            " |-- year: integer (nullable = true)\n",
            "\n"
          ]
        }
      ]
    },
    {
      "cell_type": "code",
      "source": [
        "person=Row('name','salary')\n",
        "p1=person('Sreya',28000)\n",
        "p2=person('Srija',90000)\n",
        "print(p1.name+' '+str(p1.salary))\n",
        "print(p2.name+' '+str(p2.salary))\n",
        "data=[p1,p2]\n",
        "df=spark.createDataFrame(data)\n",
        "df.show()\n",
        "df.printSchema()"
      ],
      "metadata": {
        "colab": {
          "base_uri": "https://localhost:8080/"
        },
        "id": "FD8jnaZwmewQ",
        "outputId": "203e83e6-6b84-406a-fda8-f0857fe13250"
      },
      "execution_count": null,
      "outputs": [
        {
          "output_type": "stream",
          "name": "stdout",
          "text": [
            "Sreya 28000\n",
            "Srija 90000\n",
            "+-----+------+\n",
            "| name|salary|\n",
            "+-----+------+\n",
            "|Sreya| 28000|\n",
            "|Srija| 90000|\n",
            "+-----+------+\n",
            "\n",
            "root\n",
            " |-- name: string (nullable = true)\n",
            " |-- salary: long (nullable = true)\n",
            "\n"
          ]
        }
      ]
    }
  ]
}