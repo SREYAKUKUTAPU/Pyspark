{
  "nbformat": 4,
  "nbformat_minor": 0,
  "metadata": {
    "colab": {
      "provenance": [],
      "authorship_tag": "ABX9TyOUHNjnOPRDGURZ//W9HmXO",
      "include_colab_link": true
    },
    "kernelspec": {
      "name": "python3",
      "display_name": "Python 3"
    },
    "language_info": {
      "name": "python"
    }
  },
  "cells": [
    {
      "cell_type": "markdown",
      "metadata": {
        "id": "view-in-github",
        "colab_type": "text"
      },
      "source": [
        "<a href=\"https://colab.research.google.com/github/SREYAKUKUTAPU/Pyspark/blob/main/columnClass.ipynb\" target=\"_parent\"><img src=\"https://colab.research.google.com/assets/colab-badge.svg\" alt=\"Open In Colab\"/></a>"
      ]
    },
    {
      "cell_type": "code",
      "execution_count": 1,
      "metadata": {
        "id": "--EhsKrZmT5D"
      },
      "outputs": [],
      "source": [
        "from pyspark.sql import SparkSession, Row\n",
        "from pyspark.sql.types import *\n",
        "from pyspark.sql.functions import *\n",
        "spark = SparkSession.builder.appName(\"show\").getOrCreate()"
      ]
    },
    {
      "cell_type": "code",
      "source": [
        "data=[('Sreya','F',2002),('Srija','F',1999)]\n",
        "schema=['name','gender','year']\n",
        "df=spark.createDataFrame(data,schema)\n",
        "df.show()\n",
        "df.printSchema()\n"
      ],
      "metadata": {
        "colab": {
          "base_uri": "https://localhost:8080/"
        },
        "id": "h_xIyvaXnPBb",
        "outputId": "4fa7ff5e-16e6-488e-9dcd-b09bbd62c468"
      },
      "execution_count": 2,
      "outputs": [
        {
          "output_type": "stream",
          "name": "stdout",
          "text": [
            "+-----+------+----+\n",
            "| name|gender|year|\n",
            "+-----+------+----+\n",
            "|Sreya|     F|2002|\n",
            "|Srija|     F|1999|\n",
            "+-----+------+----+\n",
            "\n",
            "root\n",
            " |-- name: string (nullable = true)\n",
            " |-- gender: string (nullable = true)\n",
            " |-- year: long (nullable = true)\n",
            "\n"
          ]
        }
      ]
    },
    {
      "cell_type": "code",
      "source": [
        "df1=df.withColumn('Country',lit('India'))\n",
        "df1.show()"
      ],
      "metadata": {
        "colab": {
          "base_uri": "https://localhost:8080/"
        },
        "id": "IexKbbQqoHQO",
        "outputId": "e6fde4c3-ff77-4cb7-a2d6-36adb0f90a8d"
      },
      "execution_count": 4,
      "outputs": [
        {
          "output_type": "stream",
          "name": "stdout",
          "text": [
            "+-----+------+----+-------+\n",
            "| name|gender|year|Country|\n",
            "+-----+------+----+-------+\n",
            "|Sreya|     F|2002|  India|\n",
            "|Srija|     F|1999|  India|\n",
            "+-----+------+----+-------+\n",
            "\n"
          ]
        }
      ]
    },
    {
      "cell_type": "code",
      "source": [
        "df1.select(df.gender).show()"
      ],
      "metadata": {
        "colab": {
          "base_uri": "https://localhost:8080/"
        },
        "id": "mFCA2JnnoRA1",
        "outputId": "340381df-acd7-4a6e-f2c2-2a5703e8171d"
      },
      "execution_count": 5,
      "outputs": [
        {
          "output_type": "stream",
          "name": "stdout",
          "text": [
            "+------+\n",
            "|gender|\n",
            "+------+\n",
            "|     F|\n",
            "|     F|\n",
            "+------+\n",
            "\n"
          ]
        }
      ]
    },
    {
      "cell_type": "code",
      "source": [
        "df.select(df['gender']).show()"
      ],
      "metadata": {
        "colab": {
          "base_uri": "https://localhost:8080/"
        },
        "id": "V8UNBThtocVJ",
        "outputId": "1b9b52d6-d4a6-47fe-94f6-11601742ff68"
      },
      "execution_count": 6,
      "outputs": [
        {
          "output_type": "stream",
          "name": "stdout",
          "text": [
            "+------+\n",
            "|gender|\n",
            "+------+\n",
            "|     F|\n",
            "|     F|\n",
            "+------+\n",
            "\n"
          ]
        }
      ]
    },
    {
      "cell_type": "code",
      "source": [
        "df.select(col('gender')).show()"
      ],
      "metadata": {
        "colab": {
          "base_uri": "https://localhost:8080/"
        },
        "id": "xCjsI-cXot3V",
        "outputId": "0ff1031a-5daf-4d4d-99dd-14ce72af044b"
      },
      "execution_count": 7,
      "outputs": [
        {
          "output_type": "stream",
          "name": "stdout",
          "text": [
            "+------+\n",
            "|gender|\n",
            "+------+\n",
            "|     F|\n",
            "|     F|\n",
            "+------+\n",
            "\n"
          ]
        }
      ]
    },
    {
      "cell_type": "code",
      "source": [
        "data=[('Sreya','F',2002,('HDFC','ICICI')),('Srija','F',1999,('SBI','AXIS'))]\n",
        "bank=StructType([StructField('primary',StringType()),StructField('secondary',StringType())])\n",
        "schema=StructType([StructField('name',StringType()),StructField('gender',StringType()),StructField('year',IntegerType()),StructField('bank',bank)])\n",
        "df2=spark.createDataFrame(data,schema)\n",
        "df2.show()\n",
        "df2.printSchema()\n"
      ],
      "metadata": {
        "colab": {
          "base_uri": "https://localhost:8080/"
        },
        "id": "bsLxG33CpRf2",
        "outputId": "997e058b-ab0e-4cd3-ed25-fa8f88d5c66a"
      },
      "execution_count": 9,
      "outputs": [
        {
          "output_type": "stream",
          "name": "stdout",
          "text": [
            "+-----+------+----+-------------+\n",
            "| name|gender|year|         bank|\n",
            "+-----+------+----+-------------+\n",
            "|Sreya|     F|2002|{HDFC, ICICI}|\n",
            "|Srija|     F|1999|  {SBI, AXIS}|\n",
            "+-----+------+----+-------------+\n",
            "\n",
            "root\n",
            " |-- name: string (nullable = true)\n",
            " |-- gender: string (nullable = true)\n",
            " |-- year: integer (nullable = true)\n",
            " |-- bank: struct (nullable = true)\n",
            " |    |-- primary: string (nullable = true)\n",
            " |    |-- secondary: string (nullable = true)\n",
            "\n"
          ]
        }
      ]
    },
    {
      "cell_type": "code",
      "source": [
        "df2.select(df2.bank.primary).show()"
      ],
      "metadata": {
        "colab": {
          "base_uri": "https://localhost:8080/"
        },
        "id": "Aj4oDr9crd7Z",
        "outputId": "005ada90-6639-4205-bfe2-2856d01064f1"
      },
      "execution_count": 11,
      "outputs": [
        {
          "output_type": "stream",
          "name": "stdout",
          "text": [
            "+------------+\n",
            "|bank.primary|\n",
            "+------------+\n",
            "|        HDFC|\n",
            "|         SBI|\n",
            "+------------+\n",
            "\n"
          ]
        }
      ]
    },
    {
      "cell_type": "code",
      "source": [
        "df2.select(df2['bank.primary']).show()"
      ],
      "metadata": {
        "colab": {
          "base_uri": "https://localhost:8080/"
        },
        "id": "kMFMrxCArzQq",
        "outputId": "c11a3c7c-1676-4105-f3e3-92b41c3b73d9"
      },
      "execution_count": 17,
      "outputs": [
        {
          "output_type": "stream",
          "name": "stdout",
          "text": [
            "+-------+\n",
            "|primary|\n",
            "+-------+\n",
            "|   HDFC|\n",
            "|    SBI|\n",
            "+-------+\n",
            "\n"
          ]
        }
      ]
    },
    {
      "cell_type": "code",
      "source": [
        "df2.select(col('bank.primary')).show()"
      ],
      "metadata": {
        "colab": {
          "base_uri": "https://localhost:8080/"
        },
        "id": "ExuSMcZKsAdT",
        "outputId": "627bc0b2-55aa-4268-8e62-98e024598c32"
      },
      "execution_count": 18,
      "outputs": [
        {
          "output_type": "stream",
          "name": "stdout",
          "text": [
            "+-------+\n",
            "|primary|\n",
            "+-------+\n",
            "|   HDFC|\n",
            "|    SBI|\n",
            "+-------+\n",
            "\n"
          ]
        }
      ]
    }
  ]
}