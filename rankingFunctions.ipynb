{
  "nbformat": 4,
  "nbformat_minor": 0,
  "metadata": {
    "colab": {
      "provenance": [],
      "authorship_tag": "ABX9TyM5RD34O7dl0yxvlg90UnWs",
      "include_colab_link": true
    },
    "kernelspec": {
      "name": "python3",
      "display_name": "Python 3"
    },
    "language_info": {
      "name": "python"
    }
  },
  "cells": [
    {
      "cell_type": "markdown",
      "metadata": {
        "id": "view-in-github",
        "colab_type": "text"
      },
      "source": [
        "<a href=\"https://colab.research.google.com/github/SREYAKUKUTAPU/Pyspark/blob/main/rankingFunctions.ipynb\" target=\"_parent\"><img src=\"https://colab.research.google.com/assets/colab-badge.svg\" alt=\"Open In Colab\"/></a>"
      ]
    },
    {
      "cell_type": "code",
      "execution_count": 7,
      "metadata": {
        "id": "WfgBlZt1WNnw"
      },
      "outputs": [],
      "source": [
        "from pyspark.sql import SparkSession\n",
        "from pyspark.sql.types import *\n",
        "from pyspark.sql.functions import *\n",
        "from pyspark.sql.window import Window\n",
        "spark = SparkSession.builder.appName(\"show\").getOrCreate()"
      ]
    },
    {
      "cell_type": "code",
      "source": [
        "schema=['name','dep','salary']\n",
        "data = [\n",
        "    (\"Alice\", \"IT\", 50000),\n",
        "    (\"Bob\", \"IT\", 50000),\n",
        "    (\"Charlie\", \"Sales\", 45000),\n",
        "    (\"David\", \"Marketing\", 70000),\n",
        "    (\"Eve\", \"Sales\", 85000),\n",
        "    (\"Jona\", \"Marketing\", 70000),\n",
        "    (\"Frank\", \"Sales\", 75000),\n",
        "    (\"Gill\", \"Marketing\", 62000),\n",
        "    (\"Hailey\", \"Sales\", 75000)\n",
        "]\n",
        "df=spark.createDataFrame(data,schema)\n",
        "df.sort('dep').show()"
      ],
      "metadata": {
        "colab": {
          "base_uri": "https://localhost:8080/"
        },
        "id": "8V04tQNyWi0c",
        "outputId": "2ffccf3c-4894-4f7c-8008-0e6f499bd31e"
      },
      "execution_count": 18,
      "outputs": [
        {
          "output_type": "stream",
          "name": "stdout",
          "text": [
            "+-------+---------+------+\n",
            "|   name|      dep|salary|\n",
            "+-------+---------+------+\n",
            "|  Alice|       IT| 50000|\n",
            "|    Bob|       IT| 50000|\n",
            "|   Jona|Marketing| 70000|\n",
            "|  David|Marketing| 70000|\n",
            "|   Gill|Marketing| 62000|\n",
            "|Charlie|    Sales| 45000|\n",
            "|    Eve|    Sales| 85000|\n",
            "|  Frank|    Sales| 75000|\n",
            "| Hailey|    Sales| 75000|\n",
            "+-------+---------+------+\n",
            "\n"
          ]
        }
      ]
    },
    {
      "cell_type": "markdown",
      "source": [
        "# row_number()"
      ],
      "metadata": {
        "id": "54aC0qr9ZJ5Q"
      }
    },
    {
      "cell_type": "code",
      "source": [
        "window=Window.partitionBy('dep').orderBy('salary')\n",
        "df.withColumn('rowNumber',row_number().over(window)).show()"
      ],
      "metadata": {
        "colab": {
          "base_uri": "https://localhost:8080/"
        },
        "id": "dYHgf8BiXRWt",
        "outputId": "2add5c7c-cc96-42d8-c21c-fb92bfd5014f"
      },
      "execution_count": 19,
      "outputs": [
        {
          "output_type": "stream",
          "name": "stdout",
          "text": [
            "+-------+---------+------+---------+\n",
            "|   name|      dep|salary|rowNumber|\n",
            "+-------+---------+------+---------+\n",
            "|  Alice|       IT| 50000|        1|\n",
            "|    Bob|       IT| 50000|        2|\n",
            "|   Gill|Marketing| 62000|        1|\n",
            "|  David|Marketing| 70000|        2|\n",
            "|   Jona|Marketing| 70000|        3|\n",
            "|Charlie|    Sales| 45000|        1|\n",
            "|  Frank|    Sales| 75000|        2|\n",
            "| Hailey|    Sales| 75000|        3|\n",
            "|    Eve|    Sales| 85000|        4|\n",
            "+-------+---------+------+---------+\n",
            "\n"
          ]
        }
      ]
    },
    {
      "cell_type": "markdown",
      "source": [
        "# rank()"
      ],
      "metadata": {
        "id": "l_IQq8vXZM3B"
      }
    },
    {
      "cell_type": "code",
      "source": [
        "df.withColumn('Rank',rank().over(window)).show()"
      ],
      "metadata": {
        "colab": {
          "base_uri": "https://localhost:8080/"
        },
        "id": "Nvay7DnxZQ2r",
        "outputId": "05457d22-5a6c-40a1-f217-8b6b74db153f"
      },
      "execution_count": 20,
      "outputs": [
        {
          "output_type": "stream",
          "name": "stdout",
          "text": [
            "+-------+---------+------+----+\n",
            "|   name|      dep|salary|Rank|\n",
            "+-------+---------+------+----+\n",
            "|  Alice|       IT| 50000|   1|\n",
            "|    Bob|       IT| 50000|   1|\n",
            "|   Gill|Marketing| 62000|   1|\n",
            "|  David|Marketing| 70000|   2|\n",
            "|   Jona|Marketing| 70000|   2|\n",
            "|Charlie|    Sales| 45000|   1|\n",
            "|  Frank|    Sales| 75000|   2|\n",
            "| Hailey|    Sales| 75000|   2|\n",
            "|    Eve|    Sales| 85000|   4|\n",
            "+-------+---------+------+----+\n",
            "\n"
          ]
        }
      ]
    },
    {
      "cell_type": "markdown",
      "source": [
        "# dense_rank()"
      ],
      "metadata": {
        "id": "yuX--gEyZ2Li"
      }
    },
    {
      "cell_type": "code",
      "source": [
        "df.withColumn('dense_rank',dense_rank().over(window)).show()"
      ],
      "metadata": {
        "colab": {
          "base_uri": "https://localhost:8080/"
        },
        "id": "YpfHum9FZ4aR",
        "outputId": "adc3a860-5ac6-4a0b-b9ab-27e924cd972d"
      },
      "execution_count": 21,
      "outputs": [
        {
          "output_type": "stream",
          "name": "stdout",
          "text": [
            "+-------+---------+------+----------+\n",
            "|   name|      dep|salary|dense_rank|\n",
            "+-------+---------+------+----------+\n",
            "|  Alice|       IT| 50000|         1|\n",
            "|    Bob|       IT| 50000|         1|\n",
            "|   Gill|Marketing| 62000|         1|\n",
            "|  David|Marketing| 70000|         2|\n",
            "|   Jona|Marketing| 70000|         2|\n",
            "|Charlie|    Sales| 45000|         1|\n",
            "|  Frank|    Sales| 75000|         2|\n",
            "| Hailey|    Sales| 75000|         2|\n",
            "|    Eve|    Sales| 85000|         3|\n",
            "+-------+---------+------+----------+\n",
            "\n"
          ]
        }
      ]
    }
  ]
}