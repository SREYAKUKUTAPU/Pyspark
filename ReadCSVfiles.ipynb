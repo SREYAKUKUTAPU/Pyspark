{
  "nbformat": 4,
  "nbformat_minor": 0,
  "metadata": {
    "colab": {
      "provenance": [],
      "mount_file_id": "1uET0CkKUSZHNE0Bq1eBqeWohhYlwPS_T",
      "authorship_tag": "ABX9TyOHScEL8eKgfPza9M6PFhWW",
      "include_colab_link": true
    },
    "kernelspec": {
      "name": "python3",
      "display_name": "Python 3"
    },
    "language_info": {
      "name": "python"
    }
  },
  "cells": [
    {
      "cell_type": "markdown",
      "metadata": {
        "id": "view-in-github",
        "colab_type": "text"
      },
      "source": [
        "<a href=\"https://colab.research.google.com/github/SREYAKUKUTAPU/Pyspark/blob/main/ReadCSVfiles.ipynb\" target=\"_parent\"><img src=\"https://colab.research.google.com/assets/colab-badge.svg\" alt=\"Open In Colab\"/></a>"
      ]
    },
    {
      "cell_type": "code",
      "execution_count": 1,
      "metadata": {
        "id": "RXqJJ-8lS0Nj"
      },
      "outputs": [],
      "source": [
        "from pyspark.sql import SparkSession\n",
        "from pyspark.sql.types import *\n",
        "spark=SparkSession.builder.master(\"local\").appName(\"dataframe\").getOrCreate()"
      ]
    },
    {
      "cell_type": "code",
      "source": [
        "schema=StructType([StructField(name='id',dataType=IntegerType()),StructField(name='name',dataType=StringType()),StructField(name='age',dataType=IntegerType()),StructField(name='friendsCount',dataType=IntegerType())])\n",
        "df=spark.read.csv(path='/content/drive/MyDrive/Colab Notebooks/fakefriends.csv',schema=schema)\n",
        "display(df)\n",
        "df.show()"
      ],
      "metadata": {
        "colab": {
          "base_uri": "https://localhost:8080/",
          "height": 486
        },
        "id": "QKBQWQmtTyJp",
        "outputId": "6b9dd939-06a5-4308-c4f5-8b814361e4e9"
      },
      "execution_count": 14,
      "outputs": [
        {
          "output_type": "display_data",
          "data": {
            "text/plain": [
              "DataFrame[id: int, name: string, age: int, friendsCount: int]"
            ]
          },
          "metadata": {}
        },
        {
          "output_type": "stream",
          "name": "stdout",
          "text": [
            "+---+--------+---+------------+\n",
            "| id|    name|age|friendsCount|\n",
            "+---+--------+---+------------+\n",
            "|  0|    Will| 33|         385|\n",
            "|  1|Jean-Luc| 26|           2|\n",
            "|  2|    Hugh| 55|         221|\n",
            "|  3|  Deanna| 40|         465|\n",
            "|  4|   Quark| 68|          21|\n",
            "|  5|  Weyoun| 59|         318|\n",
            "|  6|  Gowron| 37|         220|\n",
            "|  7|    Will| 54|         307|\n",
            "|  8|  Jadzia| 38|         380|\n",
            "|  9|    Hugh| 27|         181|\n",
            "| 10|     Odo| 53|         191|\n",
            "| 11|     Ben| 57|         372|\n",
            "| 12|   Keiko| 54|         253|\n",
            "| 13|Jean-Luc| 56|         444|\n",
            "| 14|    Hugh| 43|          49|\n",
            "| 15|     Rom| 36|          49|\n",
            "| 16|  Weyoun| 22|         323|\n",
            "| 17|     Odo| 35|          13|\n",
            "| 18|Jean-Luc| 45|         455|\n",
            "| 19|  Geordi| 60|         246|\n",
            "+---+--------+---+------------+\n",
            "only showing top 20 rows\n",
            "\n"
          ]
        }
      ]
    },
    {
      "cell_type": "code",
      "source": [
        "df=spark.read.format('csv').schema(schema).load('/content/drive/MyDrive/Colab Notebooks/fakefriends.csv')\n",
        "df.show()"
      ],
      "metadata": {
        "colab": {
          "base_uri": "https://localhost:8080/"
        },
        "id": "mdC04fOXZDQb",
        "outputId": "b40f3c15-99b2-433f-d592-66480582349d"
      },
      "execution_count": 16,
      "outputs": [
        {
          "output_type": "stream",
          "name": "stdout",
          "text": [
            "+---+--------+---+------------+\n",
            "| id|    name|age|friendsCount|\n",
            "+---+--------+---+------------+\n",
            "|  0|    Will| 33|         385|\n",
            "|  1|Jean-Luc| 26|           2|\n",
            "|  2|    Hugh| 55|         221|\n",
            "|  3|  Deanna| 40|         465|\n",
            "|  4|   Quark| 68|          21|\n",
            "|  5|  Weyoun| 59|         318|\n",
            "|  6|  Gowron| 37|         220|\n",
            "|  7|    Will| 54|         307|\n",
            "|  8|  Jadzia| 38|         380|\n",
            "|  9|    Hugh| 27|         181|\n",
            "| 10|     Odo| 53|         191|\n",
            "| 11|     Ben| 57|         372|\n",
            "| 12|   Keiko| 54|         253|\n",
            "| 13|Jean-Luc| 56|         444|\n",
            "| 14|    Hugh| 43|          49|\n",
            "| 15|     Rom| 36|          49|\n",
            "| 16|  Weyoun| 22|         323|\n",
            "| 17|     Odo| 35|          13|\n",
            "| 18|Jean-Luc| 45|         455|\n",
            "| 19|  Geordi| 60|         246|\n",
            "+---+--------+---+------------+\n",
            "only showing top 20 rows\n",
            "\n"
          ]
        }
      ]
    }
  ]
}