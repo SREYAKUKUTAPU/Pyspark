{
  "nbformat": 4,
  "nbformat_minor": 0,
  "metadata": {
    "colab": {
      "provenance": [],
      "authorship_tag": "ABX9TyN3KUfb5Gc1QQ+n+1XxIvGJ",
      "include_colab_link": true
    },
    "kernelspec": {
      "name": "python3",
      "display_name": "Python 3"
    },
    "language_info": {
      "name": "python"
    }
  },
  "cells": [
    {
      "cell_type": "markdown",
      "metadata": {
        "id": "view-in-github",
        "colab_type": "text"
      },
      "source": [
        "<a href=\"https://colab.research.google.com/github/SREYAKUKUTAPU/Pyspark/blob/main/joins.ipynb\" target=\"_parent\"><img src=\"https://colab.research.google.com/assets/colab-badge.svg\" alt=\"Open In Colab\"/></a>"
      ]
    },
    {
      "cell_type": "code",
      "execution_count": 2,
      "metadata": {
        "id": "HXRnLBAhnTUo"
      },
      "outputs": [],
      "source": [
        "from pyspark.sql import SparkSession, Row\n",
        "from pyspark.sql.types import *\n",
        "from pyspark.sql.functions import *\n",
        "spark = SparkSession.builder.appName(\"show\").getOrCreate()"
      ]
    },
    {
      "cell_type": "code",
      "source": [
        "# Define schema for Employees DataFrame\n",
        "employee_schema = StructType([\n",
        "    StructField(\"emp_id\", IntegerType(), True),\n",
        "    StructField(\"emp_name\", StringType(), True),\n",
        "    StructField(\"dept_id\", IntegerType(), True),\n",
        "    StructField(\"salary\", IntegerType(), True)\n",
        "])\n",
        "\n",
        "# Define schema for Departments DataFrame\n",
        "department_schema = StructType([\n",
        "    StructField(\"dept_id\", IntegerType(), True),\n",
        "    StructField(\"dept_name\", StringType(), True),\n",
        "    StructField(\"location\", StringType(), True)\n",
        "])\n",
        "\n",
        "# Sample data for employees\n",
        "employee_data = [\n",
        "    (1, \"Alice\", 10, 60000),\n",
        "    (2, \"Bob\", 20, 55000),\n",
        "    (3, \"Charlie\", 10, 65000),\n",
        "    (4, \"Dave\", 30, 70000),\n",
        "    (5, \"Eve\", 20, 45000),\n",
        "    (6, \"Ev\", 40, 45000)\n",
        "]\n",
        "\n",
        "# Sample data for departments\n",
        "department_data = [\n",
        "    (10, \"HR\", \"New York\"),\n",
        "    (20, \"IT\", \"San Francisco\"),\n",
        "    (30, \"Marketing\", \"Chicago\"),\n",
        "    (50, \"Sales\", \"Los Angeles\")\n",
        "]\n",
        "\n",
        "# Create DataFrames from the data\n",
        "employee_df = spark.createDataFrame(employee_data, employee_schema)\n",
        "department_df = spark.createDataFrame(department_data, department_schema)\n",
        "\n",
        "# Show the DataFrames (optional)\n",
        "employee_df.show()\n",
        "department_df.show()"
      ],
      "metadata": {
        "colab": {
          "base_uri": "https://localhost:8080/"
        },
        "id": "_2YWiuLjpxje",
        "outputId": "66ff154a-a029-4037-b7f5-8939ac623668"
      },
      "execution_count": 3,
      "outputs": [
        {
          "output_type": "stream",
          "name": "stdout",
          "text": [
            "+------+--------+-------+------+\n",
            "|emp_id|emp_name|dept_id|salary|\n",
            "+------+--------+-------+------+\n",
            "|     1|   Alice|     10| 60000|\n",
            "|     2|     Bob|     20| 55000|\n",
            "|     3| Charlie|     10| 65000|\n",
            "|     4|    Dave|     30| 70000|\n",
            "|     5|     Eve|     20| 45000|\n",
            "|     6|      Ev|     40| 45000|\n",
            "+------+--------+-------+------+\n",
            "\n",
            "+-------+---------+-------------+\n",
            "|dept_id|dept_name|     location|\n",
            "+-------+---------+-------------+\n",
            "|     10|       HR|     New York|\n",
            "|     20|       IT|San Francisco|\n",
            "|     30|Marketing|      Chicago|\n",
            "|     50|    Sales|  Los Angeles|\n",
            "+-------+---------+-------------+\n",
            "\n"
          ]
        }
      ]
    },
    {
      "cell_type": "code",
      "source": [
        "employee_df.join(department_df, employee_df.dept_id == department_df.dept_id, \"inner\").show()"
      ],
      "metadata": {
        "colab": {
          "base_uri": "https://localhost:8080/"
        },
        "id": "Yee_eN90qHKs",
        "outputId": "214e7ca0-b26a-4e41-ac0c-745d9aea6d38"
      },
      "execution_count": 4,
      "outputs": [
        {
          "output_type": "stream",
          "name": "stdout",
          "text": [
            "+------+--------+-------+------+-------+---------+-------------+\n",
            "|emp_id|emp_name|dept_id|salary|dept_id|dept_name|     location|\n",
            "+------+--------+-------+------+-------+---------+-------------+\n",
            "|     1|   Alice|     10| 60000|     10|       HR|     New York|\n",
            "|     3| Charlie|     10| 65000|     10|       HR|     New York|\n",
            "|     2|     Bob|     20| 55000|     20|       IT|San Francisco|\n",
            "|     5|     Eve|     20| 45000|     20|       IT|San Francisco|\n",
            "|     4|    Dave|     30| 70000|     30|Marketing|      Chicago|\n",
            "+------+--------+-------+------+-------+---------+-------------+\n",
            "\n"
          ]
        }
      ]
    },
    {
      "cell_type": "code",
      "source": [
        "employee_df.join(department_df,employee_df.dept_id==department_df.dept_id,'left').show()"
      ],
      "metadata": {
        "colab": {
          "base_uri": "https://localhost:8080/"
        },
        "id": "nxgzircotD4A",
        "outputId": "90611349-cee9-4016-bb91-3cb9f3683169"
      },
      "execution_count": 5,
      "outputs": [
        {
          "output_type": "stream",
          "name": "stdout",
          "text": [
            "+------+--------+-------+------+-------+---------+-------------+\n",
            "|emp_id|emp_name|dept_id|salary|dept_id|dept_name|     location|\n",
            "+------+--------+-------+------+-------+---------+-------------+\n",
            "|     2|     Bob|     20| 55000|     20|       IT|San Francisco|\n",
            "|     1|   Alice|     10| 60000|     10|       HR|     New York|\n",
            "|     3| Charlie|     10| 65000|     10|       HR|     New York|\n",
            "|     5|     Eve|     20| 45000|     20|       IT|San Francisco|\n",
            "|     6|      Ev|     40| 45000|   NULL|     NULL|         NULL|\n",
            "|     4|    Dave|     30| 70000|     30|Marketing|      Chicago|\n",
            "+------+--------+-------+------+-------+---------+-------------+\n",
            "\n"
          ]
        }
      ]
    },
    {
      "cell_type": "code",
      "source": [
        "employee_df.join(department_df,employee_df.dept_id==department_df.dept_id,'right').show()"
      ],
      "metadata": {
        "colab": {
          "base_uri": "https://localhost:8080/"
        },
        "id": "Ec8lhMLCt9-x",
        "outputId": "c984f4e1-c948-4b7e-8c17-00c81fea400d"
      },
      "execution_count": 6,
      "outputs": [
        {
          "output_type": "stream",
          "name": "stdout",
          "text": [
            "+------+--------+-------+------+-------+---------+-------------+\n",
            "|emp_id|emp_name|dept_id|salary|dept_id|dept_name|     location|\n",
            "+------+--------+-------+------+-------+---------+-------------+\n",
            "|     5|     Eve|     20| 45000|     20|       IT|San Francisco|\n",
            "|     2|     Bob|     20| 55000|     20|       IT|San Francisco|\n",
            "|     3| Charlie|     10| 65000|     10|       HR|     New York|\n",
            "|     1|   Alice|     10| 60000|     10|       HR|     New York|\n",
            "|  NULL|    NULL|   NULL|  NULL|     50|    Sales|  Los Angeles|\n",
            "|     4|    Dave|     30| 70000|     30|Marketing|      Chicago|\n",
            "+------+--------+-------+------+-------+---------+-------------+\n",
            "\n"
          ]
        }
      ]
    },
    {
      "cell_type": "code",
      "source": [
        "employee_df.join(department_df,employee_df.dept_id==department_df.dept_id,'full').show()"
      ],
      "metadata": {
        "colab": {
          "base_uri": "https://localhost:8080/"
        },
        "id": "YSk6SGWFy1Wk",
        "outputId": "11d81b15-87e9-449a-cc14-763500810d29"
      },
      "execution_count": 7,
      "outputs": [
        {
          "output_type": "stream",
          "name": "stdout",
          "text": [
            "+------+--------+-------+------+-------+---------+-------------+\n",
            "|emp_id|emp_name|dept_id|salary|dept_id|dept_name|     location|\n",
            "+------+--------+-------+------+-------+---------+-------------+\n",
            "|     1|   Alice|     10| 60000|     10|       HR|     New York|\n",
            "|     3| Charlie|     10| 65000|     10|       HR|     New York|\n",
            "|     2|     Bob|     20| 55000|     20|       IT|San Francisco|\n",
            "|     5|     Eve|     20| 45000|     20|       IT|San Francisco|\n",
            "|     4|    Dave|     30| 70000|     30|Marketing|      Chicago|\n",
            "|     6|      Ev|     40| 45000|   NULL|     NULL|         NULL|\n",
            "|  NULL|    NULL|   NULL|  NULL|     50|    Sales|  Los Angeles|\n",
            "+------+--------+-------+------+-------+---------+-------------+\n",
            "\n"
          ]
        }
      ]
    },
    {
      "cell_type": "code",
      "source": [
        "employee_df.join(department_df,employee_df.dept_id==department_df.dept_id,'leftsemi').show()"
      ],
      "metadata": {
        "colab": {
          "base_uri": "https://localhost:8080/"
        },
        "id": "gNND-sr2XLa9",
        "outputId": "6bef98d2-ef85-48e9-dbbe-dc2557908484"
      },
      "execution_count": 8,
      "outputs": [
        {
          "output_type": "stream",
          "name": "stdout",
          "text": [
            "+------+--------+-------+------+\n",
            "|emp_id|emp_name|dept_id|salary|\n",
            "+------+--------+-------+------+\n",
            "|     1|   Alice|     10| 60000|\n",
            "|     3| Charlie|     10| 65000|\n",
            "|     2|     Bob|     20| 55000|\n",
            "|     5|     Eve|     20| 45000|\n",
            "|     4|    Dave|     30| 70000|\n",
            "+------+--------+-------+------+\n",
            "\n"
          ]
        }
      ]
    },
    {
      "cell_type": "code",
      "source": [
        "employee_df.join(department_df,employee_df.dept_id==department_df.dept_id,'leftanti').show()"
      ],
      "metadata": {
        "colab": {
          "base_uri": "https://localhost:8080/"
        },
        "id": "eMvRpy4Ba67m",
        "outputId": "c1d09df8-1f57-431a-edbd-cb79318156c9"
      },
      "execution_count": 9,
      "outputs": [
        {
          "output_type": "stream",
          "name": "stdout",
          "text": [
            "+------+--------+-------+------+\n",
            "|emp_id|emp_name|dept_id|salary|\n",
            "+------+--------+-------+------+\n",
            "|     6|      Ev|     40| 45000|\n",
            "+------+--------+-------+------+\n",
            "\n"
          ]
        }
      ]
    },
    {
      "cell_type": "code",
      "source": [
        "data3=[(1,'Alex',0),(2,'John',1),(3,'David',2)]\n",
        "schema3=['id','name','managerId']\n",
        "df=spark.createDataFrame(data=data3,schema=schema3)\n",
        "df.show()"
      ],
      "metadata": {
        "colab": {
          "base_uri": "https://localhost:8080/"
        },
        "id": "GLQ6Lwz_cIbs",
        "outputId": "7c49a4d9-d62c-4360-f2aa-1a9fdc4559b6"
      },
      "execution_count": 18,
      "outputs": [
        {
          "output_type": "stream",
          "name": "stdout",
          "text": [
            "+---+-----+---------+\n",
            "| id| name|managerId|\n",
            "+---+-----+---------+\n",
            "|  1| Alex|        0|\n",
            "|  2| John|        1|\n",
            "|  3|David|        2|\n",
            "+---+-----+---------+\n",
            "\n"
          ]
        }
      ]
    },
    {
      "cell_type": "code",
      "source": [
        "df1=df.alias('employee').join(df.alias('manager'),col('employee.managerId')==col('manager.id'),'left').select(col('employee.id').alias('employeeID'),col('employee.name').alias('employeeName'),col('manager.name').alias('manager_name'))\n",
        "df1.show()"
      ],
      "metadata": {
        "colab": {
          "base_uri": "https://localhost:8080/"
        },
        "id": "G-guwz-cconr",
        "outputId": "43014ba9-cfb3-44b4-b6e9-79b8a88ba516"
      },
      "execution_count": 20,
      "outputs": [
        {
          "output_type": "stream",
          "name": "stdout",
          "text": [
            "+----------+------------+------------+\n",
            "|employeeID|employeeName|manager_name|\n",
            "+----------+------------+------------+\n",
            "|         1|        Alex|        NULL|\n",
            "|         2|        John|        Alex|\n",
            "|         3|       David|        John|\n",
            "+----------+------------+------------+\n",
            "\n"
          ]
        }
      ]
    }
  ]
}