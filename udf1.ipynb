{
  "nbformat": 4,
  "nbformat_minor": 0,
  "metadata": {
    "colab": {
      "provenance": [],
      "authorship_tag": "ABX9TyOJzWVOEw6+lcI69PkhGQiQ",
      "include_colab_link": true
    },
    "kernelspec": {
      "name": "python3",
      "display_name": "Python 3"
    },
    "language_info": {
      "name": "python"
    }
  },
  "cells": [
    {
      "cell_type": "markdown",
      "metadata": {
        "id": "view-in-github",
        "colab_type": "text"
      },
      "source": [
        "<a href=\"https://colab.research.google.com/github/SREYAKUKUTAPU/Pyspark/blob/main/udf1.ipynb\" target=\"_parent\"><img src=\"https://colab.research.google.com/assets/colab-badge.svg\" alt=\"Open In Colab\"/></a>"
      ]
    },
    {
      "cell_type": "code",
      "execution_count": 1,
      "metadata": {
        "colab": {
          "base_uri": "https://localhost:8080/"
        },
        "id": "IKMvL5VXKiSZ",
        "outputId": "4d1722fb-1013-4bb5-f6ef-c8ee4c06087c"
      },
      "outputs": [
        {
          "output_type": "stream",
          "name": "stdout",
          "text": [
            "+---+-----+------+-----+\n",
            "| id| name|salary|bonus|\n",
            "+---+-----+------+-----+\n",
            "|  1|sreya|  2000|  200|\n",
            "|  2|minny|  3000|  300|\n",
            "+---+-----+------+-----+\n",
            "\n"
          ]
        }
      ],
      "source": [
        "from pyspark.sql import SparkSession, Row\n",
        "from pyspark.sql.types import *\n",
        "from pyspark.sql.functions import *\n",
        "spark = SparkSession.builder.appName(\"show\").getOrCreate()\n",
        "\n",
        "data=[(1,'sreya',2000,200),(2,'minny',3000,300)]\n",
        "schema=['id','name','salary','bonus']\n",
        "df=spark.createDataFrame(data,schema)\n",
        "df.show()"
      ]
    },
    {
      "cell_type": "code",
      "source": [
        "def totalPay(s,b):\n",
        "  return s+b"
      ],
      "metadata": {
        "id": "od96p2pqK2Fs"
      },
      "execution_count": 2,
      "outputs": []
    },
    {
      "cell_type": "code",
      "source": [
        "totalPayment=udf(lambda s,b : totalPay(s,b),IntegerType())\n"
      ],
      "metadata": {
        "id": "tnf7yA53LiuO"
      },
      "execution_count": 3,
      "outputs": []
    },
    {
      "cell_type": "code",
      "source": [
        "df.withColumn('totalPay',totalPayment(df.salary,df.bonus)).show()"
      ],
      "metadata": {
        "colab": {
          "base_uri": "https://localhost:8080/"
        },
        "id": "RcQGRKybMOmF",
        "outputId": "a226737f-bb0d-4f75-8272-91600d33a721"
      },
      "execution_count": 5,
      "outputs": [
        {
          "output_type": "stream",
          "name": "stdout",
          "text": [
            "+---+-----+------+-----+--------+\n",
            "| id| name|salary|bonus|totalPay|\n",
            "+---+-----+------+-----+--------+\n",
            "|  1|sreya|  2000|  200|    2200|\n",
            "|  2|minny|  3000|  300|    3300|\n",
            "+---+-----+------+-----+--------+\n",
            "\n"
          ]
        }
      ]
    },
    {
      "cell_type": "markdown",
      "source": [
        "# Another way of registering udf"
      ],
      "metadata": {
        "id": "Q_z3orKHPhuN"
      }
    },
    {
      "cell_type": "code",
      "source": [
        "@udf(returnType=IntegerType()) #Annotation\n",
        "def totalPay(s,b):\n",
        "  return s+b"
      ],
      "metadata": {
        "id": "GhwfslPlPntB"
      },
      "execution_count": 9,
      "outputs": []
    },
    {
      "cell_type": "code",
      "source": [
        "df.select('*',totalPay(df.salary,df.bonus).alias('totalPay')).show()"
      ],
      "metadata": {
        "colab": {
          "base_uri": "https://localhost:8080/"
        },
        "id": "SspEeMi1P9jU",
        "outputId": "f93ca9d5-8012-4eca-c30d-89425354448a"
      },
      "execution_count": 10,
      "outputs": [
        {
          "output_type": "stream",
          "name": "stdout",
          "text": [
            "+---+-----+------+-----+--------+\n",
            "| id| name|salary|bonus|totalPay|\n",
            "+---+-----+------+-----+--------+\n",
            "|  1|sreya|  2000|  200|    2200|\n",
            "|  2|minny|  3000|  300|    3300|\n",
            "+---+-----+------+-----+--------+\n",
            "\n"
          ]
        }
      ]
    },
    {
      "cell_type": "markdown",
      "source": [
        "# spark.udf.register()"
      ],
      "metadata": {
        "id": "GDkp0jdzQnOQ"
      }
    },
    {
      "cell_type": "code",
      "source": [
        "def totalPay(s,b):\n",
        "  return s+b*4"
      ],
      "metadata": {
        "id": "hiNKqdyvQMm-"
      },
      "execution_count": 13,
      "outputs": []
    },
    {
      "cell_type": "code",
      "source": [
        "spark.udf.register(name='TotalPaySQL',f=totalPay,returnType=IntegerType())"
      ],
      "metadata": {
        "colab": {
          "base_uri": "https://localhost:8080/",
          "height": 103
        },
        "id": "9fS9JZrcQ_J_",
        "outputId": "dd9da69a-20f8-4e5b-8db2-b6eebb550906"
      },
      "execution_count": 14,
      "outputs": [
        {
          "output_type": "execute_result",
          "data": {
            "text/plain": [
              "<function __main__.totalPay(s, b)>"
            ],
            "text/html": [
              "<div style=\"max-width:800px; border: 1px solid var(--colab-border-color);\"><style>\n",
              "      pre.function-repr-contents {\n",
              "        overflow-x: auto;\n",
              "        padding: 8px 12px;\n",
              "        max-height: 500px;\n",
              "      }\n",
              "\n",
              "      pre.function-repr-contents.function-repr-contents-collapsed {\n",
              "        cursor: pointer;\n",
              "        max-height: 100px;\n",
              "      }\n",
              "    </style>\n",
              "    <pre style=\"white-space: initial; background:\n",
              "         var(--colab-secondary-surface-color); padding: 8px 12px;\n",
              "         border-bottom: 1px solid var(--colab-border-color);\"><b>totalPay</b><br/>def totalPay(s, b)</pre><pre class=\"function-repr-contents function-repr-contents-collapsed\" style=\"\"><a class=\"filepath\" style=\"display:none\" href=\"#\">/content/&lt;ipython-input-13-533d0bdeba31&gt;</a>&lt;no docstring&gt;</pre></div>"
            ]
          },
          "metadata": {},
          "execution_count": 14
        }
      ]
    },
    {
      "cell_type": "code",
      "source": [
        "df.createOrReplaceTempView('employees')"
      ],
      "metadata": {
        "id": "u-GsX04jR8Q3"
      },
      "execution_count": 15,
      "outputs": []
    },
    {
      "cell_type": "code",
      "source": [
        "spark.sql('select *,TotalPaySQL(salary,bonus) as totalPay from employees').show()"
      ],
      "metadata": {
        "colab": {
          "base_uri": "https://localhost:8080/"
        },
        "id": "G1DqjIgoSuKy",
        "outputId": "f2efad63-242c-453d-9477-663547437f59"
      },
      "execution_count": 16,
      "outputs": [
        {
          "output_type": "stream",
          "name": "stdout",
          "text": [
            "+---+-----+------+-----+--------+\n",
            "| id| name|salary|bonus|totalPay|\n",
            "+---+-----+------+-----+--------+\n",
            "|  1|sreya|  2000|  200|    2800|\n",
            "|  2|minny|  3000|  300|    4200|\n",
            "+---+-----+------+-----+--------+\n",
            "\n"
          ]
        }
      ]
    }
  ]
}