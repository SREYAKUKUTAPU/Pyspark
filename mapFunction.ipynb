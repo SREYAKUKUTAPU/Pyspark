{
  "nbformat": 4,
  "nbformat_minor": 0,
  "metadata": {
    "colab": {
      "provenance": [],
      "authorship_tag": "ABX9TyMUgeB25RpWQDc4g+ZAiFkU",
      "include_colab_link": true
    },
    "kernelspec": {
      "name": "python3",
      "display_name": "Python 3"
    },
    "language_info": {
      "name": "python"
    }
  },
  "cells": [
    {
      "cell_type": "markdown",
      "metadata": {
        "id": "view-in-github",
        "colab_type": "text"
      },
      "source": [
        "<a href=\"https://colab.research.google.com/github/SREYAKUKUTAPU/Pyspark/blob/main/mapFunction.ipynb\" target=\"_parent\"><img src=\"https://colab.research.google.com/assets/colab-badge.svg\" alt=\"Open In Colab\"/></a>"
      ]
    },
    {
      "cell_type": "code",
      "execution_count": 1,
      "metadata": {
        "id": "4Unv7KSv7-hH"
      },
      "outputs": [],
      "source": [
        "from pyspark.sql import SparkSession\n",
        "from pyspark.sql.types import *\n",
        "from pyspark.sql.functions import *\n",
        "spark = SparkSession.builder.appName(\"show\").getOrCreate()"
      ]
    },
    {
      "cell_type": "code",
      "source": [
        "data=[('Sreya','Kukutapu'),('Minny','Kukutapu')]\n",
        "rdd=spark.sparkContext.parallelize(data)\n",
        "print(rdd.collect())"
      ],
      "metadata": {
        "colab": {
          "base_uri": "https://localhost:8080/"
        },
        "id": "t9i5UELz8t7_",
        "outputId": "d4f581d1-ce55-443f-810d-e11933afc5a6"
      },
      "execution_count": 5,
      "outputs": [
        {
          "output_type": "stream",
          "name": "stdout",
          "text": [
            "[('Sreya', 'Kukutapu'), ('Minny', 'Kukutapu')]\n"
          ]
        }
      ]
    },
    {
      "cell_type": "code",
      "source": [
        "rdd1=rdd.map(lambda x: x+(x[0]+\" \"+x[1],) )\n",
        "print(rdd1.collect())"
      ],
      "metadata": {
        "colab": {
          "base_uri": "https://localhost:8080/"
        },
        "id": "J9fPaaMA92Tw",
        "outputId": "0ab92a0d-443f-451e-a6c3-ae0777deea9f"
      },
      "execution_count": 6,
      "outputs": [
        {
          "output_type": "stream",
          "name": "stdout",
          "text": [
            "[('Sreya', 'Kukutapu', 'Sreya Kukutapu'), ('Minny', 'Kukutapu', 'Minny Kukutapu')]\n"
          ]
        }
      ]
    },
    {
      "cell_type": "code",
      "source": [
        "data=[('Sreya','Kukutapu'),('Minny','Kukutapu')]\n",
        "df=spark.createDataFrame(data,schema=['fn','ln'])\n",
        "df.show()\n",
        "rdd1=df.rdd.map(lambda x: x+(x[0]+\" \"+x[1],))\n",
        "print(type(rdd1))\n",
        "df1=rdd1.toDF(['fn','ln','fullname'])\n",
        "df1.show()"
      ],
      "metadata": {
        "colab": {
          "base_uri": "https://localhost:8080/"
        },
        "id": "D2vHzxSuAnQk",
        "outputId": "19677ec9-f33c-433d-f0a5-6d2158d02867"
      },
      "execution_count": 11,
      "outputs": [
        {
          "output_type": "stream",
          "name": "stdout",
          "text": [
            "+-----+--------+\n",
            "|   fn|      ln|\n",
            "+-----+--------+\n",
            "|Sreya|Kukutapu|\n",
            "|Minny|Kukutapu|\n",
            "+-----+--------+\n",
            "\n",
            "<class 'pyspark.rdd.PipelinedRDD'>\n",
            "+-----+--------+--------------+\n",
            "|   fn|      ln|      fullname|\n",
            "+-----+--------+--------------+\n",
            "|Sreya|Kukutapu|Sreya Kukutapu|\n",
            "|Minny|Kukutapu|Minny Kukutapu|\n",
            "+-----+--------+--------------+\n",
            "\n"
          ]
        }
      ]
    },
    {
      "cell_type": "code",
      "source": [
        "def fullname(x):\n",
        "  return x+(x[0]+' '+x[1], )\n",
        "\n",
        "data=[('Sreya','Kukutapu'),('Minny','Kukutapu')]\n",
        "df=spark.createDataFrame(data,schema=['fn','ln'])\n",
        "rdd1=df.rdd.map(lambda x: fullname(x))\n",
        "df1=rdd1.toDF(['fn','ln','fullname'])\n",
        "df1.show()"
      ],
      "metadata": {
        "colab": {
          "base_uri": "https://localhost:8080/"
        },
        "id": "xuoiHefUDdbB",
        "outputId": "32a88dac-7150-4e70-9fd7-780d2803c386"
      },
      "execution_count": 12,
      "outputs": [
        {
          "output_type": "stream",
          "name": "stdout",
          "text": [
            "+-----+--------+--------------+\n",
            "|   fn|      ln|      fullname|\n",
            "+-----+--------+--------------+\n",
            "|Sreya|Kukutapu|Sreya Kukutapu|\n",
            "|Minny|Kukutapu|Minny Kukutapu|\n",
            "+-----+--------+--------------+\n",
            "\n"
          ]
        }
      ]
    }
  ]
}