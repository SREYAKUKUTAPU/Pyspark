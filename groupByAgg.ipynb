{
  "nbformat": 4,
  "nbformat_minor": 0,
  "metadata": {
    "colab": {
      "provenance": [],
      "authorship_tag": "ABX9TyPUUNPhMVu59FsyiutvVHdo",
      "include_colab_link": true
    },
    "kernelspec": {
      "name": "python3",
      "display_name": "Python 3"
    },
    "language_info": {
      "name": "python"
    }
  },
  "cells": [
    {
      "cell_type": "markdown",
      "metadata": {
        "id": "view-in-github",
        "colab_type": "text"
      },
      "source": [
        "<a href=\"https://colab.research.google.com/github/SREYAKUKUTAPU/Pyspark/blob/main/groupByAgg.ipynb\" target=\"_parent\"><img src=\"https://colab.research.google.com/assets/colab-badge.svg\" alt=\"Open In Colab\"/></a>"
      ]
    },
    {
      "cell_type": "code",
      "execution_count": 1,
      "metadata": {
        "id": "iBqcRGRGge5F"
      },
      "outputs": [],
      "source": [
        "from pyspark.sql import SparkSession, Row\n",
        "from pyspark.sql.types import *\n",
        "from pyspark.sql.functions import *\n",
        "spark = SparkSession.builder.appName(\"show\").getOrCreate()"
      ]
    },
    {
      "cell_type": "code",
      "source": [
        "# Sample Data\n",
        "data = [\n",
        "\n",
        "    (1, \"Bob\", \"M\", 60000, \"Engineering\"),\n",
        "    (2, \"Carol\", \"F\", 70000, \"Engineering\"),\n",
        "    (3, \"Dave\", \"M\", 55000, \"HR\"),\n",
        "    (4, \"Eve\", \"F\", 75000, \"Marketing\"),\n",
        "    (5, \"Frank\", \"M\", 65000, \"Marketing\"),\n",
        "    (6, \"Fran\", \"M\", 85000, \"Marketing\")\n",
        "]\n",
        "\n",
        "# Define column names\n",
        "schema = [\"id\", \"name\", \"gender\", \"salary\", \"department\"]\n",
        "\n",
        "df=spark.createDataFrame(data,schema)\n",
        "df.show()"
      ],
      "metadata": {
        "colab": {
          "base_uri": "https://localhost:8080/"
        },
        "id": "EsA-F_TugqAb",
        "outputId": "7d2dbeaa-801a-4e27-e45e-45f198c6dafc"
      },
      "execution_count": 2,
      "outputs": [
        {
          "output_type": "stream",
          "name": "stdout",
          "text": [
            "+---+-----+------+------+-----------+\n",
            "| id| name|gender|salary| department|\n",
            "+---+-----+------+------+-----------+\n",
            "|  1|  Bob|     M| 60000|Engineering|\n",
            "|  2|Carol|     F| 70000|Engineering|\n",
            "|  3| Dave|     M| 55000|         HR|\n",
            "|  4|  Eve|     F| 75000|  Marketing|\n",
            "|  5|Frank|     M| 65000|  Marketing|\n",
            "|  6| Fran|     M| 85000|  Marketing|\n",
            "+---+-----+------+------+-----------+\n",
            "\n"
          ]
        }
      ]
    },
    {
      "cell_type": "code",
      "source": [
        "df.groupBy('department').agg(count('*').alias('countOfEmps'),min('salary').alias('minSalary'),max('salary').alias('maxSalary')).show()"
      ],
      "metadata": {
        "colab": {
          "base_uri": "https://localhost:8080/"
        },
        "id": "NID-eis0gytO",
        "outputId": "1f837961-0018-4ded-f930-d47b79e611c5"
      },
      "execution_count": 5,
      "outputs": [
        {
          "output_type": "stream",
          "name": "stdout",
          "text": [
            "+-----------+-----------+---------+---------+\n",
            "| department|countOfEmps|minSalary|maxSalary|\n",
            "+-----------+-----------+---------+---------+\n",
            "|Engineering|          2|    60000|    70000|\n",
            "|         HR|          1|    55000|    55000|\n",
            "|  Marketing|          3|    65000|    85000|\n",
            "+-----------+-----------+---------+---------+\n",
            "\n"
          ]
        }
      ]
    }
  ]
}