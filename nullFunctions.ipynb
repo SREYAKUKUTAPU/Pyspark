{
  "nbformat": 4,
  "nbformat_minor": 0,
  "metadata": {
    "colab": {
      "provenance": [],
      "authorship_tag": "ABX9TyP8JCXgxIfc8W9DOskK2MsS",
      "include_colab_link": true
    },
    "kernelspec": {
      "name": "python3",
      "display_name": "Python 3"
    },
    "language_info": {
      "name": "python"
    }
  },
  "cells": [
    {
      "cell_type": "markdown",
      "metadata": {
        "id": "view-in-github",
        "colab_type": "text"
      },
      "source": [
        "<a href=\"https://colab.research.google.com/github/SREYAKUKUTAPU/Pyspark/blob/main/nullFunctions.ipynb\" target=\"_parent\"><img src=\"https://colab.research.google.com/assets/colab-badge.svg\" alt=\"Open In Colab\"/></a>"
      ]
    },
    {
      "cell_type": "code",
      "execution_count": 1,
      "metadata": {
        "id": "uhfJ7fxQ5bYE"
      },
      "outputs": [],
      "source": [
        "from pyspark.sql import SparkSession, Row\n",
        "from pyspark.sql.types import *\n",
        "from pyspark.sql.functions import *\n",
        "spark = SparkSession.builder.appName(\"show\").getOrCreate()"
      ]
    },
    {
      "cell_type": "code",
      "source": [
        "data=[(1,'Sreya','F',1000,None),(2,'Minny','F',2000,'IT'),(3,'Joe',None,3000,'HR')]\n",
        "schema=['id','name','gender','salary','department']\n",
        "df=spark.createDataFrame(data,schema)\n",
        "df.show()\n",
        "df.printSchema()"
      ],
      "metadata": {
        "colab": {
          "base_uri": "https://localhost:8080/"
        },
        "id": "mQ4Kda8Y6gJX",
        "outputId": "0ff26eae-374d-47f4-c540-ffd61550b736"
      },
      "execution_count": 4,
      "outputs": [
        {
          "output_type": "stream",
          "name": "stdout",
          "text": [
            "+---+-----+------+------+----------+\n",
            "| id| name|gender|salary|department|\n",
            "+---+-----+------+------+----------+\n",
            "|  1|Sreya|     F|  1000|      NULL|\n",
            "|  2|Minny|     F|  2000|        IT|\n",
            "|  3|  Joe|  NULL|  3000|        HR|\n",
            "+---+-----+------+------+----------+\n",
            "\n",
            "root\n",
            " |-- id: long (nullable = true)\n",
            " |-- name: string (nullable = true)\n",
            " |-- gender: string (nullable = true)\n",
            " |-- salary: long (nullable = true)\n",
            " |-- department: string (nullable = true)\n",
            "\n"
          ]
        }
      ]
    },
    {
      "cell_type": "code",
      "source": [
        "df.fillna('unknown').show()"
      ],
      "metadata": {
        "colab": {
          "base_uri": "https://localhost:8080/"
        },
        "id": "dfAIougS7Qip",
        "outputId": "f9f2e80a-4e55-43a1-f400-ac5b9dda0072"
      },
      "execution_count": 5,
      "outputs": [
        {
          "output_type": "stream",
          "name": "stdout",
          "text": [
            "+---+-----+-------+------+----------+\n",
            "| id| name| gender|salary|department|\n",
            "+---+-----+-------+------+----------+\n",
            "|  1|Sreya|      F|  1000|   unknown|\n",
            "|  2|Minny|      F|  2000|        IT|\n",
            "|  3|  Joe|unknown|  3000|        HR|\n",
            "+---+-----+-------+------+----------+\n",
            "\n"
          ]
        }
      ]
    },
    {
      "cell_type": "code",
      "source": [
        "df.fillna('unknown',['gender']).show()"
      ],
      "metadata": {
        "colab": {
          "base_uri": "https://localhost:8080/"
        },
        "id": "8m0ET0q793Tn",
        "outputId": "780c8644-0155-4f9f-f23b-f49507d168d3"
      },
      "execution_count": 6,
      "outputs": [
        {
          "output_type": "stream",
          "name": "stdout",
          "text": [
            "+---+-----+-------+------+----------+\n",
            "| id| name| gender|salary|department|\n",
            "+---+-----+-------+------+----------+\n",
            "|  1|Sreya|      F|  1000|      NULL|\n",
            "|  2|Minny|      F|  2000|        IT|\n",
            "|  3|  Joe|unknown|  3000|        HR|\n",
            "+---+-----+-------+------+----------+\n",
            "\n"
          ]
        }
      ]
    },
    {
      "cell_type": "code",
      "source": [
        "df.na.fill('unknown',['department','gender']).show()"
      ],
      "metadata": {
        "colab": {
          "base_uri": "https://localhost:8080/"
        },
        "id": "p2tnWnPT-pgR",
        "outputId": "48a5ae35-639f-4b72-bf6a-d579088c4f2b"
      },
      "execution_count": 8,
      "outputs": [
        {
          "output_type": "stream",
          "name": "stdout",
          "text": [
            "+---+-----+-------+------+----------+\n",
            "| id| name| gender|salary|department|\n",
            "+---+-----+-------+------+----------+\n",
            "|  1|Sreya|      F|  1000|   unknown|\n",
            "|  2|Minny|      F|  2000|        IT|\n",
            "|  3|  Joe|unknown|  3000|        HR|\n",
            "+---+-----+-------+------+----------+\n",
            "\n"
          ]
        }
      ]
    }
  ]
}