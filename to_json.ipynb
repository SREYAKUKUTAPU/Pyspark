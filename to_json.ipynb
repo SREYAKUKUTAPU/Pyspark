{
  "nbformat": 4,
  "nbformat_minor": 0,
  "metadata": {
    "colab": {
      "provenance": [],
      "authorship_tag": "ABX9TyOqMHce+icSGglm8q6XJzrK",
      "include_colab_link": true
    },
    "kernelspec": {
      "name": "python3",
      "display_name": "Python 3"
    },
    "language_info": {
      "name": "python"
    }
  },
  "cells": [
    {
      "cell_type": "markdown",
      "metadata": {
        "id": "view-in-github",
        "colab_type": "text"
      },
      "source": [
        "<a href=\"https://colab.research.google.com/github/SREYAKUKUTAPU/Pyspark/blob/main/to_json.ipynb\" target=\"_parent\"><img src=\"https://colab.research.google.com/assets/colab-badge.svg\" alt=\"Open In Colab\"/></a>"
      ]
    },
    {
      "cell_type": "markdown",
      "source": [
        "# mapType to json"
      ],
      "metadata": {
        "id": "5b6OtDzwrY0b"
      }
    },
    {
      "cell_type": "code",
      "execution_count": 2,
      "metadata": {
        "id": "HUMzOalajWet"
      },
      "outputs": [],
      "source": [
        "from pyspark.sql import SparkSession\n",
        "from pyspark.sql.types import *\n",
        "from pyspark.sql.functions import *\n",
        "spark = SparkSession.builder.appName(\"show\").getOrCreate()"
      ]
    },
    {
      "cell_type": "code",
      "source": [
        "data=[('Sreya',{'age':22,'experience':1})]\n",
        "schema=['name','details']\n",
        "df=spark.createDataFrame(data,schema)\n",
        "df.show(truncate=False)\n",
        "df.printSchema()"
      ],
      "metadata": {
        "colab": {
          "base_uri": "https://localhost:8080/"
        },
        "id": "2HU15L6yqGrL",
        "outputId": "04c4deb6-36f0-4a39-e6eb-96c4e4140653"
      },
      "execution_count": 17,
      "outputs": [
        {
          "output_type": "stream",
          "name": "stdout",
          "text": [
            "+-----+----------------------------+\n",
            "|name |details                     |\n",
            "+-----+----------------------------+\n",
            "|Sreya|{experience -> 1, age -> 22}|\n",
            "+-----+----------------------------+\n",
            "\n",
            "root\n",
            " |-- name: string (nullable = true)\n",
            " |-- details: map (nullable = true)\n",
            " |    |-- key: string\n",
            " |    |-- value: long (valueContainsNull = true)\n",
            "\n"
          ]
        }
      ]
    },
    {
      "cell_type": "code",
      "source": [
        "df1=df.withColumn('detailsMapToJson',to_json(df.details))\n",
        "df1.show(truncate=False)\n",
        "df1.printSchema()"
      ],
      "metadata": {
        "colab": {
          "base_uri": "https://localhost:8080/"
        },
        "id": "LnmrUm6iqrAm",
        "outputId": "af260e2f-2c4d-406b-db1d-605f24a7fdb2"
      },
      "execution_count": 18,
      "outputs": [
        {
          "output_type": "stream",
          "name": "stdout",
          "text": [
            "+-----+----------------------------+-------------------------+\n",
            "|name |details                     |detailsMapToJson         |\n",
            "+-----+----------------------------+-------------------------+\n",
            "|Sreya|{experience -> 1, age -> 22}|{\"experience\":1,\"age\":22}|\n",
            "+-----+----------------------------+-------------------------+\n",
            "\n",
            "root\n",
            " |-- name: string (nullable = true)\n",
            " |-- details: map (nullable = true)\n",
            " |    |-- key: string\n",
            " |    |-- value: long (valueContainsNull = true)\n",
            " |-- detailsMapToJson: string (nullable = true)\n",
            "\n"
          ]
        }
      ]
    },
    {
      "cell_type": "markdown",
      "source": [
        "# StructType to json"
      ],
      "metadata": {
        "id": "oJqZrIJRrTgk"
      }
    },
    {
      "cell_type": "code",
      "source": [
        "structSchema=StructType([StructField('name',StringType()),StructField('details',StructType([StructField('age',IntegerType()),StructField('experience',IntegerType())]))])\n",
        "data=[('Sreya',(22,1))]\n",
        "# The schema expects a name and a tuple for details, so the data needs to be in that format\n",
        "df1=spark.createDataFrame(data,structSchema)\n",
        "df1.show(truncate=False)\n",
        "df1.printSchema()\n",
        "\n"
      ],
      "metadata": {
        "colab": {
          "base_uri": "https://localhost:8080/"
        },
        "id": "KgY-TbNtrX4e",
        "outputId": "6c3cb96a-b744-44fe-ab8b-1235f387fb49"
      },
      "execution_count": 12,
      "outputs": [
        {
          "output_type": "stream",
          "name": "stdout",
          "text": [
            "+-----+-------+\n",
            "|name |details|\n",
            "+-----+-------+\n",
            "|Sreya|{22, 1}|\n",
            "+-----+-------+\n",
            "\n",
            "root\n",
            " |-- name: string (nullable = true)\n",
            " |-- details: struct (nullable = true)\n",
            " |    |-- age: integer (nullable = true)\n",
            " |    |-- experience: integer (nullable = true)\n",
            "\n"
          ]
        }
      ]
    },
    {
      "cell_type": "code",
      "source": [
        "df2=df1.withColumn('detailsStructToJson',to_json(df1.details))\n",
        "df2.show(truncate=False)\n",
        "df2.printSchema()"
      ],
      "metadata": {
        "colab": {
          "base_uri": "https://localhost:8080/"
        },
        "id": "Pszgt7j4trR2",
        "outputId": "ceb8ad4e-d325-4185-eab0-efb118e5a838"
      },
      "execution_count": 15,
      "outputs": [
        {
          "output_type": "stream",
          "name": "stdout",
          "text": [
            "+-----+-------+-------------------------+\n",
            "|name |details|detailsStructToJson      |\n",
            "+-----+-------+-------------------------+\n",
            "|Sreya|{22, 1}|{\"age\":22,\"experience\":1}|\n",
            "+-----+-------+-------------------------+\n",
            "\n",
            "root\n",
            " |-- name: string (nullable = true)\n",
            " |-- details: struct (nullable = true)\n",
            " |    |-- age: integer (nullable = true)\n",
            " |    |-- experience: integer (nullable = true)\n",
            " |-- detailsStructToJson: string (nullable = true)\n",
            "\n"
          ]
        }
      ]
    }
  ]
}