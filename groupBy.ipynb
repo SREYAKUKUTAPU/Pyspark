{
  "nbformat": 4,
  "nbformat_minor": 0,
  "metadata": {
    "colab": {
      "provenance": [],
      "authorship_tag": "ABX9TyOksM0b3/RJhOZDBIIIHCSH",
      "include_colab_link": true
    },
    "kernelspec": {
      "name": "python3",
      "display_name": "Python 3"
    },
    "language_info": {
      "name": "python"
    }
  },
  "cells": [
    {
      "cell_type": "markdown",
      "metadata": {
        "id": "view-in-github",
        "colab_type": "text"
      },
      "source": [
        "<a href=\"https://colab.research.google.com/github/SREYAKUKUTAPU/Pyspark/blob/main/groupBy.ipynb\" target=\"_parent\"><img src=\"https://colab.research.google.com/assets/colab-badge.svg\" alt=\"Open In Colab\"/></a>"
      ]
    },
    {
      "cell_type": "code",
      "execution_count": 1,
      "metadata": {
        "id": "XgEHIHA_a-Xy"
      },
      "outputs": [],
      "source": [
        "from pyspark.sql import SparkSession, Row\n",
        "from pyspark.sql.types import *\n",
        "from pyspark.sql.functions import *\n",
        "spark = SparkSession.builder.appName(\"show\").getOrCreate()"
      ]
    },
    {
      "cell_type": "code",
      "source": [
        "# Sample Data\n",
        "data = [\n",
        "\n",
        "    (1, \"Bob\", \"M\", 60000, \"Engineering\"),\n",
        "    (2, \"Carol\", \"F\", 70000, \"Engineering\"),\n",
        "    (3, \"Dave\", \"M\", 55000, \"HR\"),\n",
        "    (4, \"Eve\", \"F\", 75000, \"Marketing\"),\n",
        "    (5, \"Frank\", \"M\", 65000, \"Marketing\"),\n",
        "    (6, \"Fran\", \"M\", 85000, \"Marketing\")\n",
        "]\n",
        "\n",
        "# Define column names\n",
        "schema = [\"id\", \"name\", \"gender\", \"salary\", \"department\"]\n",
        "\n",
        "df=spark.createDataFrame(data,schema)\n",
        "df.show()"
      ],
      "metadata": {
        "colab": {
          "base_uri": "https://localhost:8080/"
        },
        "id": "RrzUMQEUbRmu",
        "outputId": "f2760587-f530-4fed-8ed2-629293db1f14"
      },
      "execution_count": 10,
      "outputs": [
        {
          "output_type": "stream",
          "name": "stdout",
          "text": [
            "+---+-----+------+------+-----------+\n",
            "| id| name|gender|salary| department|\n",
            "+---+-----+------+------+-----------+\n",
            "|  1|  Bob|     M| 60000|Engineering|\n",
            "|  2|Carol|     F| 70000|Engineering|\n",
            "|  3| Dave|     M| 55000|         HR|\n",
            "|  4|  Eve|     F| 75000|  Marketing|\n",
            "|  5|Frank|     M| 65000|  Marketing|\n",
            "|  6| Fran|     M| 85000|  Marketing|\n",
            "+---+-----+------+------+-----------+\n",
            "\n"
          ]
        }
      ]
    },
    {
      "cell_type": "code",
      "source": [
        "df1=df.groupBy('department').count()\n",
        "df1.show()"
      ],
      "metadata": {
        "colab": {
          "base_uri": "https://localhost:8080/"
        },
        "id": "7-xz-Uvkd229",
        "outputId": "9632dafb-23a8-4d75-bf8d-49d4f5c8edbd"
      },
      "execution_count": 11,
      "outputs": [
        {
          "output_type": "stream",
          "name": "stdout",
          "text": [
            "+-----------+-----+\n",
            "| department|count|\n",
            "+-----------+-----+\n",
            "|Engineering|    2|\n",
            "|         HR|    1|\n",
            "|  Marketing|    3|\n",
            "+-----------+-----+\n",
            "\n"
          ]
        }
      ]
    },
    {
      "cell_type": "code",
      "source": [
        "df1=df.groupBy('department').min('salary')\n",
        "df1.show()"
      ],
      "metadata": {
        "colab": {
          "base_uri": "https://localhost:8080/"
        },
        "id": "pN7rrxOkec4N",
        "outputId": "66ab6407-1a21-4c21-9ad8-461f2fe2c8c6"
      },
      "execution_count": 12,
      "outputs": [
        {
          "output_type": "stream",
          "name": "stdout",
          "text": [
            "+-----------+-----------+\n",
            "| department|min(salary)|\n",
            "+-----------+-----------+\n",
            "|Engineering|      60000|\n",
            "|         HR|      55000|\n",
            "|  Marketing|      65000|\n",
            "+-----------+-----------+\n",
            "\n"
          ]
        }
      ]
    },
    {
      "cell_type": "code",
      "source": [
        "df1=df.groupBy('department','gender').count()\n",
        "df1.orderBy(df.department.asc()).show()"
      ],
      "metadata": {
        "colab": {
          "base_uri": "https://localhost:8080/"
        },
        "id": "ugfPhFQAfX8H",
        "outputId": "74c4fa65-c294-46c6-c3ba-6d9cea6abab4"
      },
      "execution_count": 18,
      "outputs": [
        {
          "output_type": "stream",
          "name": "stdout",
          "text": [
            "+-----------+------+-----+\n",
            "| department|gender|count|\n",
            "+-----------+------+-----+\n",
            "|Engineering|     F|    1|\n",
            "|Engineering|     M|    1|\n",
            "|         HR|     M|    1|\n",
            "|  Marketing|     F|    1|\n",
            "|  Marketing|     M|    2|\n",
            "+-----------+------+-----+\n",
            "\n"
          ]
        }
      ]
    }
  ]
}