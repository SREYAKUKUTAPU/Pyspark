{
  "nbformat": 4,
  "nbformat_minor": 0,
  "metadata": {
    "colab": {
      "provenance": [],
      "authorship_tag": "ABX9TyMuMzJXmw465kSYRXOJhrN/",
      "include_colab_link": true
    },
    "kernelspec": {
      "name": "python3",
      "display_name": "Python 3"
    },
    "language_info": {
      "name": "python"
    }
  },
  "cells": [
    {
      "cell_type": "markdown",
      "metadata": {
        "id": "view-in-github",
        "colab_type": "text"
      },
      "source": [
        "<a href=\"https://colab.research.google.com/github/SREYAKUKUTAPU/Pyspark/blob/main/from_jsonToMapType.ipynb\" target=\"_parent\"><img src=\"https://colab.research.google.com/assets/colab-badge.svg\" alt=\"Open In Colab\"/></a>"
      ]
    },
    {
      "cell_type": "code",
      "execution_count": 1,
      "metadata": {
        "id": "hPYGv3wNX3u3"
      },
      "outputs": [],
      "source": [
        "from pyspark.sql import SparkSession\n",
        "from pyspark.sql.types import *\n",
        "from pyspark.sql.functions import *\n",
        "spark = SparkSession.builder.appName(\"show\").getOrCreate()"
      ]
    },
    {
      "cell_type": "code",
      "source": [
        "data=[('Sreya',\"{'age':22,'experience':1}\")]\n",
        "schema=['name','details']\n",
        "df=spark.createDataFrame(data,schema)\n",
        "df.show(truncate=False)\n",
        "df.printSchema()"
      ],
      "metadata": {
        "colab": {
          "base_uri": "https://localhost:8080/"
        },
        "id": "YrQUGmi9YmMb",
        "outputId": "7e25f85e-11d6-48c0-a6d6-5edb4455d7ed"
      },
      "execution_count": 6,
      "outputs": [
        {
          "output_type": "stream",
          "name": "stdout",
          "text": [
            "+-----+-------------------------+\n",
            "|name |details                  |\n",
            "+-----+-------------------------+\n",
            "|Sreya|{'age':22,'experience':1}|\n",
            "+-----+-------------------------+\n",
            "\n",
            "root\n",
            " |-- name: string (nullable = true)\n",
            " |-- details: string (nullable = true)\n",
            "\n"
          ]
        }
      ]
    },
    {
      "cell_type": "code",
      "source": [
        "df1=df.withColumn('detailsMap',from_json(df.details,schema=MapType(StringType(),StringType())))\n",
        "df1.show(truncate=False)\n",
        "df1.printSchema()"
      ],
      "metadata": {
        "colab": {
          "base_uri": "https://localhost:8080/"
        },
        "id": "9tvNzWKoafyR",
        "outputId": "8a0ef252-e9c9-4595-9583-1d094b72ac94"
      },
      "execution_count": 11,
      "outputs": [
        {
          "output_type": "stream",
          "name": "stdout",
          "text": [
            "+-----+-------------------------+----------------------------+\n",
            "|name |details                  |detailsMap                  |\n",
            "+-----+-------------------------+----------------------------+\n",
            "|Sreya|{'age':22,'experience':1}|{age -> 22, experience -> 1}|\n",
            "+-----+-------------------------+----------------------------+\n",
            "\n",
            "root\n",
            " |-- name: string (nullable = true)\n",
            " |-- details: string (nullable = true)\n",
            " |-- detailsMap: map (nullable = true)\n",
            " |    |-- key: string\n",
            " |    |-- value: string (valueContainsNull = true)\n",
            "\n"
          ]
        }
      ]
    },
    {
      "cell_type": "code",
      "source": [
        "df2=df1.withColumn('age',df1.detailsMap.age).withColumn('experience',df1.detailsMap.experience)\n",
        "df2=df2.drop('detailsMap')\n",
        "df2.show(truncate=False)\n"
      ],
      "metadata": {
        "colab": {
          "base_uri": "https://localhost:8080/"
        },
        "id": "zUfwoCsUbioS",
        "outputId": "83036d02-591a-47b1-85f8-d541b86f7e32"
      },
      "execution_count": 18,
      "outputs": [
        {
          "output_type": "stream",
          "name": "stdout",
          "text": [
            "+-----+-------------------------+---+----------+\n",
            "|name |details                  |age|experience|\n",
            "+-----+-------------------------+---+----------+\n",
            "|Sreya|{'age':22,'experience':1}|22 |1         |\n",
            "+-----+-------------------------+---+----------+\n",
            "\n"
          ]
        }
      ]
    }
  ]
}