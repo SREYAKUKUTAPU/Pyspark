{
  "nbformat": 4,
  "nbformat_minor": 0,
  "metadata": {
    "colab": {
      "provenance": [],
      "authorship_tag": "ABX9TyMPknzW9bwJsr3KcTKIUZ1P",
      "include_colab_link": true
    },
    "kernelspec": {
      "name": "python3",
      "display_name": "Python 3"
    },
    "language_info": {
      "name": "python"
    }
  },
  "cells": [
    {
      "cell_type": "markdown",
      "metadata": {
        "id": "view-in-github",
        "colab_type": "text"
      },
      "source": [
        "<a href=\"https://colab.research.google.com/github/SREYAKUKUTAPU/Pyspark/blob/main/aggregateFunctions1.ipynb\" target=\"_parent\"><img src=\"https://colab.research.google.com/assets/colab-badge.svg\" alt=\"Open In Colab\"/></a>"
      ]
    },
    {
      "cell_type": "code",
      "execution_count": 1,
      "metadata": {
        "id": "knhnbrXQQqq5"
      },
      "outputs": [],
      "source": [
        "from pyspark.sql import SparkSession\n",
        "from pyspark.sql.types import *\n",
        "from pyspark.sql.functions import *\n",
        "spark = SparkSession.builder.appName(\"show\").getOrCreate()"
      ]
    },
    {
      "cell_type": "code",
      "source": [
        "data=[('Sreya','IT',1500),('Minny','IT',3000),('ABCD','HR',1500)]\n",
        "schema=['name','department','salary']\n",
        "df=spark.createDataFrame(data,schema)\n",
        "df.show()"
      ],
      "metadata": {
        "colab": {
          "base_uri": "https://localhost:8080/"
        },
        "id": "oZvotSjVTIWy",
        "outputId": "c1274260-329d-4d8c-f6e7-b1f7986d93a2"
      },
      "execution_count": 7,
      "outputs": [
        {
          "output_type": "stream",
          "name": "stdout",
          "text": [
            "+-----+----------+------+\n",
            "| name|department|salary|\n",
            "+-----+----------+------+\n",
            "|Sreya|        IT|  1500|\n",
            "|Minny|        IT|  3000|\n",
            "| ABCD|        HR|  1500|\n",
            "+-----+----------+------+\n",
            "\n"
          ]
        }
      ]
    },
    {
      "cell_type": "code",
      "source": [
        "df.select(approx_count_distinct('salary')).show()\n",
        "df.select(avg('salary')).show()\n",
        "df.select(collect_list('salary')).show()\n",
        "df.select(collect_set('salary')).show()\n",
        "df.select(countDistinct('salary')).show()\n",
        "df.select(count('salary')).show()\n",
        "df.select(first('salary')).show()\n",
        "df.select(last('salary')).show()"
      ],
      "metadata": {
        "colab": {
          "base_uri": "https://localhost:8080/"
        },
        "id": "gH-GJ8XFUlRv",
        "outputId": "dd3847d9-fc45-43bf-c037-3d5b68c6f04b"
      },
      "execution_count": 11,
      "outputs": [
        {
          "output_type": "stream",
          "name": "stdout",
          "text": [
            "+-----------------------------+\n",
            "|approx_count_distinct(salary)|\n",
            "+-----------------------------+\n",
            "|                            2|\n",
            "+-----------------------------+\n",
            "\n",
            "+-----------+\n",
            "|avg(salary)|\n",
            "+-----------+\n",
            "|     2000.0|\n",
            "+-----------+\n",
            "\n",
            "+--------------------+\n",
            "|collect_list(salary)|\n",
            "+--------------------+\n",
            "|  [1500, 3000, 1500]|\n",
            "+--------------------+\n",
            "\n",
            "+-------------------+\n",
            "|collect_set(salary)|\n",
            "+-------------------+\n",
            "|       [3000, 1500]|\n",
            "+-------------------+\n",
            "\n",
            "+----------------------+\n",
            "|count(DISTINCT salary)|\n",
            "+----------------------+\n",
            "|                     2|\n",
            "+----------------------+\n",
            "\n",
            "+-------------+\n",
            "|count(salary)|\n",
            "+-------------+\n",
            "|            3|\n",
            "+-------------+\n",
            "\n",
            "+-------------+\n",
            "|first(salary)|\n",
            "+-------------+\n",
            "|         1500|\n",
            "+-------------+\n",
            "\n",
            "+------------+\n",
            "|last(salary)|\n",
            "+------------+\n",
            "|        1500|\n",
            "+------------+\n",
            "\n"
          ]
        }
      ]
    }
  ]
}