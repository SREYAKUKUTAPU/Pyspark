{
  "nbformat": 4,
  "nbformat_minor": 0,
  "metadata": {
    "colab": {
      "provenance": [],
      "authorship_tag": "ABX9TyOSG1t/lSUV2P2niRTf4zsI",
      "include_colab_link": true
    },
    "kernelspec": {
      "name": "python3",
      "display_name": "Python 3"
    },
    "language_info": {
      "name": "python"
    }
  },
  "cells": [
    {
      "cell_type": "markdown",
      "metadata": {
        "id": "view-in-github",
        "colab_type": "text"
      },
      "source": [
        "<a href=\"https://colab.research.google.com/github/SREYAKUKUTAPU/Pyspark/blob/main/timestampFunctions.ipynb\" target=\"_parent\"><img src=\"https://colab.research.google.com/assets/colab-badge.svg\" alt=\"Open In Colab\"/></a>"
      ]
    },
    {
      "cell_type": "code",
      "execution_count": 1,
      "metadata": {
        "id": "mBpFZ56pL3ye"
      },
      "outputs": [],
      "source": [
        "from pyspark.sql import SparkSession\n",
        "from pyspark.sql.types import *\n",
        "from pyspark.sql.functions import *\n",
        "spark = SparkSession.builder.appName(\"show\").getOrCreate()"
      ]
    },
    {
      "cell_type": "code",
      "source": [
        "df=spark.range(1)\n",
        "df.show()"
      ],
      "metadata": {
        "colab": {
          "base_uri": "https://localhost:8080/"
        },
        "id": "tkYAJ5SdL9YH",
        "outputId": "346bc74e-c88c-4ef3-a278-cef85d6530ed"
      },
      "execution_count": 2,
      "outputs": [
        {
          "output_type": "stream",
          "name": "stdout",
          "text": [
            "+---+\n",
            "| id|\n",
            "+---+\n",
            "|  0|\n",
            "+---+\n",
            "\n"
          ]
        }
      ]
    },
    {
      "cell_type": "code",
      "source": [
        "df1=df.withColumn('timestamp',current_timestamp())\n",
        "df1.show(truncate=False)\n",
        "df1.printSchema()"
      ],
      "metadata": {
        "colab": {
          "base_uri": "https://localhost:8080/"
        },
        "id": "T-6yM_DsMLHD",
        "outputId": "e70e7527-3e8a-4f4e-f77c-674049bf786b"
      },
      "execution_count": 5,
      "outputs": [
        {
          "output_type": "stream",
          "name": "stdout",
          "text": [
            "+---+--------------------------+\n",
            "|id |timestamp                 |\n",
            "+---+--------------------------+\n",
            "|0  |2024-12-30 15:34:43.085461|\n",
            "+---+--------------------------+\n",
            "\n",
            "root\n",
            " |-- id: long (nullable = false)\n",
            " |-- timestamp: timestamp (nullable = false)\n",
            "\n"
          ]
        }
      ]
    },
    {
      "cell_type": "code",
      "source": [
        "df2=df1.withColumn('toTimestamp',to_timestamp(lit('2024-12-26 15:32:11.441885')))\n",
        "df2.show(truncate=False)\n",
        "df2.printSchema()"
      ],
      "metadata": {
        "colab": {
          "base_uri": "https://localhost:8080/"
        },
        "id": "rkVxIutLMfQ4",
        "outputId": "4d7c9ddc-1b6a-4757-e422-7cdbbe281ec4"
      },
      "execution_count": 7,
      "outputs": [
        {
          "output_type": "stream",
          "name": "stdout",
          "text": [
            "+---+--------------------------+--------------------------+\n",
            "|id |timestamp                 |toTimestamp               |\n",
            "+---+--------------------------+--------------------------+\n",
            "|0  |2024-12-30 15:35:18.172404|2024-12-26 15:32:11.441885|\n",
            "+---+--------------------------+--------------------------+\n",
            "\n",
            "root\n",
            " |-- id: long (nullable = false)\n",
            " |-- timestamp: timestamp (nullable = false)\n",
            " |-- toTimestamp: timestamp (nullable = true)\n",
            "\n"
          ]
        }
      ]
    },
    {
      "cell_type": "code",
      "source": [
        "df3=df2.select('id','timestamp',hour(current_timestamp()).alias('hour'),minute(current_timestamp()).alias('minute'),second(current_timestamp()).alias('second'))\n",
        "df3.show(truncate=False)"
      ],
      "metadata": {
        "colab": {
          "base_uri": "https://localhost:8080/"
        },
        "id": "X6WZyLNBNIBV",
        "outputId": "e2ddc7c3-ddab-42c3-b131-2c05a4ef609a"
      },
      "execution_count": 10,
      "outputs": [
        {
          "output_type": "stream",
          "name": "stdout",
          "text": [
            "+---+--------------------------+----+------+------+\n",
            "|id |timestamp                 |hour|minute|second|\n",
            "+---+--------------------------+----+------+------+\n",
            "|0  |2024-12-30 15:37:44.840688|15  |37    |44    |\n",
            "+---+--------------------------+----+------+------+\n",
            "\n"
          ]
        }
      ]
    }
  ]
}