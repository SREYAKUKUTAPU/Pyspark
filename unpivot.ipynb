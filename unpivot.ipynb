{
  "nbformat": 4,
  "nbformat_minor": 0,
  "metadata": {
    "colab": {
      "provenance": [],
      "authorship_tag": "ABX9TyPzHf7PiOVTGMKa45kGg+u7",
      "include_colab_link": true
    },
    "kernelspec": {
      "name": "python3",
      "display_name": "Python 3"
    },
    "language_info": {
      "name": "python"
    }
  },
  "cells": [
    {
      "cell_type": "markdown",
      "metadata": {
        "id": "view-in-github",
        "colab_type": "text"
      },
      "source": [
        "<a href=\"https://colab.research.google.com/github/SREYAKUKUTAPU/Pyspark/blob/main/unpivot.ipynb\" target=\"_parent\"><img src=\"https://colab.research.google.com/assets/colab-badge.svg\" alt=\"Open In Colab\"/></a>"
      ]
    },
    {
      "cell_type": "code",
      "execution_count": 1,
      "metadata": {
        "id": "L5OlHW3rktui"
      },
      "outputs": [],
      "source": [
        "from pyspark.sql import SparkSession, Row\n",
        "from pyspark.sql.types import *\n",
        "from pyspark.sql.functions import *\n",
        "spark = SparkSession.builder.appName(\"show\").getOrCreate()"
      ]
    },
    {
      "cell_type": "code",
      "source": [
        "data=[('IT',8,5),('payroll',3,2),('HR',2,4)]\n",
        "schema=['dep','maleCount','femaleCount']\n",
        "df=spark.createDataFrame(data,schema)\n",
        "df.show()"
      ],
      "metadata": {
        "colab": {
          "base_uri": "https://localhost:8080/"
        },
        "id": "CVpERaEilG_1",
        "outputId": "d91ea9aa-5146-4040-cef5-9ae72bec99e7"
      },
      "execution_count": 2,
      "outputs": [
        {
          "output_type": "stream",
          "name": "stdout",
          "text": [
            "+-------+---------+-----------+\n",
            "|    dep|maleCount|femaleCount|\n",
            "+-------+---------+-----------+\n",
            "|     IT|        8|          5|\n",
            "|payroll|        3|          2|\n",
            "|     HR|        2|          4|\n",
            "+-------+---------+-----------+\n",
            "\n"
          ]
        }
      ]
    },
    {
      "cell_type": "code",
      "source": [
        "unpivotDf=df.select('dep',expr(\"stack(2,'male',maleCount,'female',femaleCount) as (gender,count)\"))\n",
        "unpivotDf.show()"
      ],
      "metadata": {
        "colab": {
          "base_uri": "https://localhost:8080/"
        },
        "id": "mCzvEHeq3oL7",
        "outputId": "49e96802-fef5-4fce-98e9-f454498b1f3c"
      },
      "execution_count": 3,
      "outputs": [
        {
          "output_type": "stream",
          "name": "stdout",
          "text": [
            "+-------+------+-----+\n",
            "|    dep|gender|count|\n",
            "+-------+------+-----+\n",
            "|     IT|  male|    8|\n",
            "|     IT|female|    5|\n",
            "|payroll|  male|    3|\n",
            "|payroll|female|    2|\n",
            "|     HR|  male|    2|\n",
            "|     HR|female|    4|\n",
            "+-------+------+-----+\n",
            "\n"
          ]
        }
      ]
    }
  ]
}