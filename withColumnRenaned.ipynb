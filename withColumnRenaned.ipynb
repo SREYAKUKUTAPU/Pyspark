{
  "nbformat": 4,
  "nbformat_minor": 0,
  "metadata": {
    "colab": {
      "provenance": [],
      "authorship_tag": "ABX9TyMV0vNgMTU4E6fgCRDjdkQq",
      "include_colab_link": true
    },
    "kernelspec": {
      "name": "python3",
      "display_name": "Python 3"
    },
    "language_info": {
      "name": "python"
    }
  },
  "cells": [
    {
      "cell_type": "markdown",
      "metadata": {
        "id": "view-in-github",
        "colab_type": "text"
      },
      "source": [
        "<a href=\"https://colab.research.google.com/github/SREYAKUKUTAPU/Pyspark/blob/main/withColumnRenaned.ipynb\" target=\"_parent\"><img src=\"https://colab.research.google.com/assets/colab-badge.svg\" alt=\"Open In Colab\"/></a>"
      ]
    },
    {
      "cell_type": "code",
      "execution_count": null,
      "metadata": {
        "colab": {
          "base_uri": "https://localhost:8080/"
        },
        "id": "u0DAFo9VTyqQ",
        "outputId": "13c95849-31c2-4028-bd46-d349022930e4"
      },
      "outputs": [
        {
          "output_type": "stream",
          "name": "stdout",
          "text": [
            "root\n",
            " |-- id: long (nullable = true)\n",
            " |-- name: string (nullable = true)\n",
            " |-- salary: long (nullable = true)\n",
            "\n",
            "+---+-----+------+\n",
            "| id| name|salary|\n",
            "+---+-----+------+\n",
            "|  1|Sreya| 28000|\n",
            "|  2|Srija| 85000|\n",
            "+---+-----+------+\n",
            "\n"
          ]
        }
      ],
      "source": [
        "from pyspark.sql import SparkSession\n",
        "from pyspark.sql.types import StructType, StructField, IntegerType, StringType\n",
        "from pyspark.sql.functions import col,lit\n",
        "# Initialize SparkSession\n",
        "spark = SparkSession.builder.appName(\"show\").getOrCreate()\n",
        "\n",
        "# Define the schema\n",
        "schema=['id','name','salary']\n",
        "data=[(1,'Sreya',28000),(2,'Srija',85000)]\n",
        "df=spark.createDataFrame(data,schema)\n",
        "df.printSchema()\n",
        "df.show()"
      ]
    },
    {
      "cell_type": "code",
      "source": [
        "df2=df.withColumnRenamed('salary','my_salary')\n",
        "df2.printSchema()\n",
        "df2.show()"
      ],
      "metadata": {
        "colab": {
          "base_uri": "https://localhost:8080/"
        },
        "id": "FSYf9f5XUKpz",
        "outputId": "7b85de8c-6df9-4f4d-8390-d27f9b966d02"
      },
      "execution_count": null,
      "outputs": [
        {
          "output_type": "stream",
          "name": "stdout",
          "text": [
            "root\n",
            " |-- id: long (nullable = true)\n",
            " |-- name: string (nullable = true)\n",
            " |-- my_salary: long (nullable = true)\n",
            "\n",
            "+---+-----+---------+\n",
            "| id| name|my_salary|\n",
            "+---+-----+---------+\n",
            "|  1|Sreya|    28000|\n",
            "|  2|Srija|    85000|\n",
            "+---+-----+---------+\n",
            "\n"
          ]
        }
      ]
    }
  ]
}