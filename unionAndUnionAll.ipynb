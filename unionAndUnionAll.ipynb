{
  "nbformat": 4,
  "nbformat_minor": 0,
  "metadata": {
    "colab": {
      "provenance": [],
      "authorship_tag": "ABX9TyPD4aYtXicX/C42IOVeLYBB",
      "include_colab_link": true
    },
    "kernelspec": {
      "name": "python3",
      "display_name": "Python 3"
    },
    "language_info": {
      "name": "python"
    }
  },
  "cells": [
    {
      "cell_type": "markdown",
      "metadata": {
        "id": "view-in-github",
        "colab_type": "text"
      },
      "source": [
        "<a href=\"https://colab.research.google.com/github/SREYAKUKUTAPU/Pyspark/blob/main/unionAndUnionAll.ipynb\" target=\"_parent\"><img src=\"https://colab.research.google.com/assets/colab-badge.svg\" alt=\"Open In Colab\"/></a>"
      ]
    },
    {
      "cell_type": "code",
      "execution_count": 1,
      "metadata": {
        "id": "QkgpkG-vTS3Q"
      },
      "outputs": [],
      "source": [
        "from pyspark.sql import SparkSession, Row\n",
        "from pyspark.sql.types import *\n",
        "from pyspark.sql.functions import *\n",
        "spark = SparkSession.builder.appName(\"show\").getOrCreate()"
      ]
    },
    {
      "cell_type": "code",
      "source": [
        "data1=[(1,'Sreya','F'),(2,'abcd','F'),(3,'yyyy','M'),(4,'Sya','F')]\n",
        "schema1=['id','name','gender']\n",
        "data2=[(4,'Sya','F'),(5,'xyz','F'),(6,'def','M')]\n",
        "schema2=['id','name','gender']\n",
        "df1=spark.createDataFrame(data1,schema1)\n",
        "df2=spark.createDataFrame(data2,schema2)\n",
        "df1.show()\n",
        "df2.show()"
      ],
      "metadata": {
        "colab": {
          "base_uri": "https://localhost:8080/"
        },
        "id": "PRz7__cZWwvE",
        "outputId": "5f3d5990-2747-472d-cb66-821c19d1947d"
      },
      "execution_count": 7,
      "outputs": [
        {
          "output_type": "stream",
          "name": "stdout",
          "text": [
            "+---+-----+------+\n",
            "| id| name|gender|\n",
            "+---+-----+------+\n",
            "|  1|Sreya|     F|\n",
            "|  2| abcd|     F|\n",
            "|  3| yyyy|     M|\n",
            "|  4|  Sya|     F|\n",
            "+---+-----+------+\n",
            "\n",
            "+---+----+------+\n",
            "| id|name|gender|\n",
            "+---+----+------+\n",
            "|  4| Sya|     F|\n",
            "|  5| xyz|     F|\n",
            "|  6| def|     M|\n",
            "+---+----+------+\n",
            "\n"
          ]
        }
      ]
    },
    {
      "cell_type": "markdown",
      "source": [
        "# union() funtion"
      ],
      "metadata": {
        "id": "pzu_SaVETtuU"
      }
    },
    {
      "cell_type": "code",
      "source": [
        "df3=df1.union(df2)\n",
        "df3.show()\n",
        "df3=df1.union(df2).union(df1)\n",
        "df3.show()"
      ],
      "metadata": {
        "colab": {
          "base_uri": "https://localhost:8080/"
        },
        "id": "37oeSs1OT0Wm",
        "outputId": "c67381f7-2e70-4da3-bebe-37a462bba3bd"
      },
      "execution_count": 9,
      "outputs": [
        {
          "output_type": "stream",
          "name": "stdout",
          "text": [
            "+---+-----+------+\n",
            "| id| name|gender|\n",
            "+---+-----+------+\n",
            "|  1|Sreya|     F|\n",
            "|  2| abcd|     F|\n",
            "|  3| yyyy|     M|\n",
            "|  4|  Sya|     F|\n",
            "|  4|  Sya|     F|\n",
            "|  5|  xyz|     F|\n",
            "|  6|  def|     M|\n",
            "+---+-----+------+\n",
            "\n",
            "+---+-----+------+\n",
            "| id| name|gender|\n",
            "+---+-----+------+\n",
            "|  1|Sreya|     F|\n",
            "|  2| abcd|     F|\n",
            "|  3| yyyy|     M|\n",
            "|  4|  Sya|     F|\n",
            "|  4|  Sya|     F|\n",
            "|  5|  xyz|     F|\n",
            "|  6|  def|     M|\n",
            "|  1|Sreya|     F|\n",
            "|  2| abcd|     F|\n",
            "|  3| yyyy|     M|\n",
            "|  4|  Sya|     F|\n",
            "+---+-----+------+\n",
            "\n"
          ]
        }
      ]
    },
    {
      "cell_type": "markdown",
      "source": [
        "## unionAll()"
      ],
      "metadata": {
        "id": "k7wCe5oLZhOr"
      }
    },
    {
      "cell_type": "code",
      "source": [
        "df3=df1.unionAll(df2)\n",
        "df3.show()\n",
        "df3=df1.unionAll(df2).union(df1)\n",
        "df3.show()"
      ],
      "metadata": {
        "colab": {
          "base_uri": "https://localhost:8080/"
        },
        "id": "VgY4ccp1YCl_",
        "outputId": "86588716-8137-4d50-f163-47572489907f"
      },
      "execution_count": 10,
      "outputs": [
        {
          "output_type": "stream",
          "name": "stdout",
          "text": [
            "+---+-----+------+\n",
            "| id| name|gender|\n",
            "+---+-----+------+\n",
            "|  1|Sreya|     F|\n",
            "|  2| abcd|     F|\n",
            "|  3| yyyy|     M|\n",
            "|  4|  Sya|     F|\n",
            "|  4|  Sya|     F|\n",
            "|  5|  xyz|     F|\n",
            "|  6|  def|     M|\n",
            "+---+-----+------+\n",
            "\n",
            "+---+-----+------+\n",
            "| id| name|gender|\n",
            "+---+-----+------+\n",
            "|  1|Sreya|     F|\n",
            "|  2| abcd|     F|\n",
            "|  3| yyyy|     M|\n",
            "|  4|  Sya|     F|\n",
            "|  4|  Sya|     F|\n",
            "|  5|  xyz|     F|\n",
            "|  6|  def|     M|\n",
            "|  1|Sreya|     F|\n",
            "|  2| abcd|     F|\n",
            "|  3| yyyy|     M|\n",
            "|  4|  Sya|     F|\n",
            "+---+-----+------+\n",
            "\n"
          ]
        }
      ]
    },
    {
      "cell_type": "code",
      "source": [
        "df3=df1.unionAll(df2).union(df1)\n",
        "df3.distinct().orderBy(df3.id).show()"
      ],
      "metadata": {
        "colab": {
          "base_uri": "https://localhost:8080/"
        },
        "id": "pIza137NaIwW",
        "outputId": "b3bd897a-2445-4cf8-ae41-5206a2166661"
      },
      "execution_count": 12,
      "outputs": [
        {
          "output_type": "stream",
          "name": "stdout",
          "text": [
            "+---+-----+------+\n",
            "| id| name|gender|\n",
            "+---+-----+------+\n",
            "|  1|Sreya|     F|\n",
            "|  2| abcd|     F|\n",
            "|  3| yyyy|     M|\n",
            "|  4|  Sya|     F|\n",
            "|  5|  xyz|     F|\n",
            "|  6|  def|     M|\n",
            "+---+-----+------+\n",
            "\n"
          ]
        }
      ]
    }
  ]
}