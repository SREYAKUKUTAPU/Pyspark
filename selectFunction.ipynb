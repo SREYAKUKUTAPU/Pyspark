{
  "nbformat": 4,
  "nbformat_minor": 0,
  "metadata": {
    "colab": {
      "provenance": [],
      "authorship_tag": "ABX9TyPxq/NNOk/t63P3Ws3NKlpj",
      "include_colab_link": true
    },
    "kernelspec": {
      "name": "python3",
      "display_name": "Python 3"
    },
    "language_info": {
      "name": "python"
    }
  },
  "cells": [
    {
      "cell_type": "markdown",
      "metadata": {
        "id": "view-in-github",
        "colab_type": "text"
      },
      "source": [
        "<a href=\"https://colab.research.google.com/github/SREYAKUKUTAPU/Pyspark/blob/main/selectFunction.ipynb\" target=\"_parent\"><img src=\"https://colab.research.google.com/assets/colab-badge.svg\" alt=\"Open In Colab\"/></a>"
      ]
    },
    {
      "cell_type": "code",
      "execution_count": 1,
      "metadata": {
        "id": "A3V87igZdm47"
      },
      "outputs": [],
      "source": [
        "from pyspark.sql import SparkSession, Row\n",
        "from pyspark.sql.types import *\n",
        "from pyspark.sql.functions import *\n",
        "spark = SparkSession.builder.appName(\"show\").getOrCreate()"
      ]
    },
    {
      "cell_type": "code",
      "source": [
        "data1=[(1,'Sreya','F'),(2,'abcd','F'),(3,'yyyy','M'),(4,'Sya','F')]\n",
        "schema1=['id','name','gender']\n",
        "\n",
        "df=spark.createDataFrame(data1,schema1)\n",
        "\n",
        "df.show()\n"
      ],
      "metadata": {
        "colab": {
          "base_uri": "https://localhost:8080/"
        },
        "id": "tuh_WVXHjx17",
        "outputId": "65bf3f72-cfd9-49a4-a7c5-ae8b6a4d499c"
      },
      "execution_count": 2,
      "outputs": [
        {
          "output_type": "stream",
          "name": "stdout",
          "text": [
            "+---+-----+------+\n",
            "| id| name|gender|\n",
            "+---+-----+------+\n",
            "|  1|Sreya|     F|\n",
            "|  2| abcd|     F|\n",
            "|  3| yyyy|     M|\n",
            "|  4|  Sya|     F|\n",
            "+---+-----+------+\n",
            "\n"
          ]
        }
      ]
    },
    {
      "cell_type": "code",
      "source": [
        "df.select('id','name').show()\n",
        "df.select(df.id,df.name).show()\n",
        "df.select(col('id'),col('name')).show()\n",
        "df.select(df['id'],df['name']).show()\n",
        "df.select(['id','name']).show()"
      ],
      "metadata": {
        "colab": {
          "base_uri": "https://localhost:8080/"
        },
        "id": "34DsN_B1j9TL",
        "outputId": "91a71a29-d820-4dab-8303-8597457712f8"
      },
      "execution_count": 4,
      "outputs": [
        {
          "output_type": "stream",
          "name": "stdout",
          "text": [
            "+---+-----+\n",
            "| id| name|\n",
            "+---+-----+\n",
            "|  1|Sreya|\n",
            "|  2| abcd|\n",
            "|  3| yyyy|\n",
            "|  4|  Sya|\n",
            "+---+-----+\n",
            "\n",
            "+---+-----+\n",
            "| id| name|\n",
            "+---+-----+\n",
            "|  1|Sreya|\n",
            "|  2| abcd|\n",
            "|  3| yyyy|\n",
            "|  4|  Sya|\n",
            "+---+-----+\n",
            "\n",
            "+---+-----+\n",
            "| id| name|\n",
            "+---+-----+\n",
            "|  1|Sreya|\n",
            "|  2| abcd|\n",
            "|  3| yyyy|\n",
            "|  4|  Sya|\n",
            "+---+-----+\n",
            "\n",
            "+---+-----+\n",
            "| id| name|\n",
            "+---+-----+\n",
            "|  1|Sreya|\n",
            "|  2| abcd|\n",
            "|  3| yyyy|\n",
            "|  4|  Sya|\n",
            "+---+-----+\n",
            "\n",
            "+---+-----+\n",
            "| id| name|\n",
            "+---+-----+\n",
            "|  1|Sreya|\n",
            "|  2| abcd|\n",
            "|  3| yyyy|\n",
            "|  4|  Sya|\n",
            "+---+-----+\n",
            "\n"
          ]
        }
      ]
    }
  ]
}