{
  "nbformat": 4,
  "nbformat_minor": 0,
  "metadata": {
    "colab": {
      "provenance": [],
      "mount_file_id": "1d3nIr3ilzGFChvU9s-7bzl1l_KHFHknO",
      "authorship_tag": "ABX9TyPuGejQ56jygaRCRXDNj/Qw",
      "include_colab_link": true
    },
    "kernelspec": {
      "name": "python3",
      "display_name": "Python 3"
    },
    "language_info": {
      "name": "python"
    }
  },
  "cells": [
    {
      "cell_type": "markdown",
      "metadata": {
        "id": "view-in-github",
        "colab_type": "text"
      },
      "source": [
        "<a href=\"https://colab.research.google.com/github/SREYAKUKUTAPU/Pyspark/blob/main/writeDFintoJSON.ipynb\" target=\"_parent\"><img src=\"https://colab.research.google.com/assets/colab-badge.svg\" alt=\"Open In Colab\"/></a>"
      ]
    },
    {
      "cell_type": "code",
      "execution_count": null,
      "metadata": {
        "id": "pzJByuhfBino",
        "colab": {
          "base_uri": "https://localhost:8080/"
        },
        "outputId": "8f9a2366-a5f2-4a0d-91ce-f9657b75db29"
      },
      "outputs": [
        {
          "output_type": "stream",
          "name": "stdout",
          "text": [
            "root\n",
            " |-- emp_id: integer (nullable = true)\n",
            " |-- name: string (nullable = true)\n",
            " |-- age: integer (nullable = true)\n",
            "\n",
            "+------+-----+---+\n",
            "|emp_id| name|age|\n",
            "+------+-----+---+\n",
            "|     1|Sreya| 22|\n",
            "|     2|Minny| 22|\n",
            "+------+-----+---+\n",
            "\n"
          ]
        }
      ],
      "source": [
        "from pyspark.sql import SparkSession\n",
        "from pyspark.sql.types import StructType, StructField, IntegerType, StringType\n",
        "\n",
        "# Initialize SparkSession\n",
        "spark = SparkSession.builder.appName(\"WriteDFintoJSOn\").getOrCreate()\n",
        "\n",
        "# Define the schema\n",
        "schema = StructType([\n",
        "    StructField(\"emp_id\", IntegerType(), True),  # emp_id as Integer, nullable\n",
        "    StructField(\"name\", StringType(), True),    # name as String, nullable\n",
        "    StructField(\"age\", IntegerType(), True)     # age as Integer, nullable\n",
        "])\n",
        "data=[(1,'Sreya',22),(2,'Minny',22)]\n",
        "df=spark.createDataFrame(data,schema)\n",
        "df.printSchema()\n",
        "df.show()"
      ]
    },
    {
      "cell_type": "code",
      "source": [
        "df.write.json('/content/drive/MyDrive/Colab Notebooks/employee1.json',mode='overwrite')"
      ],
      "metadata": {
        "id": "YJpvxKrAGLos"
      },
      "execution_count": null,
      "outputs": []
    },
    {
      "cell_type": "code",
      "source": [
        "df1=spark.read.json('/content/drive/MyDrive/Colab Notebooks/employee1.json')\n",
        "df1.show()"
      ],
      "metadata": {
        "colab": {
          "base_uri": "https://localhost:8080/"
        },
        "id": "gkXF3yGIGc4Y",
        "outputId": "f9d1b3df-a847-4ffa-e85d-46c119229a2a"
      },
      "execution_count": null,
      "outputs": [
        {
          "output_type": "stream",
          "name": "stdout",
          "text": [
            "+---+------+-----+\n",
            "|age|emp_id| name|\n",
            "+---+------+-----+\n",
            "| 22|     1|Sreya|\n",
            "| 22|     2|Minny|\n",
            "+---+------+-----+\n",
            "\n"
          ]
        }
      ]
    }
  ]
}