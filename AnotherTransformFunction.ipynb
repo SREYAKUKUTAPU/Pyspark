{
  "nbformat": 4,
  "nbformat_minor": 0,
  "metadata": {
    "colab": {
      "provenance": [],
      "authorship_tag": "ABX9TyPuUNPHzN8KRU0BxGQc5v0v",
      "include_colab_link": true
    },
    "kernelspec": {
      "name": "python3",
      "display_name": "Python 3"
    },
    "language_info": {
      "name": "python"
    }
  },
  "cells": [
    {
      "cell_type": "markdown",
      "metadata": {
        "id": "view-in-github",
        "colab_type": "text"
      },
      "source": [
        "<a href=\"https://colab.research.google.com/github/SREYAKUKUTAPU/Pyspark/blob/main/AnotherTransformFunction.ipynb\" target=\"_parent\"><img src=\"https://colab.research.google.com/assets/colab-badge.svg\" alt=\"Open In Colab\"/></a>"
      ]
    },
    {
      "cell_type": "markdown",
      "source": [
        "# pyspark.sql.functions.tranform()"
      ],
      "metadata": {
        "id": "FP9lgtyKHfVw"
      }
    },
    {
      "cell_type": "code",
      "execution_count": 1,
      "metadata": {
        "id": "OVjnDDcQHZhl"
      },
      "outputs": [],
      "source": [
        "from pyspark.sql import SparkSession, Row\n",
        "from pyspark.sql.types import *\n",
        "from pyspark.sql.functions import *\n",
        "spark = SparkSession.builder.appName(\"show\").getOrCreate()"
      ]
    },
    {
      "cell_type": "code",
      "source": [
        "schema = StructType([\n",
        "    StructField(\"id\", IntegerType(), True),\n",
        "    StructField(\"name\", StringType(), True),\n",
        "    StructField(\"skills\", ArrayType(StringType()), True)\n",
        "])\n",
        "\n",
        "# Data\n",
        "data = [\n",
        "    (1, \"Alice Johnson\", [\"Python\", \"SQL\", \"Machine Learning\"]),\n",
        "    (2, \"Bob Smith\", [\"Java\", \"Spring Boot\", \"Microservices\"]),\n",
        "    (3, \"Cathy Lee\", [\"HTML\", \"CSS\", \"JavaScript\", \"React\"]),\n",
        "    (4, \"David Brown\", [\"Finance Analysis\", \"Excel\", \"Power BI\"]),\n",
        "    (5, \"Ella Martinez\", [\"Python\", \"Data Engineering\", \"Spark\"]),\n",
        "    (6, \"Frank Adams\", [\"Customer Support\", \"Communication\", \"Problem Solving\"]),\n",
        "    (7, \"Grace Kim\", [\"Marketing\", \"SEO\", \"Content Writing\"]),\n",
        "    (8, \"Henry Turner\", [\"Network Security\", \"Linux\", \"AWS\"])\n",
        "]\n",
        "\n",
        "df=spark.createDataFrame(data, schema)\n",
        "df.show(truncate=False)\n"
      ],
      "metadata": {
        "colab": {
          "base_uri": "https://localhost:8080/"
        },
        "id": "z5Ef43EWJQL8",
        "outputId": "93b60a09-8f74-474d-c00b-be7781ff84e8"
      },
      "execution_count": 4,
      "outputs": [
        {
          "output_type": "stream",
          "name": "stdout",
          "text": [
            "+---+-------------+--------------------------------------------------+\n",
            "|id |name         |skills                                            |\n",
            "+---+-------------+--------------------------------------------------+\n",
            "|1  |Alice Johnson|[Python, SQL, Machine Learning]                   |\n",
            "|2  |Bob Smith    |[Java, Spring Boot, Microservices]                |\n",
            "|3  |Cathy Lee    |[HTML, CSS, JavaScript, React]                    |\n",
            "|4  |David Brown  |[Finance Analysis, Excel, Power BI]               |\n",
            "|5  |Ella Martinez|[Python, Data Engineering, Spark]                 |\n",
            "|6  |Frank Adams  |[Customer Support, Communication, Problem Solving]|\n",
            "|7  |Grace Kim    |[Marketing, SEO, Content Writing]                 |\n",
            "|8  |Henry Turner |[Network Security, Linux, AWS]                    |\n",
            "+---+-------------+--------------------------------------------------+\n",
            "\n"
          ]
        }
      ]
    },
    {
      "cell_type": "code",
      "source": [
        "df.select('id','name',transform('skills',lambda x:upper(x)).alias('skills')).show(truncate=False)"
      ],
      "metadata": {
        "colab": {
          "base_uri": "https://localhost:8080/"
        },
        "id": "eZ_aX3i6LGwV",
        "outputId": "452afdb6-0d3b-42f2-a54c-0b512d2b0ce3"
      },
      "execution_count": 7,
      "outputs": [
        {
          "output_type": "stream",
          "name": "stdout",
          "text": [
            "+---+-------------+--------------------------------------------------+\n",
            "|id |name         |skills                                            |\n",
            "+---+-------------+--------------------------------------------------+\n",
            "|1  |Alice Johnson|[PYTHON, SQL, MACHINE LEARNING]                   |\n",
            "|2  |Bob Smith    |[JAVA, SPRING BOOT, MICROSERVICES]                |\n",
            "|3  |Cathy Lee    |[HTML, CSS, JAVASCRIPT, REACT]                    |\n",
            "|4  |David Brown  |[FINANCE ANALYSIS, EXCEL, POWER BI]               |\n",
            "|5  |Ella Martinez|[PYTHON, DATA ENGINEERING, SPARK]                 |\n",
            "|6  |Frank Adams  |[CUSTOMER SUPPORT, COMMUNICATION, PROBLEM SOLVING]|\n",
            "|7  |Grace Kim    |[MARKETING, SEO, CONTENT WRITING]                 |\n",
            "|8  |Henry Turner |[NETWORK SECURITY, LINUX, AWS]                    |\n",
            "+---+-------------+--------------------------------------------------+\n",
            "\n"
          ]
        }
      ]
    },
    {
      "cell_type": "code",
      "source": [
        "def upper_skill(x):\n",
        "  return upper(x)\n",
        "\n",
        "df.select('id','name',transform('skills',upper_skill).alias('skills')).show(truncate=False)"
      ],
      "metadata": {
        "colab": {
          "base_uri": "https://localhost:8080/"
        },
        "id": "OoAsys5OLscA",
        "outputId": "ac9daf91-7138-42a3-9e31-579bd670a69b"
      },
      "execution_count": 8,
      "outputs": [
        {
          "output_type": "stream",
          "name": "stdout",
          "text": [
            "+---+-------------+--------------------------------------------------+\n",
            "|id |name         |skills                                            |\n",
            "+---+-------------+--------------------------------------------------+\n",
            "|1  |Alice Johnson|[PYTHON, SQL, MACHINE LEARNING]                   |\n",
            "|2  |Bob Smith    |[JAVA, SPRING BOOT, MICROSERVICES]                |\n",
            "|3  |Cathy Lee    |[HTML, CSS, JAVASCRIPT, REACT]                    |\n",
            "|4  |David Brown  |[FINANCE ANALYSIS, EXCEL, POWER BI]               |\n",
            "|5  |Ella Martinez|[PYTHON, DATA ENGINEERING, SPARK]                 |\n",
            "|6  |Frank Adams  |[CUSTOMER SUPPORT, COMMUNICATION, PROBLEM SOLVING]|\n",
            "|7  |Grace Kim    |[MARKETING, SEO, CONTENT WRITING]                 |\n",
            "|8  |Henry Turner |[NETWORK SECURITY, LINUX, AWS]                    |\n",
            "+---+-------------+--------------------------------------------------+\n",
            "\n"
          ]
        }
      ]
    }
  ]
}