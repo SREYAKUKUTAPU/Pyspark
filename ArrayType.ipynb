{
  "nbformat": 4,
  "nbformat_minor": 0,
  "metadata": {
    "colab": {
      "provenance": [],
      "authorship_tag": "ABX9TyOFFHkKQdP3celB8tVQ2fZV",
      "include_colab_link": true
    },
    "kernelspec": {
      "name": "python3",
      "display_name": "Python 3"
    },
    "language_info": {
      "name": "python"
    }
  },
  "cells": [
    {
      "cell_type": "markdown",
      "metadata": {
        "id": "view-in-github",
        "colab_type": "text"
      },
      "source": [
        "<a href=\"https://colab.research.google.com/github/SREYAKUKUTAPU/Pyspark/blob/main/ArrayType.ipynb\" target=\"_parent\"><img src=\"https://colab.research.google.com/assets/colab-badge.svg\" alt=\"Open In Colab\"/></a>"
      ]
    },
    {
      "cell_type": "code",
      "execution_count": 11,
      "metadata": {
        "id": "ce1ZD8Tbg0j1"
      },
      "outputs": [],
      "source": [
        "from pyspark.sql import SparkSession\n",
        "from pyspark.sql.types import *\n",
        "from pyspark.sql.functions import col,lit,array\n",
        "# Initialize SparkSession\n",
        "spark = SparkSession.builder.appName(\"show\").getOrCreate()"
      ]
    },
    {
      "cell_type": "code",
      "source": [
        "data=[('abc',[1,2]),('def',[3,4])]\n",
        "schema=['id','numbers']\n",
        "df=spark.createDataFrame(data,schema)\n",
        "df.printSchema()\n",
        "df.show()"
      ],
      "metadata": {
        "colab": {
          "base_uri": "https://localhost:8080/"
        },
        "id": "0rxe8ZoXhd_1",
        "outputId": "93bafad4-1f6c-4997-c944-dda9b7f5e220"
      },
      "execution_count": 4,
      "outputs": [
        {
          "output_type": "stream",
          "name": "stdout",
          "text": [
            "root\n",
            " |-- id: string (nullable = true)\n",
            " |-- numbers: array (nullable = true)\n",
            " |    |-- element: long (containsNull = true)\n",
            "\n",
            "+---+-------+\n",
            "| id|numbers|\n",
            "+---+-------+\n",
            "|abc| [1, 2]|\n",
            "|def| [3, 4]|\n",
            "+---+-------+\n",
            "\n"
          ]
        }
      ]
    },
    {
      "cell_type": "code",
      "source": [
        "schema1=StructType([StructField('id',StringType()), StructField('numbers',ArrayType(IntegerType()))])\n",
        "df2=spark.createDataFrame(data,schema1)\n",
        "df2.printSchema()\n",
        "df2.show()"
      ],
      "metadata": {
        "colab": {
          "base_uri": "https://localhost:8080/"
        },
        "id": "KTkzX9l_ijJD",
        "outputId": "f9a118f7-b845-4da5-9a16-c68fb832d90a"
      },
      "execution_count": 5,
      "outputs": [
        {
          "output_type": "stream",
          "name": "stdout",
          "text": [
            "root\n",
            " |-- id: string (nullable = true)\n",
            " |-- numbers: array (nullable = true)\n",
            " |    |-- element: integer (containsNull = true)\n",
            "\n",
            "+---+-------+\n",
            "| id|numbers|\n",
            "+---+-------+\n",
            "|abc| [1, 2]|\n",
            "|def| [3, 4]|\n",
            "+---+-------+\n",
            "\n"
          ]
        }
      ]
    },
    {
      "cell_type": "code",
      "source": [
        "df3=df2.withColumn('firstNum',col('numbers')[0]+1).withColumn('secondNum',df2.numbers[1]+1)\n",
        "df3.show()"
      ],
      "metadata": {
        "colab": {
          "base_uri": "https://localhost:8080/"
        },
        "id": "iNLWCQvzkJpa",
        "outputId": "852f9e4f-b0df-48a0-ab58-a4849c80e0bb"
      },
      "execution_count": 10,
      "outputs": [
        {
          "output_type": "stream",
          "name": "stdout",
          "text": [
            "+---+-------+--------+---------+\n",
            "| id|numbers|firstNum|secondNum|\n",
            "+---+-------+--------+---------+\n",
            "|abc| [1, 2]|       2|        3|\n",
            "|def| [3, 4]|       4|        5|\n",
            "+---+-------+--------+---------+\n",
            "\n"
          ]
        }
      ]
    },
    {
      "cell_type": "code",
      "source": [
        "data=[(1,3),(2,4)]\n",
        "schema=['num1','num2']\n",
        "df4=spark.createDataFrame(data,schema)\n",
        "\n",
        "df5=df4.withColumn('combined',array(col('num1')*2,col('num2')*2))\n",
        "df5.show()\n",
        "df5.printSchema()"
      ],
      "metadata": {
        "colab": {
          "base_uri": "https://localhost:8080/"
        },
        "id": "8tepRc2klsoC",
        "outputId": "43486e83-c8ba-4248-e530-41d7fe65ebf0"
      },
      "execution_count": 15,
      "outputs": [
        {
          "output_type": "stream",
          "name": "stdout",
          "text": [
            "+----+----+--------+\n",
            "|num1|num2|combined|\n",
            "+----+----+--------+\n",
            "|   1|   3|  [2, 6]|\n",
            "|   2|   4|  [4, 8]|\n",
            "+----+----+--------+\n",
            "\n",
            "root\n",
            " |-- num1: long (nullable = true)\n",
            " |-- num2: long (nullable = true)\n",
            " |-- combined: array (nullable = false)\n",
            " |    |-- element: long (containsNull = true)\n",
            "\n"
          ]
        }
      ]
    }
  ]
}