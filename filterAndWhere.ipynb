{
  "nbformat": 4,
  "nbformat_minor": 0,
  "metadata": {
    "colab": {
      "provenance": [],
      "authorship_tag": "ABX9TyPitmnwD8PZp7K4vpMlyvT3",
      "include_colab_link": true
    },
    "kernelspec": {
      "name": "python3",
      "display_name": "Python 3"
    },
    "language_info": {
      "name": "python"
    }
  },
  "cells": [
    {
      "cell_type": "markdown",
      "metadata": {
        "id": "view-in-github",
        "colab_type": "text"
      },
      "source": [
        "<a href=\"https://colab.research.google.com/github/SREYAKUKUTAPU/Pyspark/blob/main/filterAndWhere.ipynb\" target=\"_parent\"><img src=\"https://colab.research.google.com/assets/colab-badge.svg\" alt=\"Open In Colab\"/></a>"
      ]
    },
    {
      "cell_type": "code",
      "execution_count": 1,
      "metadata": {
        "id": "5tkLvWhK5kai"
      },
      "outputs": [],
      "source": [
        "from pyspark.sql import SparkSession, Row\n",
        "from pyspark.sql.types import *\n",
        "from pyspark.sql.functions import *\n",
        "spark = SparkSession.builder.appName(\"show\").getOrCreate()"
      ]
    },
    {
      "cell_type": "code",
      "source": [
        "data=[(1,'Sreya','F',5000),(2,'abcd','',6000),(3,'Pavan','M',10000)]\n",
        "schema=['id','name','gender','salary']\n",
        "df=spark.createDataFrame(data,schema)\n",
        "df.show()"
      ],
      "metadata": {
        "colab": {
          "base_uri": "https://localhost:8080/"
        },
        "id": "nhNBjHWJ6D-i",
        "outputId": "875573d9-e53c-43f0-b387-17bd222b7dce"
      },
      "execution_count": 3,
      "outputs": [
        {
          "output_type": "stream",
          "name": "stdout",
          "text": [
            "+---+-----+------+------+\n",
            "| id| name|gender|salary|\n",
            "+---+-----+------+------+\n",
            "|  1|Sreya|     F|  5000|\n",
            "|  2| abcd|      |  6000|\n",
            "|  3|Pavan|     M| 10000|\n",
            "+---+-----+------+------+\n",
            "\n"
          ]
        }
      ]
    },
    {
      "cell_type": "markdown",
      "source": [
        "# filter() function"
      ],
      "metadata": {
        "id": "Rqs3Ckb06d6l"
      }
    },
    {
      "cell_type": "code",
      "source": [
        "df.filter((df.salary<8000)&(df.gender=='F')).show()"
      ],
      "metadata": {
        "colab": {
          "base_uri": "https://localhost:8080/"
        },
        "id": "bLCBGI8x6hYg",
        "outputId": "16f35358-1aeb-4e7e-d9b8-f193aa299e20"
      },
      "execution_count": 6,
      "outputs": [
        {
          "output_type": "stream",
          "name": "stdout",
          "text": [
            "+---+-----+------+------+\n",
            "| id| name|gender|salary|\n",
            "+---+-----+------+------+\n",
            "|  1|Sreya|     F|  5000|\n",
            "+---+-----+------+------+\n",
            "\n"
          ]
        }
      ]
    },
    {
      "cell_type": "markdown",
      "source": [
        "# where() function"
      ],
      "metadata": {
        "id": "_P7xcI0G6xrK"
      }
    },
    {
      "cell_type": "code",
      "source": [
        "df.where((df.salary<8000)&(df.gender=='F')).show()"
      ],
      "metadata": {
        "colab": {
          "base_uri": "https://localhost:8080/"
        },
        "id": "PgwNzl9U61Hd",
        "outputId": "670ea3f9-800d-480d-a9b4-0d03e4f45823"
      },
      "execution_count": 10,
      "outputs": [
        {
          "output_type": "stream",
          "name": "stdout",
          "text": [
            "+---+-----+------+------+\n",
            "| id| name|gender|salary|\n",
            "+---+-----+------+------+\n",
            "|  1|Sreya|     F|  5000|\n",
            "+---+-----+------+------+\n",
            "\n"
          ]
        }
      ]
    }
  ]
}