{
  "nbformat": 4,
  "nbformat_minor": 0,
  "metadata": {
    "colab": {
      "provenance": [],
      "authorship_tag": "ABX9TyOp7dLkStxxzvAkWyKBH6VS",
      "include_colab_link": true
    },
    "kernelspec": {
      "name": "python3",
      "display_name": "Python 3"
    },
    "language_info": {
      "name": "python"
    }
  },
  "cells": [
    {
      "cell_type": "markdown",
      "metadata": {
        "id": "view-in-github",
        "colab_type": "text"
      },
      "source": [
        "<a href=\"https://colab.research.google.com/github/SREYAKUKUTAPU/Pyspark/blob/main/distinctAndDropDuplicate.ipynb\" target=\"_parent\"><img src=\"https://colab.research.google.com/assets/colab-badge.svg\" alt=\"Open In Colab\"/></a>"
      ]
    },
    {
      "cell_type": "code",
      "execution_count": 1,
      "metadata": {
        "id": "CmN4NduT8FDa"
      },
      "outputs": [],
      "source": [
        "from pyspark.sql import SparkSession, Row\n",
        "from pyspark.sql.types import *\n",
        "from pyspark.sql.functions import *\n",
        "spark = SparkSession.builder.appName(\"show\").getOrCreate()"
      ]
    },
    {
      "cell_type": "code",
      "source": [
        "data=[(1,'Sreya','F',5000),(1,'Sreya','F',5000),(1,'Sreya','F',5000),(3,'Pavan','M',10000)]\n",
        "schema=['id','name','gender','salary']\n",
        "df=spark.createDataFrame(data,schema)\n",
        "df.show()"
      ],
      "metadata": {
        "colab": {
          "base_uri": "https://localhost:8080/"
        },
        "id": "NUH2nXGN9BDr",
        "outputId": "3a8bda7e-e1ef-4a6b-e634-2735134d4dfd"
      },
      "execution_count": 11,
      "outputs": [
        {
          "output_type": "stream",
          "name": "stdout",
          "text": [
            "+---+-----+------+------+\n",
            "| id| name|gender|salary|\n",
            "+---+-----+------+------+\n",
            "|  1|Sreya|     F|  5000|\n",
            "|  1|Sreya|     F|  5000|\n",
            "|  1|Sreya|     F|  5000|\n",
            "|  3|Pavan|     M| 10000|\n",
            "+---+-----+------+------+\n",
            "\n"
          ]
        }
      ]
    },
    {
      "cell_type": "markdown",
      "source": [
        "## distinct() function"
      ],
      "metadata": {
        "id": "RSFBpECe9YGO"
      }
    },
    {
      "cell_type": "code",
      "source": [
        "df.distinct().sort(asc(df.id)).show()"
      ],
      "metadata": {
        "colab": {
          "base_uri": "https://localhost:8080/"
        },
        "id": "ftqh3irL9TV1",
        "outputId": "e6428b72-f86f-49db-f6d7-1e6b448a8503"
      },
      "execution_count": 12,
      "outputs": [
        {
          "output_type": "stream",
          "name": "stdout",
          "text": [
            "+---+-----+------+------+\n",
            "| id| name|gender|salary|\n",
            "+---+-----+------+------+\n",
            "|  1|Sreya|     F|  5000|\n",
            "|  3|Pavan|     M| 10000|\n",
            "+---+-----+------+------+\n",
            "\n"
          ]
        }
      ]
    },
    {
      "cell_type": "markdown",
      "source": [
        "# dropDuplicates() function"
      ],
      "metadata": {
        "id": "4iNrAxCm995H"
      }
    },
    {
      "cell_type": "code",
      "source": [
        "df1=df.dropDuplicates().sort(asc(df.id)).show()"
      ],
      "metadata": {
        "colab": {
          "base_uri": "https://localhost:8080/"
        },
        "id": "ymELFXrL-BpY",
        "outputId": "42640010-26f8-4fb9-ff83-a1937db3ed80"
      },
      "execution_count": 13,
      "outputs": [
        {
          "output_type": "stream",
          "name": "stdout",
          "text": [
            "+---+-----+------+------+\n",
            "| id| name|gender|salary|\n",
            "+---+-----+------+------+\n",
            "|  1|Sreya|     F|  5000|\n",
            "|  3|Pavan|     M| 10000|\n",
            "+---+-----+------+------+\n",
            "\n"
          ]
        }
      ]
    },
    {
      "cell_type": "code",
      "source": [
        "df.dropDuplicates(['gender','salary']).sort(asc(df.id)).show()"
      ],
      "metadata": {
        "colab": {
          "base_uri": "https://localhost:8080/"
        },
        "id": "4yjvX7-6-Kz7",
        "outputId": "4e7d0148-0f66-4db7-8fc0-8d71a53170c5"
      },
      "execution_count": 14,
      "outputs": [
        {
          "output_type": "stream",
          "name": "stdout",
          "text": [
            "+---+-----+------+------+\n",
            "| id| name|gender|salary|\n",
            "+---+-----+------+------+\n",
            "|  1|Sreya|     F|  5000|\n",
            "|  3|Pavan|     M| 10000|\n",
            "+---+-----+------+------+\n",
            "\n"
          ]
        }
      ]
    }
  ]
}