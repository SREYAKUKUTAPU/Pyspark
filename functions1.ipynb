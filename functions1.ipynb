{
  "nbformat": 4,
  "nbformat_minor": 0,
  "metadata": {
    "colab": {
      "provenance": [],
      "collapsed_sections": [
        "FlZVj7y_w0Zi"
      ],
      "authorship_tag": "ABX9TyPSZoLllQob5V2NfKfeSKkv",
      "include_colab_link": true
    },
    "kernelspec": {
      "name": "python3",
      "display_name": "Python 3"
    },
    "language_info": {
      "name": "python"
    }
  },
  "cells": [
    {
      "cell_type": "markdown",
      "metadata": {
        "id": "view-in-github",
        "colab_type": "text"
      },
      "source": [
        "<a href=\"https://colab.research.google.com/github/SREYAKUKUTAPU/Pyspark/blob/main/functions1.ipynb\" target=\"_parent\"><img src=\"https://colab.research.google.com/assets/colab-badge.svg\" alt=\"Open In Colab\"/></a>"
      ]
    },
    {
      "cell_type": "markdown",
      "source": [
        "# explode() Function"
      ],
      "metadata": {
        "id": "FlZVj7y_w0Zi"
      }
    },
    {
      "cell_type": "code",
      "execution_count": 23,
      "metadata": {
        "id": "ClCQv_4qsH6E"
      },
      "outputs": [],
      "source": [
        "#explode\n",
        "from pyspark.sql import SparkSession\n",
        "from pyspark.sql.types import *\n",
        "from pyspark.sql.functions import *\n",
        "# Initialize SparkSession\n",
        "spark = SparkSession.builder.appName(\"show\").getOrCreate()"
      ]
    },
    {
      "cell_type": "code",
      "source": [
        "data=[('abc',[1,2]),('mno',[3,4]),('xyz',[5,6])]\n",
        "schema=StructType([StructField('id',StringType()),StructField('numbers',ArrayType(IntegerType()))])\n",
        "df=spark.createDataFrame(data,schema)\n",
        "df.show()\n",
        "df.printSchema()"
      ],
      "metadata": {
        "colab": {
          "base_uri": "https://localhost:8080/"
        },
        "id": "5YVru0nNsvaq",
        "outputId": "ab4e5d1c-e6cb-4084-cafe-03966d1cde39"
      },
      "execution_count": 24,
      "outputs": [
        {
          "output_type": "stream",
          "name": "stdout",
          "text": [
            "+---+-------+\n",
            "| id|numbers|\n",
            "+---+-------+\n",
            "|abc| [1, 2]|\n",
            "|mno| [3, 4]|\n",
            "|xyz| [5, 6]|\n",
            "+---+-------+\n",
            "\n",
            "root\n",
            " |-- id: string (nullable = true)\n",
            " |-- numbers: array (nullable = true)\n",
            " |    |-- element: integer (containsNull = true)\n",
            "\n"
          ]
        }
      ]
    },
    {
      "cell_type": "code",
      "source": [
        "df1=df.withColumn('explodeCol',explode(col('numbers'))).select('id','explodeCol')\n",
        "df1.show()"
      ],
      "metadata": {
        "colab": {
          "base_uri": "https://localhost:8080/"
        },
        "id": "l4XD1Ax5tji_",
        "outputId": "b68c4b98-d982-4d78-a3b3-f7b1b700836b"
      },
      "execution_count": 25,
      "outputs": [
        {
          "output_type": "stream",
          "name": "stdout",
          "text": [
            "+---+----------+\n",
            "| id|explodeCol|\n",
            "+---+----------+\n",
            "|abc|         1|\n",
            "|abc|         2|\n",
            "|mno|         3|\n",
            "|mno|         4|\n",
            "|xyz|         5|\n",
            "|xyz|         6|\n",
            "+---+----------+\n",
            "\n"
          ]
        }
      ]
    },
    {
      "cell_type": "markdown",
      "source": [
        "# split() function"
      ],
      "metadata": {
        "id": "X8Yxb-hQw9Hf"
      }
    },
    {
      "cell_type": "code",
      "source": [
        "data=[(1,'Sreya','Bigquery,python,GCP'),(2,'Srija','Java,angular,sql')]\n",
        "schema=['id','name','skills']\n",
        "df=spark.createDataFrame(data,schema)\n",
        "df.show()\n",
        "df.printSchema()\n",
        "df1=df.withColumn('skills',split(col('skills'),',')).select('id','name','skills')\n",
        "df1.show(truncate=False)\n",
        "df1.printSchema()"
      ],
      "metadata": {
        "colab": {
          "base_uri": "https://localhost:8080/"
        },
        "id": "48ahmx1QxwyR",
        "outputId": "96c581ab-e004-4ad1-e453-613ec844c5f2"
      },
      "execution_count": 26,
      "outputs": [
        {
          "output_type": "stream",
          "name": "stdout",
          "text": [
            "+---+-----+-------------------+\n",
            "| id| name|             skills|\n",
            "+---+-----+-------------------+\n",
            "|  1|Sreya|Bigquery,python,GCP|\n",
            "|  2|Srija|   Java,angular,sql|\n",
            "+---+-----+-------------------+\n",
            "\n",
            "root\n",
            " |-- id: long (nullable = true)\n",
            " |-- name: string (nullable = true)\n",
            " |-- skills: string (nullable = true)\n",
            "\n",
            "+---+-----+-----------------------+\n",
            "|id |name |skills                 |\n",
            "+---+-----+-----------------------+\n",
            "|1  |Sreya|[Bigquery, python, GCP]|\n",
            "|2  |Srija|[Java, angular, sql]   |\n",
            "+---+-----+-----------------------+\n",
            "\n",
            "root\n",
            " |-- id: long (nullable = true)\n",
            " |-- name: string (nullable = true)\n",
            " |-- skills: array (nullable = true)\n",
            " |    |-- element: string (containsNull = false)\n",
            "\n"
          ]
        }
      ]
    },
    {
      "cell_type": "code",
      "source": [
        "data=[(1,'Sreya','Bigquery|python|GCP'),(2,'Srija','Java|angular|sql')]\n",
        "schema=['id','name','skills']\n",
        "df=spark.createDataFrame(data,schema)\n",
        "df.show()\n",
        "df.printSchema()\n",
        "df1=df.withColumn('skills',split(col('skills'),'\\|')).select('id','name','skills')\n",
        "df1.show(truncate=False)\n",
        "df1.printSchema()"
      ],
      "metadata": {
        "colab": {
          "base_uri": "https://localhost:8080/"
        },
        "outputId": "2f8cab39-0a36-4f57-f2a1-2e34ea694f4a",
        "id": "e1P-FsHj1HyZ"
      },
      "execution_count": 27,
      "outputs": [
        {
          "output_type": "stream",
          "name": "stdout",
          "text": [
            "+---+-----+-------------------+\n",
            "| id| name|             skills|\n",
            "+---+-----+-------------------+\n",
            "|  1|Sreya|Bigquery|python|GCP|\n",
            "|  2|Srija|   Java|angular|sql|\n",
            "+---+-----+-------------------+\n",
            "\n",
            "root\n",
            " |-- id: long (nullable = true)\n",
            " |-- name: string (nullable = true)\n",
            " |-- skills: string (nullable = true)\n",
            "\n",
            "+---+-----+-----------------------+\n",
            "|id |name |skills                 |\n",
            "+---+-----+-----------------------+\n",
            "|1  |Sreya|[Bigquery, python, GCP]|\n",
            "|2  |Srija|[Java, angular, sql]   |\n",
            "+---+-----+-----------------------+\n",
            "\n",
            "root\n",
            " |-- id: long (nullable = true)\n",
            " |-- name: string (nullable = true)\n",
            " |-- skills: array (nullable = true)\n",
            " |    |-- element: string (containsNull = false)\n",
            "\n"
          ]
        }
      ]
    },
    {
      "cell_type": "markdown",
      "source": [
        "# array() function"
      ],
      "metadata": {
        "id": "Bh9GV7LX1_3L"
      }
    },
    {
      "cell_type": "code",
      "source": [
        "data=[(1,'Sreya','Bigquery','python'),(2,'Srija','Java','angular')]\n",
        "schema=['id','name','primarySkill','secondarySkill']\n",
        "df=spark.createDataFrame(data,schema)\n",
        "df.show()"
      ],
      "metadata": {
        "colab": {
          "base_uri": "https://localhost:8080/"
        },
        "id": "A5DzT1tm2dbZ",
        "outputId": "f96618c0-1ff2-4333-96f3-7f6083d24f6c"
      },
      "execution_count": 28,
      "outputs": [
        {
          "output_type": "stream",
          "name": "stdout",
          "text": [
            "+---+-----+------------+--------------+\n",
            "| id| name|primarySkill|secondarySkill|\n",
            "+---+-----+------------+--------------+\n",
            "|  1|Sreya|    Bigquery|        python|\n",
            "|  2|Srija|        Java|       angular|\n",
            "+---+-----+------------+--------------+\n",
            "\n"
          ]
        }
      ]
    },
    {
      "cell_type": "code",
      "source": [
        "df1=df.withColumn('skills',array(col('primarySkill'),col('secondarySkill')))\n",
        "df1.show(truncate=False)\n",
        "df1.printSchema()"
      ],
      "metadata": {
        "colab": {
          "base_uri": "https://localhost:8080/"
        },
        "id": "PthuuvtF20Qj",
        "outputId": "8578a4f0-ccae-4940-f972-fa9543d114be"
      },
      "execution_count": 29,
      "outputs": [
        {
          "output_type": "stream",
          "name": "stdout",
          "text": [
            "+---+-----+------------+--------------+------------------+\n",
            "|id |name |primarySkill|secondarySkill|skills            |\n",
            "+---+-----+------------+--------------+------------------+\n",
            "|1  |Sreya|Bigquery    |python        |[Bigquery, python]|\n",
            "|2  |Srija|Java        |angular       |[Java, angular]   |\n",
            "+---+-----+------------+--------------+------------------+\n",
            "\n",
            "root\n",
            " |-- id: long (nullable = true)\n",
            " |-- name: string (nullable = true)\n",
            " |-- primarySkill: string (nullable = true)\n",
            " |-- secondarySkill: string (nullable = true)\n",
            " |-- skills: array (nullable = false)\n",
            " |    |-- element: string (containsNull = true)\n",
            "\n"
          ]
        }
      ]
    },
    {
      "cell_type": "markdown",
      "source": [
        "# **array_contains**() fun"
      ],
      "metadata": {
        "id": "Gisg97Dk3eNs"
      }
    },
    {
      "cell_type": "code",
      "source": [
        "data=[(1,'Sreya',['Bigquery','python']),(2,'Srija',['Java','angular']),(3,'Minny',[])]\n",
        "schema=['id','name','skills']\n",
        "df=spark.createDataFrame(data,schema)\n",
        "df1=df.withColumn('HasJavaSkill',array_contains(col('skills'),'Java'))\n",
        "df1.show(truncate=False)"
      ],
      "metadata": {
        "colab": {
          "base_uri": "https://localhost:8080/"
        },
        "id": "Zo75Dh_66ogJ",
        "outputId": "60f33100-e95e-4f27-b208-0615a8e37757"
      },
      "execution_count": 30,
      "outputs": [
        {
          "output_type": "stream",
          "name": "stdout",
          "text": [
            "+---+-----+------------------+------------+\n",
            "|id |name |skills            |HasJavaSkill|\n",
            "+---+-----+------------------+------------+\n",
            "|1  |Sreya|[Bigquery, python]|false       |\n",
            "|2  |Srija|[Java, angular]   |true        |\n",
            "|3  |Minny|[]                |false       |\n",
            "+---+-----+------------------+------------+\n",
            "\n"
          ]
        }
      ]
    }
  ]
}