{
  "nbformat": 4,
  "nbformat_minor": 0,
  "metadata": {
    "colab": {
      "provenance": [],
      "authorship_tag": "ABX9TyM0F1NHIcB5aKAhDz69kHn1",
      "include_colab_link": true
    },
    "kernelspec": {
      "name": "python3",
      "display_name": "Python 3"
    },
    "language_info": {
      "name": "python"
    }
  },
  "cells": [
    {
      "cell_type": "markdown",
      "metadata": {
        "id": "view-in-github",
        "colab_type": "text"
      },
      "source": [
        "<a href=\"https://colab.research.google.com/github/SREYAKUKUTAPU/Pyspark/blob/main/mapType.ipynb\" target=\"_parent\"><img src=\"https://colab.research.google.com/assets/colab-badge.svg\" alt=\"Open In Colab\"/></a>"
      ]
    },
    {
      "cell_type": "code",
      "execution_count": 1,
      "metadata": {
        "id": "d3mLuTxgAY1n"
      },
      "outputs": [],
      "source": [
        "from pyspark.sql import SparkSession\n",
        "from pyspark.sql.types import *\n",
        "from pyspark.sql.functions import *\n",
        "spark = SparkSession.builder.appName(\"show\").getOrCreate()"
      ]
    },
    {
      "cell_type": "code",
      "source": [
        "data=[('Sreya',{'age':22,'experience':1}),('Srija',{'age':25,'experience':5})]\n",
        "schema=['name','details']\n",
        "df=spark.createDataFrame(data,schema)\n",
        "df.show(truncate=False)\n",
        "df.printSchema()"
      ],
      "metadata": {
        "colab": {
          "base_uri": "https://localhost:8080/"
        },
        "id": "u_v-p7tmC5l5",
        "outputId": "805d47fc-b653-44f6-9ac3-70b0991e0c59"
      },
      "execution_count": 2,
      "outputs": [
        {
          "output_type": "stream",
          "name": "stdout",
          "text": [
            "+-----+----------------------------+\n",
            "|name |details                     |\n",
            "+-----+----------------------------+\n",
            "|Sreya|{experience -> 1, age -> 22}|\n",
            "|Srija|{experience -> 5, age -> 25}|\n",
            "+-----+----------------------------+\n",
            "\n",
            "root\n",
            " |-- name: string (nullable = true)\n",
            " |-- details: map (nullable = true)\n",
            " |    |-- key: string\n",
            " |    |-- value: long (valueContainsNull = true)\n",
            "\n"
          ]
        }
      ]
    },
    {
      "cell_type": "code",
      "source": [
        "data=[('Sreya',{'age':22,'experience':1}),('Srija',{'age':25,'experience':5})]\n",
        "schema=StructType([StructField('name',StringType()),StructField('details',MapType(keyType=StringType(),valueType=IntegerType()))])\n",
        "df1=spark.createDataFrame(data,schema)\n",
        "df1.show(truncate=False)\n",
        "df1.printSchema()"
      ],
      "metadata": {
        "colab": {
          "base_uri": "https://localhost:8080/"
        },
        "id": "a1gxFFlsDwOS",
        "outputId": "05d6d605-d3db-425a-bc4f-c73a47d76d83"
      },
      "execution_count": 7,
      "outputs": [
        {
          "output_type": "stream",
          "name": "stdout",
          "text": [
            "+-----+----------------------------+\n",
            "|name |details                     |\n",
            "+-----+----------------------------+\n",
            "|Sreya|{experience -> 1, age -> 22}|\n",
            "|Srija|{experience -> 5, age -> 25}|\n",
            "+-----+----------------------------+\n",
            "\n",
            "root\n",
            " |-- name: string (nullable = true)\n",
            " |-- details: map (nullable = true)\n",
            " |    |-- key: string\n",
            " |    |-- value: integer (valueContainsNull = true)\n",
            "\n"
          ]
        }
      ]
    },
    {
      "cell_type": "code",
      "source": [
        "#df2=df1.withColumn('age',col('details').getItem('age')).withColumn('experience',col('details').getItem('experience'))\n",
        "df2=df1.withColumn('age',df1.details['age']).withColumn('experience',df1.details['experience'])\n",
        "df2.show(truncate=False)"
      ],
      "metadata": {
        "colab": {
          "base_uri": "https://localhost:8080/"
        },
        "id": "4xdvOKwdKZck",
        "outputId": "195255da-b1dc-4501-fc7f-106ccd6f9fdb"
      },
      "execution_count": 10,
      "outputs": [
        {
          "output_type": "stream",
          "name": "stdout",
          "text": [
            "+-----+----------------------------+---+----------+\n",
            "|name |details                     |age|experience|\n",
            "+-----+----------------------------+---+----------+\n",
            "|Sreya|{experience -> 1, age -> 22}|22 |1         |\n",
            "|Srija|{experience -> 5, age -> 25}|25 |5         |\n",
            "+-----+----------------------------+---+----------+\n",
            "\n"
          ]
        }
      ]
    }
  ]
}