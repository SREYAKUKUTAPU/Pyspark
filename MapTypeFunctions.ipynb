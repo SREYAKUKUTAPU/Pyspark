{
  "nbformat": 4,
  "nbformat_minor": 0,
  "metadata": {
    "colab": {
      "provenance": [],
      "authorship_tag": "ABX9TyMoUBAQ1MW546sarDkXlE+S",
      "include_colab_link": true
    },
    "kernelspec": {
      "name": "python3",
      "display_name": "Python 3"
    },
    "language_info": {
      "name": "python"
    }
  },
  "cells": [
    {
      "cell_type": "markdown",
      "metadata": {
        "id": "view-in-github",
        "colab_type": "text"
      },
      "source": [
        "<a href=\"https://colab.research.google.com/github/SREYAKUKUTAPU/Pyspark/blob/main/MapTypeFunctions.ipynb\" target=\"_parent\"><img src=\"https://colab.research.google.com/assets/colab-badge.svg\" alt=\"Open In Colab\"/></a>"
      ]
    },
    {
      "cell_type": "code",
      "execution_count": 1,
      "metadata": {
        "id": "WxSV6zxEMy4l"
      },
      "outputs": [],
      "source": [
        "from pyspark.sql import SparkSession\n",
        "from pyspark.sql.types import *\n",
        "from pyspark.sql.functions import *\n",
        "spark = SparkSession.builder.appName(\"show\").getOrCreate()"
      ]
    },
    {
      "cell_type": "code",
      "source": [
        "data=[('Sreya',{'age':22,'experience':1}),('Srija',{'age':25,'experience':5})]\n",
        "schema=StructType([StructField('name',StringType()),StructField('details',MapType(keyType=StringType(),valueType=IntegerType()))])\n",
        "df=spark.createDataFrame(data,schema)\n",
        "df1=df.select('name','details',explode('details'))\n",
        "df1.printSchema()\n",
        "df1.show(truncate=False)"
      ],
      "metadata": {
        "colab": {
          "base_uri": "https://localhost:8080/"
        },
        "id": "OvolzDT4O_cC",
        "outputId": "f0bef3a3-d33f-4545-cbc8-a9788a75ff6b"
      },
      "execution_count": 4,
      "outputs": [
        {
          "output_type": "stream",
          "name": "stdout",
          "text": [
            "root\n",
            " |-- name: string (nullable = true)\n",
            " |-- details: map (nullable = true)\n",
            " |    |-- key: string\n",
            " |    |-- value: integer (valueContainsNull = true)\n",
            " |-- key: string (nullable = false)\n",
            " |-- value: integer (nullable = true)\n",
            "\n",
            "+-----+----------------------------+----------+-----+\n",
            "|name |details                     |key       |value|\n",
            "+-----+----------------------------+----------+-----+\n",
            "|Sreya|{experience -> 1, age -> 22}|experience|1    |\n",
            "|Sreya|{experience -> 1, age -> 22}|age       |22   |\n",
            "|Srija|{experience -> 5, age -> 25}|experience|5    |\n",
            "|Srija|{experience -> 5, age -> 25}|age       |25   |\n",
            "+-----+----------------------------+----------+-----+\n",
            "\n"
          ]
        }
      ]
    },
    {
      "cell_type": "code",
      "source": [
        "df2=df.withColumn('keys',map_keys('details')).withColumn('values',map_values('details'))\n",
        "df2.printSchema()\n",
        "df2.show(truncate=False)"
      ],
      "metadata": {
        "colab": {
          "base_uri": "https://localhost:8080/"
        },
        "id": "fLcxPTqbP2q4",
        "outputId": "d5f9709d-9831-4bcc-f71f-0a616d87c88f"
      },
      "execution_count": 5,
      "outputs": [
        {
          "output_type": "stream",
          "name": "stdout",
          "text": [
            "root\n",
            " |-- name: string (nullable = true)\n",
            " |-- details: map (nullable = true)\n",
            " |    |-- key: string\n",
            " |    |-- value: integer (valueContainsNull = true)\n",
            " |-- keys: array (nullable = true)\n",
            " |    |-- element: string (containsNull = true)\n",
            " |-- values: array (nullable = true)\n",
            " |    |-- element: integer (containsNull = true)\n",
            "\n",
            "+-----+----------------------------+-----------------+-------+\n",
            "|name |details                     |keys             |values |\n",
            "+-----+----------------------------+-----------------+-------+\n",
            "|Sreya|{experience -> 1, age -> 22}|[experience, age]|[1, 22]|\n",
            "|Srija|{experience -> 5, age -> 25}|[experience, age]|[5, 25]|\n",
            "+-----+----------------------------+-----------------+-------+\n",
            "\n"
          ]
        }
      ]
    }
  ]
}