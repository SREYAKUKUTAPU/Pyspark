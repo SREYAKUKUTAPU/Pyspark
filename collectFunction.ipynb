{
  "nbformat": 4,
  "nbformat_minor": 0,
  "metadata": {
    "colab": {
      "provenance": [],
      "authorship_tag": "ABX9TyMOiM8t6JTqxQ1OpUXG2yEp",
      "include_colab_link": true
    },
    "kernelspec": {
      "name": "python3",
      "display_name": "Python 3"
    },
    "language_info": {
      "name": "python"
    }
  },
  "cells": [
    {
      "cell_type": "markdown",
      "metadata": {
        "id": "view-in-github",
        "colab_type": "text"
      },
      "source": [
        "<a href=\"https://colab.research.google.com/github/SREYAKUKUTAPU/Pyspark/blob/main/collectFunction.ipynb\" target=\"_parent\"><img src=\"https://colab.research.google.com/assets/colab-badge.svg\" alt=\"Open In Colab\"/></a>"
      ]
    },
    {
      "cell_type": "code",
      "execution_count": 1,
      "metadata": {
        "id": "GNouCbWAB_e2"
      },
      "outputs": [],
      "source": [
        "from pyspark.sql import SparkSession, Row\n",
        "from pyspark.sql.types import *\n",
        "from pyspark.sql.functions import *\n",
        "spark = SparkSession.builder.appName(\"show\").getOrCreate()"
      ]
    },
    {
      "cell_type": "code",
      "source": [
        "data=[(1,'Sreya','F',1000,None),(2,'Minny','F',2000,'IT'),(3,'Joe',None,3000,'HR')]\n",
        "schema=['id','name','gender','salary','department']\n",
        "df=spark.createDataFrame(data,schema)\n",
        "df.show()\n",
        "df.printSchema()"
      ],
      "metadata": {
        "colab": {
          "base_uri": "https://localhost:8080/"
        },
        "id": "3pnilrq0CQ3C",
        "outputId": "b59809c0-c324-4749-cf6b-0991edf68cdd"
      },
      "execution_count": 2,
      "outputs": [
        {
          "output_type": "stream",
          "name": "stdout",
          "text": [
            "+---+-----+------+------+----------+\n",
            "| id| name|gender|salary|department|\n",
            "+---+-----+------+------+----------+\n",
            "|  1|Sreya|     F|  1000|      NULL|\n",
            "|  2|Minny|     F|  2000|        IT|\n",
            "|  3|  Joe|  NULL|  3000|        HR|\n",
            "+---+-----+------+------+----------+\n",
            "\n",
            "root\n",
            " |-- id: long (nullable = true)\n",
            " |-- name: string (nullable = true)\n",
            " |-- gender: string (nullable = true)\n",
            " |-- salary: long (nullable = true)\n",
            " |-- department: string (nullable = true)\n",
            "\n"
          ]
        }
      ]
    },
    {
      "cell_type": "code",
      "source": [
        "dataRows=df.collect()\n",
        "for row in dataRows:\n",
        "    print(row['name']+'\\t'+str(row['salary']))"
      ],
      "metadata": {
        "colab": {
          "base_uri": "https://localhost:8080/"
        },
        "id": "tuWpA5WTDd_M",
        "outputId": "d538dd2b-6151-411a-88b2-5949c794dded"
      },
      "execution_count": 3,
      "outputs": [
        {
          "output_type": "stream",
          "name": "stdout",
          "text": [
            "Sreya\t1000\n",
            "Minny\t2000\n",
            "Joe\t3000\n"
          ]
        }
      ]
    },
    {
      "cell_type": "code",
      "source": [
        "print(dataRows[0])"
      ],
      "metadata": {
        "colab": {
          "base_uri": "https://localhost:8080/"
        },
        "id": "nDg8-_wdDxxq",
        "outputId": "162e2a25-7548-4297-9a86-659df460d356"
      },
      "execution_count": 4,
      "outputs": [
        {
          "output_type": "stream",
          "name": "stdout",
          "text": [
            "Row(id=1, name='Sreya', gender='F', salary=1000, department=None)\n"
          ]
        }
      ]
    },
    {
      "cell_type": "code",
      "source": [
        "print(dataRows[0][1])"
      ],
      "metadata": {
        "colab": {
          "base_uri": "https://localhost:8080/"
        },
        "id": "dtkAaTfRD2nb",
        "outputId": "eba777ff-fc11-4575-a060-9a99640ee844"
      },
      "execution_count": 5,
      "outputs": [
        {
          "output_type": "stream",
          "name": "stdout",
          "text": [
            "Sreya\n"
          ]
        }
      ]
    }
  ]
}