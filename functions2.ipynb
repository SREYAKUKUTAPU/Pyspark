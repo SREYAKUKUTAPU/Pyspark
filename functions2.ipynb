{
  "nbformat": 4,
  "nbformat_minor": 0,
  "metadata": {
    "colab": {
      "provenance": [],
      "authorship_tag": "ABX9TyOFNNAvUC5rwdNOiTP+LRMB",
      "include_colab_link": true
    },
    "kernelspec": {
      "name": "python3",
      "display_name": "Python 3"
    },
    "language_info": {
      "name": "python"
    }
  },
  "cells": [
    {
      "cell_type": "markdown",
      "metadata": {
        "id": "view-in-github",
        "colab_type": "text"
      },
      "source": [
        "<a href=\"https://colab.research.google.com/github/SREYAKUKUTAPU/Pyspark/blob/main/functions2.ipynb\" target=\"_parent\"><img src=\"https://colab.research.google.com/assets/colab-badge.svg\" alt=\"Open In Colab\"/></a>"
      ]
    },
    {
      "cell_type": "markdown",
      "source": [
        "# alias() function"
      ],
      "metadata": {
        "id": "EDSt5uEo2fhw"
      }
    },
    {
      "cell_type": "code",
      "execution_count": 1,
      "metadata": {
        "id": "OmgENOoW1VOR"
      },
      "outputs": [],
      "source": [
        "from pyspark.sql import SparkSession, Row\n",
        "from pyspark.sql.types import *\n",
        "from pyspark.sql.functions import *\n",
        "spark = SparkSession.builder.appName(\"show\").getOrCreate()"
      ]
    },
    {
      "cell_type": "code",
      "source": [
        "data=[(1,'Sreya','F',5000),(2,'abcd','',6000),(3,'Pavan','M',10000)]\n",
        "schema=['id','name','gender','salary']\n",
        "df=spark.createDataFrame(data,schema)\n",
        "df.show()"
      ],
      "metadata": {
        "colab": {
          "base_uri": "https://localhost:8080/"
        },
        "id": "NGoAbCVZ1qdr",
        "outputId": "791fe508-fd61-42cb-8aa4-c85ce186297e"
      },
      "execution_count": 3,
      "outputs": [
        {
          "output_type": "stream",
          "name": "stdout",
          "text": [
            "+---+-----+------+------+\n",
            "| id| name|gender|salary|\n",
            "+---+-----+------+------+\n",
            "|  1|Sreya|     F|  5000|\n",
            "|  2| abcd|      |  6000|\n",
            "|  3|Pavan|     M| 10000|\n",
            "+---+-----+------+------+\n",
            "\n"
          ]
        }
      ]
    },
    {
      "cell_type": "code",
      "source": [
        "df1=df.select(df.id.alias('emp_id'),df.name.alias('emp_name'),df.gender.alias('emp_gender'),df.salary.alias('emp_salary'))\n",
        "df1.show()"
      ],
      "metadata": {
        "colab": {
          "base_uri": "https://localhost:8080/"
        },
        "id": "V2Wyo2yf1uVw",
        "outputId": "dab9ebee-305d-459a-8804-c3e79c9579d8"
      },
      "execution_count": 7,
      "outputs": [
        {
          "output_type": "stream",
          "name": "stdout",
          "text": [
            "+------+--------+----------+----------+\n",
            "|emp_id|emp_name|emp_gender|emp_salary|\n",
            "+------+--------+----------+----------+\n",
            "|     1|   Sreya|         F|      5000|\n",
            "|     2|    abcd|          |      6000|\n",
            "|     3|   Pavan|         M|     10000|\n",
            "+------+--------+----------+----------+\n",
            "\n"
          ]
        }
      ]
    },
    {
      "cell_type": "markdown",
      "source": [
        "# desc() function"
      ],
      "metadata": {
        "id": "e_j_z7Ih2mwU"
      }
    },
    {
      "cell_type": "code",
      "source": [
        "#df2=df1.sort(desc('emp_salary'))\n",
        "df2=df1.sort(df1.emp_salary.desc())\n",
        "df2.show()"
      ],
      "metadata": {
        "colab": {
          "base_uri": "https://localhost:8080/"
        },
        "id": "8gGjn5Nw2lcV",
        "outputId": "3503b20d-dd61-4e41-d244-dfe205a447fa"
      },
      "execution_count": 10,
      "outputs": [
        {
          "output_type": "stream",
          "name": "stdout",
          "text": [
            "+------+--------+----------+----------+\n",
            "|emp_id|emp_name|emp_gender|emp_salary|\n",
            "+------+--------+----------+----------+\n",
            "|     3|   Pavan|         M|     10000|\n",
            "|     2|    abcd|          |      6000|\n",
            "|     1|   Sreya|         F|      5000|\n",
            "+------+--------+----------+----------+\n",
            "\n"
          ]
        }
      ]
    },
    {
      "cell_type": "markdown",
      "source": [
        "asc() function"
      ],
      "metadata": {
        "id": "ymFQFarz3aEc"
      }
    },
    {
      "cell_type": "code",
      "source": [
        "df3=df2.sort(df2.emp_salary.asc())\n",
        "df3.show()\n",
        "df3.printSchema()"
      ],
      "metadata": {
        "colab": {
          "base_uri": "https://localhost:8080/"
        },
        "id": "ODXa1qdp3cgM",
        "outputId": "7ac4e90e-31b9-47b8-f0a4-8b7490dbaeb7"
      },
      "execution_count": 15,
      "outputs": [
        {
          "output_type": "stream",
          "name": "stdout",
          "text": [
            "+------+--------+----------+----------+\n",
            "|emp_id|emp_name|emp_gender|emp_salary|\n",
            "+------+--------+----------+----------+\n",
            "|     1|   Sreya|         F|      5000|\n",
            "|     2|    abcd|          |      6000|\n",
            "|     3|   Pavan|         M|     10000|\n",
            "+------+--------+----------+----------+\n",
            "\n",
            "root\n",
            " |-- emp_id: long (nullable = true)\n",
            " |-- emp_name: string (nullable = true)\n",
            " |-- emp_gender: string (nullable = true)\n",
            " |-- emp_salary: long (nullable = true)\n",
            "\n"
          ]
        }
      ]
    },
    {
      "cell_type": "markdown",
      "source": [
        "# cast() function"
      ],
      "metadata": {
        "id": "0tt7UPLc3yC3"
      }
    },
    {
      "cell_type": "code",
      "source": [
        "df4=df3.select(df3.emp_salary.cast('int'))\n",
        "df4.show()\n",
        "df4.printSchema()"
      ],
      "metadata": {
        "colab": {
          "base_uri": "https://localhost:8080/"
        },
        "id": "TWRsMq6a3xOE",
        "outputId": "23e7f179-a10e-4919-c7f8-0af6a6671d8e"
      },
      "execution_count": 14,
      "outputs": [
        {
          "output_type": "stream",
          "name": "stdout",
          "text": [
            "+----------+\n",
            "|emp_salary|\n",
            "+----------+\n",
            "|      5000|\n",
            "|      6000|\n",
            "|     10000|\n",
            "+----------+\n",
            "\n",
            "root\n",
            " |-- emp_salary: integer (nullable = true)\n",
            "\n"
          ]
        }
      ]
    },
    {
      "cell_type": "markdown",
      "source": [
        "# like() function"
      ],
      "metadata": {
        "id": "GtRE58y74Qf9"
      }
    },
    {
      "cell_type": "code",
      "source": [
        "df5=df1.where(df1.emp_name.like('S%'))\n",
        "df5.show()"
      ],
      "metadata": {
        "colab": {
          "base_uri": "https://localhost:8080/"
        },
        "id": "lIw4hW634Uf3",
        "outputId": "eef85bc4-df39-4e49-dba6-41c2f6cb5deb"
      },
      "execution_count": 18,
      "outputs": [
        {
          "output_type": "stream",
          "name": "stdout",
          "text": [
            "+------+--------+----------+----------+\n",
            "|emp_id|emp_name|emp_gender|emp_salary|\n",
            "+------+--------+----------+----------+\n",
            "|     1|   Sreya|         F|      5000|\n",
            "+------+--------+----------+----------+\n",
            "\n"
          ]
        }
      ]
    }
  ]
}