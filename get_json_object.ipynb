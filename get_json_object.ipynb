{
  "nbformat": 4,
  "nbformat_minor": 0,
  "metadata": {
    "colab": {
      "provenance": [],
      "authorship_tag": "ABX9TyPzvE8rYgl6henl2EZO5Gv4",
      "include_colab_link": true
    },
    "kernelspec": {
      "name": "python3",
      "display_name": "Python 3"
    },
    "language_info": {
      "name": "python"
    }
  },
  "cells": [
    {
      "cell_type": "markdown",
      "metadata": {
        "id": "view-in-github",
        "colab_type": "text"
      },
      "source": [
        "<a href=\"https://colab.research.google.com/github/SREYAKUKUTAPU/Pyspark/blob/main/get_json_object.ipynb\" target=\"_parent\"><img src=\"https://colab.research.google.com/assets/colab-badge.svg\" alt=\"Open In Colab\"/></a>"
      ]
    },
    {
      "cell_type": "code",
      "execution_count": 1,
      "metadata": {
        "id": "dqoZ9n1dCzYx"
      },
      "outputs": [],
      "source": [
        "from pyspark.sql import SparkSession\n",
        "from pyspark.sql.types import *\n",
        "from pyspark.sql.functions import *\n",
        "spark = SparkSession.builder.appName(\"show\").getOrCreate()"
      ]
    },
    {
      "cell_type": "code",
      "source": [
        "data=[('Sreya',\"{'address':{'city':'Bhongir','state':'Telangana'},'gender':'F'}\"),\n",
        "      ('Srija',\"{'address':{'city':'Hyd','state':'Telangana'},'gender':'F'}\")]\n",
        "schema=['name','details']\n",
        "df=spark.createDataFrame(data,schema)\n",
        "df.show(truncate=False)\n",
        "df.printSchema()"
      ],
      "metadata": {
        "colab": {
          "base_uri": "https://localhost:8080/"
        },
        "id": "isYr-VEpDDeT",
        "outputId": "acf60eab-3ae1-4873-80a9-500e7e83e7a7"
      },
      "execution_count": 2,
      "outputs": [
        {
          "output_type": "stream",
          "name": "stdout",
          "text": [
            "+-----+---------------------------------------------------------------+\n",
            "|name |details                                                        |\n",
            "+-----+---------------------------------------------------------------+\n",
            "|Sreya|{'address':{'city':'Bhongir','state':'Telangana'},'gender':'F'}|\n",
            "|Srija|{'address':{'city':'Hyd','state':'Telangana'},'gender':'F'}    |\n",
            "+-----+---------------------------------------------------------------+\n",
            "\n",
            "root\n",
            " |-- name: string (nullable = true)\n",
            " |-- details: string (nullable = true)\n",
            "\n"
          ]
        }
      ]
    },
    {
      "cell_type": "code",
      "source": [
        "df.select(df.name,get_json_object('details','$.address.city').alias('city')).show()\n"
      ],
      "metadata": {
        "colab": {
          "base_uri": "https://localhost:8080/"
        },
        "id": "Qz_Nn1dWEj99",
        "outputId": "9409d9eb-6c95-4dcc-a7e6-1a8956d89afc"
      },
      "execution_count": 4,
      "outputs": [
        {
          "output_type": "stream",
          "name": "stdout",
          "text": [
            "+-----+-------+\n",
            "| name|   city|\n",
            "+-----+-------+\n",
            "|Sreya|Bhongir|\n",
            "|Srija|    Hyd|\n",
            "+-----+-------+\n",
            "\n"
          ]
        }
      ]
    },
    {
      "cell_type": "code",
      "source": [
        "df.select(df.name,get_json_object('details','$').alias('details')).show(truncate=False)\n"
      ],
      "metadata": {
        "colab": {
          "base_uri": "https://localhost:8080/"
        },
        "id": "AmpwkE6UFV9D",
        "outputId": "0572265b-b1be-4e68-c33c-341617244c9f"
      },
      "execution_count": 7,
      "outputs": [
        {
          "output_type": "stream",
          "name": "stdout",
          "text": [
            "+-----+---------------------------------------------------------------+\n",
            "|name |details                                                        |\n",
            "+-----+---------------------------------------------------------------+\n",
            "|Sreya|{\"address\":{\"city\":\"Bhongir\",\"state\":\"Telangana\"},\"gender\":\"F\"}|\n",
            "|Srija|{\"address\":{\"city\":\"Hyd\",\"state\":\"Telangana\"},\"gender\":\"F\"}    |\n",
            "+-----+---------------------------------------------------------------+\n",
            "\n"
          ]
        }
      ]
    }
  ]
}