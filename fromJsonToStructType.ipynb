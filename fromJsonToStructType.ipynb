{
  "nbformat": 4,
  "nbformat_minor": 0,
  "metadata": {
    "colab": {
      "provenance": [],
      "authorship_tag": "ABX9TyOwxAyDrpgwHyOC32v1XvQZ",
      "include_colab_link": true
    },
    "kernelspec": {
      "name": "python3",
      "display_name": "Python 3"
    },
    "language_info": {
      "name": "python"
    }
  },
  "cells": [
    {
      "cell_type": "markdown",
      "metadata": {
        "id": "view-in-github",
        "colab_type": "text"
      },
      "source": [
        "<a href=\"https://colab.research.google.com/github/SREYAKUKUTAPU/Pyspark/blob/main/fromJsonToStructType.ipynb\" target=\"_parent\"><img src=\"https://colab.research.google.com/assets/colab-badge.svg\" alt=\"Open In Colab\"/></a>"
      ]
    },
    {
      "cell_type": "code",
      "execution_count": 2,
      "metadata": {
        "id": "hla7EGOlfxnI"
      },
      "outputs": [],
      "source": [
        "from pyspark.sql import SparkSession\n",
        "from pyspark.sql.types import *\n",
        "from pyspark.sql.functions import *\n",
        "spark = SparkSession.builder.appName(\"show\").getOrCreate()"
      ]
    },
    {
      "cell_type": "code",
      "source": [
        "data=[('Sreya',\"{'age':22,'experience':1}\")]\n",
        "schema=['name','details']\n",
        "df=spark.createDataFrame(data,schema)\n",
        "df.show(truncate=False)\n",
        "df.printSchema()"
      ],
      "metadata": {
        "colab": {
          "base_uri": "https://localhost:8080/"
        },
        "id": "BHuPCNpSgFN3",
        "outputId": "ae6143d9-fa9d-4775-dd68-cecd4f4a4960"
      },
      "execution_count": 3,
      "outputs": [
        {
          "output_type": "stream",
          "name": "stdout",
          "text": [
            "+-----+-------------------------+\n",
            "|name |details                  |\n",
            "+-----+-------------------------+\n",
            "|Sreya|{'age':22,'experience':1}|\n",
            "+-----+-------------------------+\n",
            "\n",
            "root\n",
            " |-- name: string (nullable = true)\n",
            " |-- details: string (nullable = true)\n",
            "\n"
          ]
        }
      ]
    },
    {
      "cell_type": "code",
      "source": [
        "structSchema=StructType([StructField('age',StringType()),StructField('experience',StringType())])\n",
        "df.withColumn('detailsStruct',from_json(df.details,structSchema))\n",
        "df1=df.withColumn('detailsStruct',from_json(df.details,structSchema))\n",
        "df1.show(truncate=False)\n",
        "df1.printSchema()"
      ],
      "metadata": {
        "colab": {
          "base_uri": "https://localhost:8080/"
        },
        "id": "3Ix9mxTOgLjk",
        "outputId": "e0254fc9-d57c-4f39-acb7-bb154520d5fc"
      },
      "execution_count": 5,
      "outputs": [
        {
          "output_type": "stream",
          "name": "stdout",
          "text": [
            "+-----+-------------------------+-------------+\n",
            "|name |details                  |detailsStruct|\n",
            "+-----+-------------------------+-------------+\n",
            "|Sreya|{'age':22,'experience':1}|{22, 1}      |\n",
            "+-----+-------------------------+-------------+\n",
            "\n",
            "root\n",
            " |-- name: string (nullable = true)\n",
            " |-- details: string (nullable = true)\n",
            " |-- detailsStruct: struct (nullable = true)\n",
            " |    |-- age: string (nullable = true)\n",
            " |    |-- experience: string (nullable = true)\n",
            "\n"
          ]
        }
      ]
    },
    {
      "cell_type": "code",
      "source": [
        "df2=df1.withColumn('age',df1.detailsStruct.age).withColumn('experience',df1.detailsStruct.experience)\n",
        "df2.show()"
      ],
      "metadata": {
        "colab": {
          "base_uri": "https://localhost:8080/"
        },
        "id": "FFKvTf8ihQFQ",
        "outputId": "5f671763-daeb-4b43-de4c-0c094493adae"
      },
      "execution_count": 7,
      "outputs": [
        {
          "output_type": "stream",
          "name": "stdout",
          "text": [
            "+-----+--------------------+-------------+---+----------+\n",
            "| name|             details|detailsStruct|age|experience|\n",
            "+-----+--------------------+-------------+---+----------+\n",
            "|Sreya|{'age':22,'experi...|      {22, 1}| 22|         1|\n",
            "+-----+--------------------+-------------+---+----------+\n",
            "\n"
          ]
        }
      ]
    }
  ]
}