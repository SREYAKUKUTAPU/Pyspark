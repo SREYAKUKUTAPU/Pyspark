{
  "nbformat": 4,
  "nbformat_minor": 0,
  "metadata": {
    "colab": {
      "provenance": [],
      "authorship_tag": "ABX9TyPTy8FoPcXK3YsNA404IKvw",
      "include_colab_link": true
    },
    "kernelspec": {
      "name": "python3",
      "display_name": "Python 3"
    },
    "language_info": {
      "name": "python"
    }
  },
  "cells": [
    {
      "cell_type": "markdown",
      "metadata": {
        "id": "view-in-github",
        "colab_type": "text"
      },
      "source": [
        "<a href=\"https://colab.research.google.com/github/SREYAKUKUTAPU/Pyspark/blob/main/dateFunctions2.ipynb\" target=\"_parent\"><img src=\"https://colab.research.google.com/assets/colab-badge.svg\" alt=\"Open In Colab\"/></a>"
      ]
    },
    {
      "cell_type": "code",
      "execution_count": 1,
      "metadata": {
        "id": "8Wo0l5buJv8h"
      },
      "outputs": [],
      "source": [
        "from pyspark.sql import SparkSession\n",
        "from pyspark.sql.types import *\n",
        "from pyspark.sql.functions import *\n",
        "spark = SparkSession.builder.appName(\"show\").getOrCreate()"
      ]
    },
    {
      "cell_type": "code",
      "source": [
        "df=spark.createDataFrame([('2024-12-30','2025-12-30')],['d1','d2'])\n",
        "df.withColumn('diff',date_diff('d2','d1')).show()\n",
        "df.withColumn('monthsBetween',months_between('d2','d1')).show()\n",
        "df.withColumn('addmonth',add_months('d2',4)).show()\n",
        "df.withColumn('submonth',add_months('d2',-4)).show()\n",
        "df.withColumn('addDate',date_add('d2',4)).show()\n",
        "df.withColumn('subDate',date_add('d2',-4)).show()\n",
        "df.withColumn('year',year('d2')).show()\n",
        "df.withColumn('month',month('d2')).show()"
      ],
      "metadata": {
        "colab": {
          "base_uri": "https://localhost:8080/"
        },
        "id": "Emq8ENOZJ_kQ",
        "outputId": "b14651e6-abb5-4e77-cadf-4a3814781e3a"
      },
      "execution_count": 10,
      "outputs": [
        {
          "output_type": "stream",
          "name": "stdout",
          "text": [
            "+----------+----------+----+\n",
            "|        d1|        d2|diff|\n",
            "+----------+----------+----+\n",
            "|2024-12-30|2025-12-30| 365|\n",
            "+----------+----------+----+\n",
            "\n",
            "+----------+----------+-------------+\n",
            "|        d1|        d2|monthsBetween|\n",
            "+----------+----------+-------------+\n",
            "|2024-12-30|2025-12-30|         12.0|\n",
            "+----------+----------+-------------+\n",
            "\n",
            "+----------+----------+----------+\n",
            "|        d1|        d2|  addmonth|\n",
            "+----------+----------+----------+\n",
            "|2024-12-30|2025-12-30|2026-04-30|\n",
            "+----------+----------+----------+\n",
            "\n",
            "+----------+----------+----------+\n",
            "|        d1|        d2|  submonth|\n",
            "+----------+----------+----------+\n",
            "|2024-12-30|2025-12-30|2025-08-30|\n",
            "+----------+----------+----------+\n",
            "\n",
            "+----------+----------+----------+\n",
            "|        d1|        d2|   addDate|\n",
            "+----------+----------+----------+\n",
            "|2024-12-30|2025-12-30|2026-01-03|\n",
            "+----------+----------+----------+\n",
            "\n",
            "+----------+----------+----------+\n",
            "|        d1|        d2|   subDate|\n",
            "+----------+----------+----------+\n",
            "|2024-12-30|2025-12-30|2025-12-26|\n",
            "+----------+----------+----------+\n",
            "\n",
            "+----------+----------+----+\n",
            "|        d1|        d2|year|\n",
            "+----------+----------+----+\n",
            "|2024-12-30|2025-12-30|2025|\n",
            "+----------+----------+----+\n",
            "\n",
            "+----------+----------+-----+\n",
            "|        d1|        d2|month|\n",
            "+----------+----------+-----+\n",
            "|2024-12-30|2025-12-30|   12|\n",
            "+----------+----------+-----+\n",
            "\n"
          ]
        }
      ]
    }
  ]
}