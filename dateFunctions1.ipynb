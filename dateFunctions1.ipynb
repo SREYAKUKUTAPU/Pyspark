{
  "nbformat": 4,
  "nbformat_minor": 0,
  "metadata": {
    "colab": {
      "provenance": [],
      "authorship_tag": "ABX9TyNSNw1j6c3TGMwA7E01XkWU",
      "include_colab_link": true
    },
    "kernelspec": {
      "name": "python3",
      "display_name": "Python 3"
    },
    "language_info": {
      "name": "python"
    }
  },
  "cells": [
    {
      "cell_type": "markdown",
      "metadata": {
        "id": "view-in-github",
        "colab_type": "text"
      },
      "source": [
        "<a href=\"https://colab.research.google.com/github/SREYAKUKUTAPU/Pyspark/blob/main/dateFunctions1.ipynb\" target=\"_parent\"><img src=\"https://colab.research.google.com/assets/colab-badge.svg\" alt=\"Open In Colab\"/></a>"
      ]
    },
    {
      "cell_type": "code",
      "execution_count": 1,
      "metadata": {
        "id": "XsiHkhK9FzjS"
      },
      "outputs": [],
      "source": [
        "from pyspark.sql import SparkSession\n",
        "from pyspark.sql.types import *\n",
        "from pyspark.sql.functions import *\n",
        "spark = SparkSession.builder.appName(\"show\").getOrCreate()"
      ]
    },
    {
      "cell_type": "markdown",
      "source": [
        "# current_date()"
      ],
      "metadata": {
        "id": "uowoH8YUHV0-"
      }
    },
    {
      "cell_type": "code",
      "source": [
        "df=spark.range(2)\n",
        "df.show()"
      ],
      "metadata": {
        "colab": {
          "base_uri": "https://localhost:8080/"
        },
        "id": "mdCsKnlnF3JI",
        "outputId": "c2aa5d24-b098-4b41-b550-1094e4a8ef7f"
      },
      "execution_count": 2,
      "outputs": [
        {
          "output_type": "stream",
          "name": "stdout",
          "text": [
            "+---+\n",
            "| id|\n",
            "+---+\n",
            "|  0|\n",
            "|  1|\n",
            "+---+\n",
            "\n"
          ]
        }
      ]
    },
    {
      "cell_type": "code",
      "source": [
        "df1=df.withColumn('current_date',current_date())\n",
        "df1.show()\n",
        "df1.printSchema()"
      ],
      "metadata": {
        "colab": {
          "base_uri": "https://localhost:8080/"
        },
        "id": "tY4oBe0cGJne",
        "outputId": "d49224ab-d8fa-4b0a-fc38-dd50c140d3a3"
      },
      "execution_count": 5,
      "outputs": [
        {
          "output_type": "stream",
          "name": "stdout",
          "text": [
            "+---+------------+\n",
            "| id|current_date|\n",
            "+---+------------+\n",
            "|  0|  2024-12-30|\n",
            "|  1|  2024-12-30|\n",
            "+---+------------+\n",
            "\n",
            "root\n",
            " |-- id: long (nullable = false)\n",
            " |-- current_date: date (nullable = false)\n",
            "\n"
          ]
        }
      ]
    },
    {
      "cell_type": "markdown",
      "source": [
        "# date_format()"
      ],
      "metadata": {
        "id": "ERy_2xCeHbq0"
      }
    },
    {
      "cell_type": "code",
      "source": [
        "df2=df1.withColumn('current_date',date_format('current_date','yyyy.MM.dd'))\n",
        "df2.show()\n",
        "df2.printSchema()"
      ],
      "metadata": {
        "colab": {
          "base_uri": "https://localhost:8080/"
        },
        "id": "Y8djjqQKGmwt",
        "outputId": "b88453a1-de9d-425b-94e1-fb8e97571fcf"
      },
      "execution_count": 14,
      "outputs": [
        {
          "output_type": "stream",
          "name": "stdout",
          "text": [
            "+---+------------+\n",
            "| id|current_date|\n",
            "+---+------------+\n",
            "|  0|  2024.12.30|\n",
            "|  1|  2024.12.30|\n",
            "+---+------------+\n",
            "\n",
            "root\n",
            " |-- id: long (nullable = false)\n",
            " |-- current_date: string (nullable = false)\n",
            "\n"
          ]
        }
      ]
    },
    {
      "cell_type": "markdown",
      "source": [
        "# to_date()"
      ],
      "metadata": {
        "id": "sSje1XZRHhC6"
      }
    },
    {
      "cell_type": "code",
      "source": [
        "df3=df2.withColumn('current_date',to_date(df2.current_date,'yyyy.MM.dd'))\n",
        "df3.show()\n",
        "df3.printSchema()"
      ],
      "metadata": {
        "colab": {
          "base_uri": "https://localhost:8080/"
        },
        "id": "a9nPzvt0HgiQ",
        "outputId": "2c5778da-5b1d-4af9-be57-ceeaaf277488"
      },
      "execution_count": 16,
      "outputs": [
        {
          "output_type": "stream",
          "name": "stdout",
          "text": [
            "+---+------------+\n",
            "| id|current_date|\n",
            "+---+------------+\n",
            "|  0|  2024-12-30|\n",
            "|  1|  2024-12-30|\n",
            "+---+------------+\n",
            "\n",
            "root\n",
            " |-- id: long (nullable = false)\n",
            " |-- current_date: date (nullable = true)\n",
            "\n"
          ]
        }
      ]
    }
  ]
}