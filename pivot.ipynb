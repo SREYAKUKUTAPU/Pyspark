{
  "nbformat": 4,
  "nbformat_minor": 0,
  "metadata": {
    "colab": {
      "provenance": [],
      "authorship_tag": "ABX9TyM4JAgw+12m+dcGjMAm/ly3",
      "include_colab_link": true
    },
    "kernelspec": {
      "name": "python3",
      "display_name": "Python 3"
    },
    "language_info": {
      "name": "python"
    }
  },
  "cells": [
    {
      "cell_type": "markdown",
      "metadata": {
        "id": "view-in-github",
        "colab_type": "text"
      },
      "source": [
        "<a href=\"https://colab.research.google.com/github/SREYAKUKUTAPU/Pyspark/blob/main/pivot.ipynb\" target=\"_parent\"><img src=\"https://colab.research.google.com/assets/colab-badge.svg\" alt=\"Open In Colab\"/></a>"
      ]
    },
    {
      "cell_type": "code",
      "execution_count": 1,
      "metadata": {
        "id": "LzgfD9P4hyQU"
      },
      "outputs": [],
      "source": [
        "from pyspark.sql import SparkSession, Row\n",
        "from pyspark.sql.types import *\n",
        "from pyspark.sql.functions import *\n",
        "spark = SparkSession.builder.appName(\"show\").getOrCreate()"
      ]
    },
    {
      "cell_type": "code",
      "source": [
        "schema = StructType([\n",
        "    StructField(\"id\", IntegerType(), True),\n",
        "    StructField(\"name\", StringType(), True),\n",
        "    StructField(\"gender\", StringType(), True),\n",
        "    StructField(\"department\", StringType(), True)\n",
        "])\n",
        "\n",
        "# Data\n",
        "data = [\n",
        "    (1, \"Alice Johnson\", \"F\", \"Finance\"),\n",
        "    (2, \"Bob Smith\", \"M\", \"Engineering\"),\n",
        "    (3, \"Cathy Lee\", \"F\", \"Engineering\"),\n",
        "    (4, \"David Brown\", \"M\", \"Finance\"),\n",
        "    (5, \"Ella Martinez\", \"F\", \"Engineering\"),\n",
        "    (6, \"Frank Adams\", \"M\", \"Engineering\"),\n",
        "    (7, \"Grace Kim\", \"F\", \"Finance\"),\n",
        "    (8, \"Henry Turner\", \"M\", \"Finance\")\n",
        "]\n",
        "# Create DataFrame\n",
        "df = spark.createDataFrame(data, schema=schema)\n",
        "\n",
        "# Show DataFrame\n",
        "df.show()\n"
      ],
      "metadata": {
        "colab": {
          "base_uri": "https://localhost:8080/"
        },
        "id": "qXnkt5OSiYrb",
        "outputId": "6239b87e-dd4e-44f6-b880-9a8b435f99d9"
      },
      "execution_count": 7,
      "outputs": [
        {
          "output_type": "stream",
          "name": "stdout",
          "text": [
            "+---+-------------+------+-----------+\n",
            "| id|         name|gender| department|\n",
            "+---+-------------+------+-----------+\n",
            "|  1|Alice Johnson|     F|    Finance|\n",
            "|  2|    Bob Smith|     M|Engineering|\n",
            "|  3|    Cathy Lee|     F|Engineering|\n",
            "|  4|  David Brown|     M|    Finance|\n",
            "|  5|Ella Martinez|     F|Engineering|\n",
            "|  6|  Frank Adams|     M|Engineering|\n",
            "|  7|    Grace Kim|     F|    Finance|\n",
            "|  8| Henry Turner|     M|    Finance|\n",
            "+---+-------------+------+-----------+\n",
            "\n"
          ]
        }
      ]
    },
    {
      "cell_type": "code",
      "source": [
        "df.groupBy('department','gender').count().show()"
      ],
      "metadata": {
        "colab": {
          "base_uri": "https://localhost:8080/"
        },
        "id": "Hm4PsYvzjsXn",
        "outputId": "54863fb7-cd81-4bbc-f633-85c72fad3155"
      },
      "execution_count": 6,
      "outputs": [
        {
          "output_type": "stream",
          "name": "stdout",
          "text": [
            "+-----------+------+-----+\n",
            "| department|gender|count|\n",
            "+-----------+------+-----+\n",
            "|    Finance|     F|    2|\n",
            "|Engineering|     F|    2|\n",
            "|    Finance|     M|    2|\n",
            "|Engineering|     M|    2|\n",
            "+-----------+------+-----+\n",
            "\n"
          ]
        }
      ]
    },
    {
      "cell_type": "code",
      "source": [
        "df.groupBy('department').pivot('gender').count().show()"
      ],
      "metadata": {
        "colab": {
          "base_uri": "https://localhost:8080/"
        },
        "id": "CxFWrd51jxXr",
        "outputId": "f38ebfbe-e77d-468b-8a16-7d35d206a500"
      },
      "execution_count": 9,
      "outputs": [
        {
          "output_type": "stream",
          "name": "stdout",
          "text": [
            "+-----------+---+---+\n",
            "| department|  F|  M|\n",
            "+-----------+---+---+\n",
            "|Engineering|  2|  2|\n",
            "|    Finance|  2|  2|\n",
            "+-----------+---+---+\n",
            "\n"
          ]
        }
      ]
    },
    {
      "cell_type": "code",
      "source": [
        "df.groupBy('department').pivot('gender',['M']).count().show()"
      ],
      "metadata": {
        "colab": {
          "base_uri": "https://localhost:8080/"
        },
        "id": "WAN3fTRykQ68",
        "outputId": "3bcc87e1-9537-4551-f224-5ee5b271526e"
      },
      "execution_count": 12,
      "outputs": [
        {
          "output_type": "stream",
          "name": "stdout",
          "text": [
            "+-----------+---+\n",
            "| department|  M|\n",
            "+-----------+---+\n",
            "|Engineering|  2|\n",
            "|    Finance|  2|\n",
            "+-----------+---+\n",
            "\n"
          ]
        }
      ]
    }
  ]
}