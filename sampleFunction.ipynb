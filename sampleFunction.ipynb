{
  "nbformat": 4,
  "nbformat_minor": 0,
  "metadata": {
    "colab": {
      "provenance": [],
      "authorship_tag": "ABX9TyM3+Om+bJ/Owk9VNLx3MyOG",
      "include_colab_link": true
    },
    "kernelspec": {
      "name": "python3",
      "display_name": "Python 3"
    },
    "language_info": {
      "name": "python"
    }
  },
  "cells": [
    {
      "cell_type": "markdown",
      "metadata": {
        "id": "view-in-github",
        "colab_type": "text"
      },
      "source": [
        "<a href=\"https://colab.research.google.com/github/SREYAKUKUTAPU/Pyspark/blob/main/sampleFunction.ipynb\" target=\"_parent\"><img src=\"https://colab.research.google.com/assets/colab-badge.svg\" alt=\"Open In Colab\"/></a>"
      ]
    },
    {
      "cell_type": "code",
      "execution_count": 1,
      "metadata": {
        "id": "B8kfF0gh_cNL"
      },
      "outputs": [],
      "source": [
        "from pyspark.sql import SparkSession, Row\n",
        "from pyspark.sql.types import *\n",
        "from pyspark.sql.functions import *\n",
        "spark = SparkSession.builder.appName(\"show\").getOrCreate()"
      ]
    },
    {
      "cell_type": "code",
      "source": [
        "df=spark.range(start=1,end=101)\n",
        "df.show()"
      ],
      "metadata": {
        "colab": {
          "base_uri": "https://localhost:8080/"
        },
        "id": "V9Qq6kzr_nxj",
        "outputId": "67f1e0af-3eef-4227-95a5-f28934c28950"
      },
      "execution_count": 4,
      "outputs": [
        {
          "output_type": "stream",
          "name": "stdout",
          "text": [
            "+---+\n",
            "| id|\n",
            "+---+\n",
            "|  1|\n",
            "|  2|\n",
            "|  3|\n",
            "|  4|\n",
            "|  5|\n",
            "|  6|\n",
            "|  7|\n",
            "|  8|\n",
            "|  9|\n",
            "| 10|\n",
            "| 11|\n",
            "| 12|\n",
            "| 13|\n",
            "| 14|\n",
            "| 15|\n",
            "| 16|\n",
            "| 17|\n",
            "| 18|\n",
            "| 19|\n",
            "| 20|\n",
            "+---+\n",
            "only showing top 20 rows\n",
            "\n"
          ]
        }
      ]
    },
    {
      "cell_type": "code",
      "source": [
        "df.sample(fraction=0.1).show()"
      ],
      "metadata": {
        "colab": {
          "base_uri": "https://localhost:8080/"
        },
        "id": "DDmrEOZkBEsd",
        "outputId": "0847bab3-10dd-4aa5-db31-e3d843870653"
      },
      "execution_count": 8,
      "outputs": [
        {
          "output_type": "stream",
          "name": "stdout",
          "text": [
            "+---+\n",
            "| id|\n",
            "+---+\n",
            "|  7|\n",
            "|  9|\n",
            "| 26|\n",
            "| 44|\n",
            "| 52|\n",
            "| 58|\n",
            "| 61|\n",
            "| 62|\n",
            "| 70|\n",
            "| 82|\n",
            "| 86|\n",
            "| 89|\n",
            "| 91|\n",
            "+---+\n",
            "\n"
          ]
        }
      ]
    },
    {
      "cell_type": "code",
      "source": [
        "df.sample(fraction=0.1).show()"
      ],
      "metadata": {
        "colab": {
          "base_uri": "https://localhost:8080/"
        },
        "id": "A1zRwNe_BjqY",
        "outputId": "d0743b60-f0d2-4244-f4eb-cc56685036a9"
      },
      "execution_count": 9,
      "outputs": [
        {
          "output_type": "stream",
          "name": "stdout",
          "text": [
            "+---+\n",
            "| id|\n",
            "+---+\n",
            "|  1|\n",
            "| 38|\n",
            "| 43|\n",
            "| 44|\n",
            "| 47|\n",
            "| 56|\n",
            "| 81|\n",
            "| 96|\n",
            "| 99|\n",
            "+---+\n",
            "\n"
          ]
        }
      ]
    },
    {
      "cell_type": "code",
      "source": [
        "df.sample(fraction=0.1,seed=123).show()"
      ],
      "metadata": {
        "colab": {
          "base_uri": "https://localhost:8080/"
        },
        "id": "VJN75RGBBtYX",
        "outputId": "c1dc044e-ae9b-4fe2-e89e-24704969bb4c"
      },
      "execution_count": 10,
      "outputs": [
        {
          "output_type": "stream",
          "name": "stdout",
          "text": [
            "+---+\n",
            "| id|\n",
            "+---+\n",
            "| 37|\n",
            "| 38|\n",
            "| 42|\n",
            "| 44|\n",
            "| 70|\n",
            "| 76|\n",
            "| 85|\n",
            "| 98|\n",
            "+---+\n",
            "\n"
          ]
        }
      ]
    },
    {
      "cell_type": "code",
      "source": [
        "df.sample(fraction=0.1,seed=123).show()"
      ],
      "metadata": {
        "colab": {
          "base_uri": "https://localhost:8080/"
        },
        "id": "RFx-a4sfByFF",
        "outputId": "642f88b6-9906-487a-a0ff-b0792b8be890"
      },
      "execution_count": 11,
      "outputs": [
        {
          "output_type": "stream",
          "name": "stdout",
          "text": [
            "+---+\n",
            "| id|\n",
            "+---+\n",
            "| 37|\n",
            "| 38|\n",
            "| 42|\n",
            "| 44|\n",
            "| 70|\n",
            "| 76|\n",
            "| 85|\n",
            "| 98|\n",
            "+---+\n",
            "\n"
          ]
        }
      ]
    }
  ]
}