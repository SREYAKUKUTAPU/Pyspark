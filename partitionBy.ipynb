{
  "nbformat": 4,
  "nbformat_minor": 0,
  "metadata": {
    "colab": {
      "provenance": [],
      "mount_file_id": "1cCW9O3kbAlY88qSqvhcOUNhld0wvTGkf",
      "authorship_tag": "ABX9TyP3SvEH4YVNiJrbW361utih",
      "include_colab_link": true
    },
    "kernelspec": {
      "name": "python3",
      "display_name": "Python 3"
    },
    "language_info": {
      "name": "python"
    }
  },
  "cells": [
    {
      "cell_type": "markdown",
      "metadata": {
        "id": "view-in-github",
        "colab_type": "text"
      },
      "source": [
        "<a href=\"https://colab.research.google.com/github/SREYAKUKUTAPU/Pyspark/blob/main/partitionBy.ipynb\" target=\"_parent\"><img src=\"https://colab.research.google.com/assets/colab-badge.svg\" alt=\"Open In Colab\"/></a>"
      ]
    },
    {
      "cell_type": "code",
      "execution_count": 3,
      "metadata": {
        "id": "LzxJdFFLM2y9"
      },
      "outputs": [],
      "source": [
        "from pyspark.sql import SparkSession\n",
        "from pyspark.sql.types import *\n",
        "from pyspark.sql.functions import *\n",
        "spark = SparkSession.builder.appName(\"show\").getOrCreate()"
      ]
    },
    {
      "cell_type": "code",
      "source": [
        "data=[(1,'Sreya','F','IT'),(2,'Minny','F','IT'),(3,'Pavan','M','Self Employed')]\n",
        "schema=['id','name','gender','dep']\n",
        "df=spark.createDataFrame(data,schema)\n",
        "df.show()"
      ],
      "metadata": {
        "colab": {
          "base_uri": "https://localhost:8080/"
        },
        "id": "G9UCft0xNbvE",
        "outputId": "474964b5-7f41-478f-8564-c247d433c038"
      },
      "execution_count": 4,
      "outputs": [
        {
          "output_type": "stream",
          "name": "stdout",
          "text": [
            "+---+-----+------+-------------+\n",
            "| id| name|gender|          dep|\n",
            "+---+-----+------+-------------+\n",
            "|  1|Sreya|     F|           IT|\n",
            "|  2|Minny|     F|           IT|\n",
            "|  3|Pavan|     M|Self Employed|\n",
            "+---+-----+------+-------------+\n",
            "\n"
          ]
        }
      ]
    },
    {
      "cell_type": "code",
      "source": [
        "df.write.parquet(path='/content/drive/MyDrive/Colab Notebooks/parttionBy.parquet',partitionBy='dep',mode='overwrite')"
      ],
      "metadata": {
        "id": "y6wxbUi0Ofxg"
      },
      "execution_count": 8,
      "outputs": []
    },
    {
      "cell_type": "code",
      "source": [
        "schema = StructType([\n",
        "    StructField(\"id\", LongType(), True),  # Changed to LongType\n",
        "    StructField(\"name\", StringType(), True),\n",
        "    StructField(\"gender\", StringType(), True),\n",
        "    StructField(\"dep\", StringType(), True)\n",
        "])\n",
        "\n",
        "df = spark.read.schema(schema).parquet(\"/content/drive/MyDrive/Colab Notebooks/parttionBy.parquet\")\n",
        "df.show()"
      ],
      "metadata": {
        "colab": {
          "base_uri": "https://localhost:8080/"
        },
        "id": "am2tPiilWLGI",
        "outputId": "da1587e7-f0c6-4b17-bd06-fed3dc72318b"
      },
      "execution_count": 10,
      "outputs": [
        {
          "output_type": "stream",
          "name": "stdout",
          "text": [
            "+---+-----+------+-------------+\n",
            "| id| name|gender|          dep|\n",
            "+---+-----+------+-------------+\n",
            "|  2|Minny|     F|           IT|\n",
            "|  1|Sreya|     F|           IT|\n",
            "|  3|Pavan|     M|Self Employed|\n",
            "+---+-----+------+-------------+\n",
            "\n"
          ]
        }
      ]
    },
    {
      "cell_type": "code",
      "source": [
        "df = spark.read.schema(schema).parquet(\"/content/drive/MyDrive/Colab Notebooks/parttionBy.parquet/dep=IT\")\n",
        "df.show()"
      ],
      "metadata": {
        "colab": {
          "base_uri": "https://localhost:8080/"
        },
        "id": "RxrAc-T7W2Lp",
        "outputId": "b30ed307-0ded-44f1-dcff-a4a17632052a"
      },
      "execution_count": 11,
      "outputs": [
        {
          "output_type": "stream",
          "name": "stdout",
          "text": [
            "+---+-----+------+----+\n",
            "| id| name|gender| dep|\n",
            "+---+-----+------+----+\n",
            "|  2|Minny|     F|NULL|\n",
            "|  1|Sreya|     F|NULL|\n",
            "+---+-----+------+----+\n",
            "\n"
          ]
        }
      ]
    }
  ]
}