{
  "nbformat": 4,
  "nbformat_minor": 0,
  "metadata": {
    "colab": {
      "provenance": [],
      "mount_file_id": "1EuuQGM3ju2hvWJdoSgd8-bUmvznZm-20",
      "authorship_tag": "ABX9TyNxBptlqi3VCqGWPR9I3A2V",
      "include_colab_link": true
    },
    "kernelspec": {
      "name": "python3",
      "display_name": "Python 3"
    },
    "language_info": {
      "name": "python"
    }
  },
  "cells": [
    {
      "cell_type": "markdown",
      "metadata": {
        "id": "view-in-github",
        "colab_type": "text"
      },
      "source": [
        "<a href=\"https://colab.research.google.com/github/SREYAKUKUTAPU/Pyspark/blob/main/writeDFtoParquet.ipynb\" target=\"_parent\"><img src=\"https://colab.research.google.com/assets/colab-badge.svg\" alt=\"Open In Colab\"/></a>"
      ]
    },
    {
      "cell_type": "code",
      "execution_count": 1,
      "metadata": {
        "colab": {
          "base_uri": "https://localhost:8080/"
        },
        "id": "LHqvZB-eR-2W",
        "outputId": "8ff64a5c-7616-475e-8d4b-b9ef58098d7c"
      },
      "outputs": [
        {
          "output_type": "stream",
          "name": "stdout",
          "text": [
            "root\n",
            " |-- emp_id: integer (nullable = true)\n",
            " |-- name: string (nullable = true)\n",
            " |-- age: integer (nullable = true)\n",
            "\n",
            "+------+-----+---+\n",
            "|emp_id| name|age|\n",
            "+------+-----+---+\n",
            "|     1|Sreya| 22|\n",
            "|     2|Srija| 26|\n",
            "+------+-----+---+\n",
            "\n"
          ]
        }
      ],
      "source": [
        "from pyspark.sql import SparkSession\n",
        "from pyspark.sql.types import StructType, StructField, IntegerType, StringType\n",
        "\n",
        "# Initialize SparkSession\n",
        "spark = SparkSession.builder.appName(\"writeDftoParquet\").getOrCreate()\n",
        "\n",
        "# Define the schema\n",
        "schema = StructType([\n",
        "    StructField(\"emp_id\", IntegerType(), True),  # emp_id as Integer, nullable\n",
        "    StructField(\"name\", StringType(), True),    # name as String, nullable\n",
        "    StructField(\"age\", IntegerType(), True)     # age as Integer, nullable\n",
        "])\n",
        "data=[(1,'Sreya',22),(2,'Srija',26)]\n",
        "df=spark.createDataFrame(data,schema)\n",
        "df.printSchema()\n",
        "df.show()"
      ]
    },
    {
      "cell_type": "code",
      "source": [
        "df.write.parquet('/content/drive/MyDrive/Colab Notebooks/emp_par.parquet',mode='overwrite')"
      ],
      "metadata": {
        "id": "nGXQmAB1TGcn"
      },
      "execution_count": 11,
      "outputs": []
    },
    {
      "cell_type": "code",
      "source": [
        "df_read=spark.read.parquet('/content/drive/MyDrive/Colab Notebooks/emp_par.parquet')\n",
        "df_read.show()"
      ],
      "metadata": {
        "colab": {
          "base_uri": "https://localhost:8080/"
        },
        "id": "f2YIhGpPT4-9",
        "outputId": "1c03f902-c6c8-45ce-e85d-e9f14674e5e3"
      },
      "execution_count": 12,
      "outputs": [
        {
          "output_type": "stream",
          "name": "stdout",
          "text": [
            "+------+-----+---+\n",
            "|emp_id| name|age|\n",
            "+------+-----+---+\n",
            "|     1|Sreya| 22|\n",
            "|     2|Srija| 26|\n",
            "+------+-----+---+\n",
            "\n"
          ]
        }
      ]
    },
    {
      "cell_type": "code",
      "source": [
        "df.write.parquet('/content/drive/MyDrive/Colab Notebooks/emp_par.parquet',mode='append')"
      ],
      "metadata": {
        "id": "_G7RyZdtUr_i"
      },
      "execution_count": 13,
      "outputs": []
    },
    {
      "cell_type": "code",
      "source": [
        "df_read=spark.read.parquet('/content/drive/MyDrive/Colab Notebooks/emp_par.parquet')\n",
        "df_read.show()"
      ],
      "metadata": {
        "colab": {
          "base_uri": "https://localhost:8080/"
        },
        "id": "neaWZDSbU5Dx",
        "outputId": "94b48589-5d8b-49db-f698-1a614cc25875"
      },
      "execution_count": 14,
      "outputs": [
        {
          "output_type": "stream",
          "name": "stdout",
          "text": [
            "+------+-----+---+\n",
            "|emp_id| name|age|\n",
            "+------+-----+---+\n",
            "|     1|Sreya| 22|\n",
            "|     2|Srija| 26|\n",
            "|     1|Sreya| 22|\n",
            "|     2|Srija| 26|\n",
            "+------+-----+---+\n",
            "\n"
          ]
        }
      ]
    }
  ]
}