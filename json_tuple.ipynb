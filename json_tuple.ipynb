{
  "nbformat": 4,
  "nbformat_minor": 0,
  "metadata": {
    "colab": {
      "provenance": [],
      "authorship_tag": "ABX9TyOBYyWeSc5UPguWisbbt6Em",
      "include_colab_link": true
    },
    "kernelspec": {
      "name": "python3",
      "display_name": "Python 3"
    },
    "language_info": {
      "name": "python"
    }
  },
  "cells": [
    {
      "cell_type": "markdown",
      "metadata": {
        "id": "view-in-github",
        "colab_type": "text"
      },
      "source": [
        "<a href=\"https://colab.research.google.com/github/SREYAKUKUTAPU/Pyspark/blob/main/json_tuple.ipynb\" target=\"_parent\"><img src=\"https://colab.research.google.com/assets/colab-badge.svg\" alt=\"Open In Colab\"/></a>"
      ]
    },
    {
      "cell_type": "code",
      "execution_count": 1,
      "metadata": {
        "id": "QGaz2rut_Goi"
      },
      "outputs": [],
      "source": [
        "from pyspark.sql import SparkSession\n",
        "from pyspark.sql.types import *\n",
        "from pyspark.sql.functions import *\n",
        "spark = SparkSession.builder.appName(\"show\").getOrCreate()"
      ]
    },
    {
      "cell_type": "code",
      "source": [
        "data = [\n",
        "    ('Alice', \"{'hair': 'brown', 'eye': 'blue', 'skin': 'fair'}\"),\n",
        "    ('Bob', \"{'hair': 'black', 'eye': 'brown', 'skin': 'dark'}\"),\n",
        "    ('Charlie', \"{'hair': 'blonde', 'eye': 'green', 'skin': 'medium'}\")\n",
        "]\n",
        "\n",
        "schema = ['name','properties']\n",
        "\n",
        "df=spark.createDataFrame(data,schema)\n",
        "df.show(truncate=False)\n",
        "df.printSchema()"
      ],
      "metadata": {
        "colab": {
          "base_uri": "https://localhost:8080/"
        },
        "id": "na69fJsS_jeD",
        "outputId": "746617fc-61f9-492d-e1fd-f0c0f664b8d4"
      },
      "execution_count": 3,
      "outputs": [
        {
          "output_type": "stream",
          "name": "stdout",
          "text": [
            "+-------+----------------------------------------------------+\n",
            "|name   |properties                                          |\n",
            "+-------+----------------------------------------------------+\n",
            "|Alice  |{'hair': 'brown', 'eye': 'blue', 'skin': 'fair'}    |\n",
            "|Bob    |{'hair': 'black', 'eye': 'brown', 'skin': 'dark'}   |\n",
            "|Charlie|{'hair': 'blonde', 'eye': 'green', 'skin': 'medium'}|\n",
            "+-------+----------------------------------------------------+\n",
            "\n",
            "root\n",
            " |-- name: string (nullable = true)\n",
            " |-- properties: string (nullable = true)\n",
            "\n"
          ]
        }
      ]
    },
    {
      "cell_type": "code",
      "source": [
        "df1=df.select(df.name,json_tuple(df.properties,'hair','eye','skin').alias('hair','eye','skin'))\n",
        "df1.show(truncate=False)\n",
        "df1.printSchema()"
      ],
      "metadata": {
        "colab": {
          "base_uri": "https://localhost:8080/"
        },
        "id": "u_VUh5eHAnQY",
        "outputId": "33000fde-a977-4a4e-c18a-506753a90cd7"
      },
      "execution_count": 5,
      "outputs": [
        {
          "output_type": "stream",
          "name": "stdout",
          "text": [
            "+-------+------+-----+------+\n",
            "|name   |hair  |eye  |skin  |\n",
            "+-------+------+-----+------+\n",
            "|Alice  |brown |blue |fair  |\n",
            "|Bob    |black |brown|dark  |\n",
            "|Charlie|blonde|green|medium|\n",
            "+-------+------+-----+------+\n",
            "\n",
            "root\n",
            " |-- name: string (nullable = true)\n",
            " |-- hair: string (nullable = true)\n",
            " |-- eye: string (nullable = true)\n",
            " |-- skin: string (nullable = true)\n",
            "\n"
          ]
        }
      ]
    }
  ]
}