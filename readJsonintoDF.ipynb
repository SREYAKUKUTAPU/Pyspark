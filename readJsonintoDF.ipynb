{
  "nbformat": 4,
  "nbformat_minor": 0,
  "metadata": {
    "colab": {
      "provenance": [],
      "authorship_tag": "ABX9TyPai9EwupVYbXBEjSLYrdRE",
      "include_colab_link": true
    },
    "kernelspec": {
      "name": "python3",
      "display_name": "Python 3"
    },
    "language_info": {
      "name": "python"
    }
  },
  "cells": [
    {
      "cell_type": "markdown",
      "metadata": {
        "id": "view-in-github",
        "colab_type": "text"
      },
      "source": [
        "<a href=\"https://colab.research.google.com/github/SREYAKUKUTAPU/Pyspark/blob/main/readJsonintoDF.ipynb\" target=\"_parent\"><img src=\"https://colab.research.google.com/assets/colab-badge.svg\" alt=\"Open In Colab\"/></a>"
      ]
    },
    {
      "cell_type": "code",
      "execution_count": null,
      "metadata": {
        "id": "AyHImkCZ5utD",
        "colab": {
          "base_uri": "https://localhost:8080/"
        },
        "outputId": "cb12d4f7-8b24-4482-de4a-85e6e5480948"
      },
      "outputs": [
        {
          "output_type": "stream",
          "name": "stdout",
          "text": [
            "root\n",
            " |-- age: long (nullable = true)\n",
            " |-- emp_id: long (nullable = true)\n",
            " |-- name: string (nullable = true)\n",
            "\n",
            "+---+------+------------+\n",
            "|age|emp_id|        name|\n",
            "+---+------+------------+\n",
            "| 30|   101|    John Doe|\n",
            "| 25|   102|  Jane Smith|\n",
            "| 35|   103|Robert Brown|\n",
            "+---+------+------------+\n",
            "\n"
          ]
        }
      ],
      "source": [
        "from pyspark.sql import SparkSession\n",
        "from pyspark.sql.types import *\n",
        "spark=SparkSession.builder.master(\"local\").appName('readjson'). getOrCreate()\n",
        "\n",
        "df=spark.read.json('/content/drive/MyDrive/Colab Notebooks/employee.json',multiLine=True)\n",
        "df.printSchema()\n",
        "df.show()"
      ]
    },
    {
      "cell_type": "code",
      "source": [
        "\n",
        "schema = StructType([\n",
        "    StructField(\"emp_id\", IntegerType(), True),  # emp_id: Integer, nullable\n",
        "    StructField(\"name\", StringType(), True),    # name: String, nullable\n",
        "    StructField(\"age\", IntegerType(), True)     # age: Integer, nullable\n",
        "])\n",
        "df2=spark.read.schema(schema).json('/content/drive/MyDrive/Colab Notebooks/employee.json',multiLine=True)\n",
        "df2.printSchema()\n",
        "df2.show()"
      ],
      "metadata": {
        "colab": {
          "base_uri": "https://localhost:8080/"
        },
        "id": "h9BwZfzZ9k19",
        "outputId": "c8b542c8-1af6-43ea-a258-b69987882fd5"
      },
      "execution_count": null,
      "outputs": [
        {
          "output_type": "stream",
          "name": "stdout",
          "text": [
            "root\n",
            " |-- emp_id: integer (nullable = true)\n",
            " |-- name: string (nullable = true)\n",
            " |-- age: integer (nullable = true)\n",
            "\n",
            "+------+------------+---+\n",
            "|emp_id|        name|age|\n",
            "+------+------------+---+\n",
            "|   101|    John Doe| 30|\n",
            "|   102|  Jane Smith| 25|\n",
            "|   103|Robert Brown| 35|\n",
            "+------+------------+---+\n",
            "\n"
          ]
        }
      ]
    }
  ]
}