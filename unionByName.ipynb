{
  "cells": [
    {
      "cell_type": "markdown",
      "metadata": {
        "id": "view-in-github",
        "colab_type": "text"
      },
      "source": [
        "<a href=\"https://colab.research.google.com/github/SREYAKUKUTAPU/Pyspark/blob/main/unionByName.ipynb\" target=\"_parent\"><img src=\"https://colab.research.google.com/assets/colab-badge.svg\" alt=\"Open In Colab\"/></a>"
      ]
    },
    {
      "cell_type": "code",
      "execution_count": null,
      "metadata": {
        "id": "GHY9IslWlxFh"
      },
      "outputs": [],
      "source": [
        "from pyspark.sql import SparkSession, Row\n",
        "from pyspark.sql.types import *\n",
        "from pyspark.sql.functions import *\n",
        "spark = SparkSession.builder.appName(\"show\").getOrCreate()"
      ]
    },
    {
      "cell_type": "code",
      "execution_count": null,
      "metadata": {
        "colab": {
          "base_uri": "https://localhost:8080/"
        },
        "id": "8xMoEffm_eR6",
        "outputId": "e6db8c0b-ebbf-47be-8830-1673a1640e70"
      },
      "outputs": [
        {
          "output_type": "stream",
          "name": "stdout",
          "text": [
            "+---+-----+------+\n",
            "| id| name|gender|\n",
            "+---+-----+------+\n",
            "|  1|Sreya|     F|\n",
            "|  2| abcd|     F|\n",
            "|  3| yyyy|     M|\n",
            "|  4|  Sya|     F|\n",
            "+---+-----+------+\n",
            "\n",
            "+---+----+------+\n",
            "| id|name|salary|\n",
            "+---+----+------+\n",
            "|  4| Sya|  2000|\n",
            "|  5| xyz|  6000|\n",
            "|  6| def|  8999|\n",
            "+---+----+------+\n",
            "\n"
          ]
        }
      ],
      "source": [
        "data1=[(1,'Sreya','F'),(2,'abcd','F'),(3,'yyyy','M'),(4,'Sya','F')]\n",
        "schema1=['id','name','gender']\n",
        "data2=[(4,'Sya',2000),(5,'xyz',6000),(6,'def',8999)]\n",
        "schema2=['id','name','salary']\n",
        "df1=spark.createDataFrame(data1,schema1)\n",
        "df2=spark.createDataFrame(data2,schema2)\n",
        "df1.show()\n",
        "df2.show()"
      ]
    },
    {
      "cell_type": "code",
      "source": [
        "df1.unionByName(allowMissingColumns=True,other=df2).show()"
      ],
      "metadata": {
        "colab": {
          "base_uri": "https://localhost:8080/"
        },
        "id": "94Q54t4_C9bF",
        "outputId": "ae322626-4372-4c25-f977-4859165c45c0"
      },
      "execution_count": null,
      "outputs": [
        {
          "output_type": "stream",
          "name": "stdout",
          "text": [
            "+---+-----+------+------+\n",
            "| id| name|gender|salary|\n",
            "+---+-----+------+------+\n",
            "|  1|Sreya|     F|  NULL|\n",
            "|  2| abcd|     F|  NULL|\n",
            "|  3| yyyy|     M|  NULL|\n",
            "|  4|  Sya|     F|  NULL|\n",
            "|  4|  Sya|  NULL|  2000|\n",
            "|  5|  xyz|  NULL|  6000|\n",
            "|  6|  def|  NULL|  8999|\n",
            "+---+-----+------+------+\n",
            "\n"
          ]
        }
      ]
    }
  ],
  "metadata": {
    "colab": {
      "provenance": [],
      "authorship_tag": "ABX9TyOLO8g7QwiZzCctrcbv9pKK",
      "include_colab_link": true
    },
    "kernelspec": {
      "display_name": "Python 3",
      "name": "python3"
    },
    "language_info": {
      "name": "python"
    }
  },
  "nbformat": 4,
  "nbformat_minor": 0
}