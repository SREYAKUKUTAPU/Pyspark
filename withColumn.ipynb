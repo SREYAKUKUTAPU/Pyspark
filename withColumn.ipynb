{
  "nbformat": 4,
  "nbformat_minor": 0,
  "metadata": {
    "colab": {
      "provenance": [],
      "authorship_tag": "ABX9TyPNpzMnLY/0FZBY0wbSrKKD",
      "include_colab_link": true
    },
    "kernelspec": {
      "name": "python3",
      "display_name": "Python 3"
    },
    "language_info": {
      "name": "python"
    }
  },
  "cells": [
    {
      "cell_type": "markdown",
      "metadata": {
        "id": "view-in-github",
        "colab_type": "text"
      },
      "source": [
        "<a href=\"https://colab.research.google.com/github/SREYAKUKUTAPU/Pyspark/blob/main/withColumn.ipynb\" target=\"_parent\"><img src=\"https://colab.research.google.com/assets/colab-badge.svg\" alt=\"Open In Colab\"/></a>"
      ]
    },
    {
      "cell_type": "code",
      "source": [
        "from pyspark.sql import SparkSession\n",
        "from pyspark.sql.types import StructType, StructField, IntegerType, StringType\n",
        "from pyspark.sql.functions import col,lit\n",
        "# Initialize SparkSession\n",
        "spark = SparkSession.builder.appName(\"show\").getOrCreate()\n",
        "\n",
        "# Define the schema\n",
        "schema=['id','name','salary']\n",
        "data=[(1,'Sreya',28000),(2,'Srija',85000)]\n",
        "df=spark.createDataFrame(data,schema)\n",
        "df.printSchema()\n",
        "df.show()"
      ],
      "metadata": {
        "colab": {
          "base_uri": "https://localhost:8080/"
        },
        "id": "Hn4bBbApaW2E",
        "outputId": "a4496c91-4910-42ff-9f1d-d903ca4202b4"
      },
      "execution_count": 11,
      "outputs": [
        {
          "output_type": "stream",
          "name": "stdout",
          "text": [
            "root\n",
            " |-- id: long (nullable = true)\n",
            " |-- name: string (nullable = true)\n",
            " |-- salary: long (nullable = true)\n",
            "\n",
            "+---+-----+------+\n",
            "| id| name|salary|\n",
            "+---+-----+------+\n",
            "|  1|Sreya| 28000|\n",
            "|  2|Srija| 85000|\n",
            "+---+-----+------+\n",
            "\n"
          ]
        }
      ]
    },
    {
      "cell_type": "code",
      "source": [
        "df1=df.withColumn(colName='salary',col=col('salary').cast('Integer'))\n",
        "df1.show()\n",
        "df1.printSchema()"
      ],
      "metadata": {
        "colab": {
          "base_uri": "https://localhost:8080/"
        },
        "id": "ZnDALIPla7YZ",
        "outputId": "7aaa9b5c-1681-4a05-efd5-cb8b57cebc7f"
      },
      "execution_count": 5,
      "outputs": [
        {
          "output_type": "stream",
          "name": "stdout",
          "text": [
            "+---+-----+------+\n",
            "| id| name|salary|\n",
            "+---+-----+------+\n",
            "|  1|Sreya| 28000|\n",
            "|  2|Srija| 85000|\n",
            "+---+-----+------+\n",
            "\n",
            "root\n",
            " |-- id: long (nullable = true)\n",
            " |-- name: string (nullable = true)\n",
            " |-- salary: integer (nullable = true)\n",
            "\n"
          ]
        }
      ]
    },
    {
      "cell_type": "code",
      "source": [
        "df2=df1.withColumn(colName='salary',col=col('salary')*2)\n",
        "df2.show()\n",
        "df2.printSchema()"
      ],
      "metadata": {
        "colab": {
          "base_uri": "https://localhost:8080/"
        },
        "id": "5LyHex47cSd_",
        "outputId": "44f9daee-b48f-4290-bd27-a6389a61979b"
      },
      "execution_count": 6,
      "outputs": [
        {
          "output_type": "stream",
          "name": "stdout",
          "text": [
            "+---+-----+------+\n",
            "| id| name|salary|\n",
            "+---+-----+------+\n",
            "|  1|Sreya| 56000|\n",
            "|  2|Srija|170000|\n",
            "+---+-----+------+\n",
            "\n",
            "root\n",
            " |-- id: long (nullable = true)\n",
            " |-- name: string (nullable = true)\n",
            " |-- salary: integer (nullable = true)\n",
            "\n"
          ]
        }
      ]
    },
    {
      "cell_type": "code",
      "source": [
        "df3=df2.withColumn('country',lit('india'))\n",
        "df3.show()\n",
        "df3.printSchema()"
      ],
      "metadata": {
        "colab": {
          "base_uri": "https://localhost:8080/"
        },
        "id": "Yl_HcYjIcvmB",
        "outputId": "c2fa1255-6915-4f1d-85fc-91bf507c8375"
      },
      "execution_count": 15,
      "outputs": [
        {
          "output_type": "stream",
          "name": "stdout",
          "text": [
            "+---+-----+------+-------+\n",
            "| id| name|salary|country|\n",
            "+---+-----+------+-------+\n",
            "|  1|Sreya| 56000|  india|\n",
            "|  2|Srija|170000|  india|\n",
            "+---+-----+------+-------+\n",
            "\n",
            "root\n",
            " |-- id: long (nullable = true)\n",
            " |-- name: string (nullable = true)\n",
            " |-- salary: integer (nullable = true)\n",
            " |-- country: string (nullable = false)\n",
            "\n"
          ]
        }
      ]
    },
    {
      "cell_type": "code",
      "source": [
        "df4=df3.withColumn('copiedSalary',col('salary'))\n",
        "df4.printSchema()\n",
        "df4.show()"
      ],
      "metadata": {
        "colab": {
          "base_uri": "https://localhost:8080/"
        },
        "id": "ijE6ckw1lvM0",
        "outputId": "31daf897-f8d9-444d-f809-703d2937515d"
      },
      "execution_count": 16,
      "outputs": [
        {
          "output_type": "stream",
          "name": "stdout",
          "text": [
            "root\n",
            " |-- id: long (nullable = true)\n",
            " |-- name: string (nullable = true)\n",
            " |-- salary: integer (nullable = true)\n",
            " |-- country: string (nullable = false)\n",
            " |-- copiedSalary: integer (nullable = true)\n",
            "\n",
            "+---+-----+------+-------+------------+\n",
            "| id| name|salary|country|copiedSalary|\n",
            "+---+-----+------+-------+------------+\n",
            "|  1|Sreya| 56000|  india|       56000|\n",
            "|  2|Srija|170000|  india|      170000|\n",
            "+---+-----+------+-------+------------+\n",
            "\n"
          ]
        }
      ]
    }
  ]
}