{
  "nbformat": 4,
  "nbformat_minor": 0,
  "metadata": {
    "colab": {
      "provenance": [],
      "authorship_tag": "ABX9TyPyI0rKVMEg8tJ2davy5nU/",
      "include_colab_link": true
    },
    "kernelspec": {
      "name": "python3",
      "display_name": "Python 3"
    },
    "language_info": {
      "name": "python"
    }
  },
  "cells": [
    {
      "cell_type": "markdown",
      "metadata": {
        "id": "view-in-github",
        "colab_type": "text"
      },
      "source": [
        "<a href=\"https://colab.research.google.com/github/SREYAKUKUTAPU/Pyspark/blob/main/whenFunction.ipynb\" target=\"_parent\"><img src=\"https://colab.research.google.com/assets/colab-badge.svg\" alt=\"Open In Colab\"/></a>"
      ]
    },
    {
      "cell_type": "code",
      "execution_count": 1,
      "metadata": {
        "id": "WU6504yns5xF"
      },
      "outputs": [],
      "source": [
        "from pyspark.sql import SparkSession, Row\n",
        "from pyspark.sql.types import *\n",
        "from pyspark.sql.functions import *\n",
        "spark = SparkSession.builder.appName(\"show\").getOrCreate()"
      ]
    },
    {
      "cell_type": "code",
      "source": [
        "data=[(1,'Sreya','F',5000),(2,'abcd','',6000),(3,'Pavan','M',10000)]\n",
        "schema=['id','name','gender','salary']\n",
        "df=spark.createDataFrame(data,schema)\n",
        "df.show()"
      ],
      "metadata": {
        "colab": {
          "base_uri": "https://localhost:8080/"
        },
        "id": "CQSaxrWKtj8l",
        "outputId": "7a78f746-954d-4c53-fa33-f7e332d59c37"
      },
      "execution_count": 2,
      "outputs": [
        {
          "output_type": "stream",
          "name": "stdout",
          "text": [
            "+---+-----+------+------+\n",
            "| id| name|gender|salary|\n",
            "+---+-----+------+------+\n",
            "|  1|Sreya|     F|  5000|\n",
            "|  2| abcd|      |  6000|\n",
            "|  3|Pavan|     M| 10000|\n",
            "+---+-----+------+------+\n",
            "\n"
          ]
        }
      ]
    },
    {
      "cell_type": "code",
      "source": [
        "df1=df.select('id','name',\\\n",
        "              when(df['gender']=='M','male').\\\n",
        "              when(df['gender']=='F','female').\\\n",
        "              otherwise('unknown').\\\n",
        "              alias('gender'),\\\n",
        "              'salary')\n",
        "df1.show()"
      ],
      "metadata": {
        "colab": {
          "base_uri": "https://localhost:8080/"
        },
        "id": "riO8ZEs5umso",
        "outputId": "c9e3a593-4347-4f6e-c966-30663f6e411b"
      },
      "execution_count": 8,
      "outputs": [
        {
          "output_type": "stream",
          "name": "stdout",
          "text": [
            "+---+-----+-------+------+\n",
            "| id| name| gender|salary|\n",
            "+---+-----+-------+------+\n",
            "|  1|Sreya| female|  5000|\n",
            "|  2| abcd|unknown|  6000|\n",
            "|  3|Pavan|   male| 10000|\n",
            "+---+-----+-------+------+\n",
            "\n"
          ]
        }
      ]
    }
  ]
}