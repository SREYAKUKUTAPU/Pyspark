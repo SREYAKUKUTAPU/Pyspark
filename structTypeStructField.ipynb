{
  "nbformat": 4,
  "nbformat_minor": 0,
  "metadata": {
    "colab": {
      "provenance": [],
      "authorship_tag": "ABX9TyNwX9DTmb6VyeunIbJtiXy7",
      "include_colab_link": true
    },
    "kernelspec": {
      "name": "python3",
      "display_name": "Python 3"
    },
    "language_info": {
      "name": "python"
    }
  },
  "cells": [
    {
      "cell_type": "markdown",
      "metadata": {
        "id": "view-in-github",
        "colab_type": "text"
      },
      "source": [
        "<a href=\"https://colab.research.google.com/github/SREYAKUKUTAPU/Pyspark/blob/main/structTypeStructField.ipynb\" target=\"_parent\"><img src=\"https://colab.research.google.com/assets/colab-badge.svg\" alt=\"Open In Colab\"/></a>"
      ]
    },
    {
      "cell_type": "code",
      "execution_count": 5,
      "metadata": {
        "id": "4pGqp1RJVGJY"
      },
      "outputs": [],
      "source": [
        "from pyspark.sql import SparkSession\n",
        "from pyspark.sql.types import StructType, StructField, IntegerType, StringType\n",
        "from pyspark.sql.functions import col,lit\n",
        "# Initialize SparkSession\n",
        "spark = SparkSession.builder.appName(\"show\").getOrCreate()"
      ]
    },
    {
      "cell_type": "code",
      "source": [
        "structName=StructType([StructField('firstName', StringType()), StructField('lastName', StringType())])\n",
        "schema=StructType(\n",
        "      [StructField('id',IntegerType()), StructField('Name',structName), StructField('salary', IntegerType())])\n",
        "data=[(1,('Sreya','Kukutapu'),28000),(2,('Srija','Kukutapu'),85000)]\n",
        "df=spark.createDataFrame(data,schema)\n",
        "df.printSchema()\n",
        "df.show()"
      ],
      "metadata": {
        "colab": {
          "base_uri": "https://localhost:8080/"
        },
        "id": "vhBoBl0SdJ3-",
        "outputId": "16256728-a208-4b4c-fcec-a730eb53f3d3"
      },
      "execution_count": 4,
      "outputs": [
        {
          "output_type": "stream",
          "name": "stdout",
          "text": [
            "root\n",
            " |-- id: integer (nullable = true)\n",
            " |-- Name: struct (nullable = true)\n",
            " |    |-- firstName: string (nullable = true)\n",
            " |    |-- lastName: string (nullable = true)\n",
            " |-- salary: integer (nullable = true)\n",
            "\n",
            "+---+-----------------+------+\n",
            "| id|             Name|salary|\n",
            "+---+-----------------+------+\n",
            "|  1|{Sreya, Kukutapu}| 28000|\n",
            "|  2|{Srija, Kukutapu}| 85000|\n",
            "+---+-----------------+------+\n",
            "\n"
          ]
        }
      ]
    }
  ]
}