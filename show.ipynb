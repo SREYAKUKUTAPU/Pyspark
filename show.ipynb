{
  "nbformat": 4,
  "nbformat_minor": 0,
  "metadata": {
    "colab": {
      "provenance": [],
      "authorship_tag": "ABX9TyMW+21+xd10EkRA5QEcPOMF",
      "include_colab_link": true
    },
    "kernelspec": {
      "name": "python3",
      "display_name": "Python 3"
    },
    "language_info": {
      "name": "python"
    }
  },
  "cells": [
    {
      "cell_type": "markdown",
      "metadata": {
        "id": "view-in-github",
        "colab_type": "text"
      },
      "source": [
        "<a href=\"https://colab.research.google.com/github/SREYAKUKUTAPU/Pyspark/blob/main/show.ipynb\" target=\"_parent\"><img src=\"https://colab.research.google.com/assets/colab-badge.svg\" alt=\"Open In Colab\"/></a>"
      ]
    },
    {
      "cell_type": "code",
      "execution_count": 1,
      "metadata": {
        "colab": {
          "base_uri": "https://localhost:8080/"
        },
        "id": "s0kzMe2mXz63",
        "outputId": "c54ca8a8-f896-4022-ad42-dfb5af519d0e"
      },
      "outputs": [
        {
          "output_type": "stream",
          "name": "stdout",
          "text": [
            "root\n",
            " |-- id: long (nullable = true)\n",
            " |-- comments: string (nullable = true)\n",
            "\n",
            "+---+--------------------+\n",
            "| id|            comments|\n",
            "+---+--------------------+\n",
            "|  1|xxxxxcccistoydoyd...|\n",
            "|  2|uxkxgxyxiydyodiys...|\n",
            "+---+--------------------+\n",
            "\n"
          ]
        }
      ],
      "source": [
        "from pyspark.sql import SparkSession\n",
        "from pyspark.sql.types import StructType, StructField, IntegerType, StringType\n",
        "\n",
        "# Initialize SparkSession\n",
        "spark = SparkSession.builder.appName(\"show\").getOrCreate()\n",
        "\n",
        "# Define the schema\n",
        "schema=['id','comments']\n",
        "data=[(1,'xxxxxcccistoydoydoydoydi22$579ydo'),(2,'uxkxgxyxiydyodiys58e58s7tsutsydyd')]\n",
        "df=spark.createDataFrame(data,schema)\n",
        "df.printSchema()\n",
        "df.show()"
      ]
    },
    {
      "cell_type": "code",
      "source": [
        "df.show(truncate=False)\n",
        "df.show(truncate=5)"
      ],
      "metadata": {
        "colab": {
          "base_uri": "https://localhost:8080/"
        },
        "id": "ooi0ERNqYquz",
        "outputId": "cd59b979-b4d0-43d4-fd70-e18b46246e01"
      },
      "execution_count": 5,
      "outputs": [
        {
          "output_type": "stream",
          "name": "stdout",
          "text": [
            "+---+---------------------------------+\n",
            "|id |comments                         |\n",
            "+---+---------------------------------+\n",
            "|1  |xxxxxcccistoydoydoydoydi22$579ydo|\n",
            "|2  |uxkxgxyxiydyodiys58e58s7tsutsydyd|\n",
            "+---+---------------------------------+\n",
            "\n",
            "+---+--------+\n",
            "| id|comments|\n",
            "+---+--------+\n",
            "|  1|   xx...|\n",
            "|  2|   ux...|\n",
            "+---+--------+\n",
            "\n"
          ]
        }
      ]
    },
    {
      "cell_type": "code",
      "source": [
        "df.show(n=1, truncate=False)"
      ],
      "metadata": {
        "colab": {
          "base_uri": "https://localhost:8080/"
        },
        "id": "EnxJXR7BYw1o",
        "outputId": "d0526e60-2835-4024-8726-b8a8ecc51733"
      },
      "execution_count": 3,
      "outputs": [
        {
          "output_type": "stream",
          "name": "stdout",
          "text": [
            "+---+---------------------------------+\n",
            "|id |comments                         |\n",
            "+---+---------------------------------+\n",
            "|1  |xxxxxcccistoydoydoydoydi22$579ydo|\n",
            "+---+---------------------------------+\n",
            "only showing top 1 row\n",
            "\n"
          ]
        }
      ]
    },
    {
      "cell_type": "code",
      "source": [
        "df.show(n=1, truncate=False, vertical=True)"
      ],
      "metadata": {
        "colab": {
          "base_uri": "https://localhost:8080/"
        },
        "id": "LklezXraY9kk",
        "outputId": "b0fa3b25-1106-4a97-b6ad-c37a9291268a"
      },
      "execution_count": 4,
      "outputs": [
        {
          "output_type": "stream",
          "name": "stdout",
          "text": [
            "-RECORD 0-------------------------------------\n",
            " id       | 1                                 \n",
            " comments | xxxxxcccistoydoydoydoydi22$579ydo \n",
            "only showing top 1 row\n",
            "\n"
          ]
        }
      ]
    }
  ]
}